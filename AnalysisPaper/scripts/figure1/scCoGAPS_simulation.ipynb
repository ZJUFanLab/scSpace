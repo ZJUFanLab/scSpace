{
 "cells": [
  {
   "cell_type": "code",
   "execution_count": 1,
   "id": "283dc7fa-d6f1-45ab-9029-c1a7dfbebf25",
   "metadata": {},
   "outputs": [],
   "source": [
    "import scSpace\n",
    "import scanpy as sc\n",
    "import matplotlib.pyplot as plt\n",
    "import matplotlib.colors as clr\n",
    "import numpy as np\n",
    "import scipy.io\n",
    "import scipy.linalg\n",
    "import sklearn.metrics\n",
    "from sklearn.neighbors import KNeighborsClassifier\n",
    "from sklearn.model_selection import train_test_split\n",
    "import pandas as pd\n",
    "import random\n",
    "import torch\n",
    "import time\n",
    "import warnings\n",
    "warnings.filterwarnings(\"ignore\")"
   ]
  },
  {
   "cell_type": "code",
   "execution_count": 2,
   "id": "0ace1b9a-4e58-4551-a06f-162986102864",
   "metadata": {},
   "outputs": [],
   "source": [
    "def setup_seed(seed):\n",
    "    torch.manual_seed(seed)\n",
    "    torch.cuda.manual_seed_all(seed)\n",
    "    torch.cuda.manual_seed(seed)\n",
    "    np.random.seed(seed)\n",
    "    random.seed(seed)\n",
    "    torch.backends.cudnn.deterministic = True\n",
    "    torch.backends.cudnn.enabled = False\n",
    "    torch.backends.cudnn.benchmark = False"
   ]
  },
  {
   "cell_type": "code",
   "execution_count": 3,
   "id": "d4169230-5223-42f0-9621-3ab1c0a23da7",
   "metadata": {},
   "outputs": [],
   "source": [
    "running_time_all = []"
   ]
  },
  {
   "cell_type": "code",
   "execution_count": 4,
   "id": "07795e08-0c00-4b1e-b6db-05562dd7fc29",
   "metadata": {
    "collapsed": true,
    "jupyter": {
     "outputs_hidden": true
    },
    "tags": []
   },
   "outputs": [
    {
     "name": "stdout",
     "output_type": "stream",
     "text": [
      "Loading data...\n",
      "Data have been loaded.\n",
      "Data have been pre-processed.\n",
      "Beginning training encoder for source domain...\n"
     ]
    },
    {
     "name": "stderr",
     "output_type": "stream",
     "text": [
      "100%|██████████| 1000/1000 [00:10<00:00, 96.93it/s]\n"
     ]
    },
    {
     "name": "stdout",
     "output_type": "stream",
     "text": [
      "Epoch [1000/1000]: Batch loss=82.43310546875\n",
      "Encoder for source domain training finished.\n",
      "Calculating spatial weights using the neighbours of spots...\n",
      "Start at res =  0.5 step =  0.1\n",
      "Res =  0.5 number of clusters =  3\n",
      "Recommended res =  0.5\n",
      "Loading data...\n",
      "Data have been loaded.\n",
      "Data have been pre-processed.\n",
      "Beginning training encoder for source domain...\n"
     ]
    },
    {
     "name": "stderr",
     "output_type": "stream",
     "text": [
      "100%|██████████| 1000/1000 [00:09<00:00, 102.32it/s]\n"
     ]
    },
    {
     "name": "stdout",
     "output_type": "stream",
     "text": [
      "Epoch [1000/1000]: Batch loss=49.28687286376953\n",
      "Encoder for source domain training finished.\n",
      "Calculating spatial weights using the neighbours of spots...\n",
      "Start at res =  0.5 step =  0.1\n",
      "Res =  0.5 number of clusters =  3\n",
      "Res =  0.6 number of clusters =  3\n",
      "Res changed to 0.6\n",
      "Res =  0.7 number of clusters =  3\n",
      "Res changed to 0.7\n",
      "Res =  0.7999999999999999 number of clusters =  4\n",
      "Recommended res =  0.7999999999999999\n",
      "Loading data...\n",
      "Data have been loaded.\n",
      "Data have been pre-processed.\n",
      "Beginning training encoder for source domain...\n"
     ]
    },
    {
     "name": "stderr",
     "output_type": "stream",
     "text": [
      "100%|██████████| 1000/1000 [00:09<00:00, 101.90it/s]\n"
     ]
    },
    {
     "name": "stdout",
     "output_type": "stream",
     "text": [
      "Epoch [1000/1000]: Batch loss=70.09678649902344\n",
      "Encoder for source domain training finished.\n",
      "Calculating spatial weights using the neighbours of spots...\n",
      "Start at res =  0.5 step =  0.1\n",
      "Res =  0.5 number of clusters =  4\n",
      "Res =  0.6 number of clusters =  5\n",
      "Recommended res =  0.6\n",
      "Loading data...\n",
      "Data have been loaded.\n",
      "Data have been pre-processed.\n",
      "Beginning training encoder for source domain...\n"
     ]
    },
    {
     "name": "stderr",
     "output_type": "stream",
     "text": [
      "100%|██████████| 1000/1000 [00:04<00:00, 201.49it/s]\n"
     ]
    },
    {
     "name": "stdout",
     "output_type": "stream",
     "text": [
      "Epoch [1000/1000]: Batch loss=52.41656494140625\n",
      "Encoder for source domain training finished.\n",
      "Calculating spatial weights using the neighbours of spots...\n",
      "Start at res =  0.5 step =  0.1\n",
      "Res =  0.5 number of clusters =  2\n",
      "Res =  0.6 number of clusters =  3\n",
      "Recommended res =  0.6\n",
      "Loading data...\n",
      "Data have been loaded.\n",
      "Data have been pre-processed.\n",
      "Beginning training encoder for source domain...\n"
     ]
    },
    {
     "name": "stderr",
     "output_type": "stream",
     "text": [
      "100%|██████████| 1000/1000 [00:04<00:00, 201.35it/s]\n"
     ]
    },
    {
     "name": "stdout",
     "output_type": "stream",
     "text": [
      "Epoch [1000/1000]: Batch loss=70.47401428222656\n",
      "Encoder for source domain training finished.\n",
      "Calculating spatial weights using the neighbours of spots...\n",
      "Start at res =  0.5 step =  0.1\n",
      "Res =  0.5 number of clusters =  3\n",
      "Res =  0.6 number of clusters =  3\n",
      "Res changed to 0.6\n",
      "Res =  0.7 number of clusters =  4\n",
      "Recommended res =  0.7\n",
      "Loading data...\n",
      "Data have been loaded.\n",
      "Data have been pre-processed.\n",
      "Beginning training encoder for source domain...\n"
     ]
    },
    {
     "name": "stderr",
     "output_type": "stream",
     "text": [
      "100%|██████████| 1000/1000 [00:04<00:00, 201.47it/s]\n"
     ]
    },
    {
     "name": "stdout",
     "output_type": "stream",
     "text": [
      "Epoch [1000/1000]: Batch loss=38.6479606628418\n",
      "Encoder for source domain training finished.\n",
      "Calculating spatial weights using the neighbours of spots...\n",
      "Start at res =  0.5 step =  0.1\n",
      "Res =  0.5 number of clusters =  4\n",
      "Res =  0.6 number of clusters =  4\n",
      "Res changed to 0.6\n",
      "Res =  0.7 number of clusters =  4\n",
      "Res changed to 0.7\n",
      "Res =  0.7999999999999999 number of clusters =  4\n",
      "Res changed to 0.7999999999999999\n",
      "Res =  0.8999999999999999 number of clusters =  4\n",
      "Res changed to 0.8999999999999999\n",
      "Res =  0.9999999999999999 number of clusters =  5\n",
      "Recommended res =  0.9999999999999999\n",
      "Loading data...\n",
      "Data have been loaded.\n",
      "Data have been pre-processed.\n",
      "Beginning training encoder for source domain...\n"
     ]
    },
    {
     "name": "stderr",
     "output_type": "stream",
     "text": [
      "100%|██████████| 1000/1000 [00:14<00:00, 67.91it/s]\n"
     ]
    },
    {
     "name": "stdout",
     "output_type": "stream",
     "text": [
      "Epoch [1000/1000]: Batch loss=25.722890853881836\n",
      "Encoder for source domain training finished.\n",
      "Calculating spatial weights using the neighbours of spots...\n",
      "Start at res =  0.5 step =  0.1\n",
      "Res =  0.5 number of clusters =  4\n",
      "Res =  0.4 number of clusters =  3\n",
      "Recommended res =  0.4\n",
      "Loading data...\n",
      "Data have been loaded.\n",
      "Data have been pre-processed.\n",
      "Beginning training encoder for source domain...\n"
     ]
    },
    {
     "name": "stderr",
     "output_type": "stream",
     "text": [
      "100%|██████████| 1000/1000 [00:14<00:00, 67.87it/s]\n"
     ]
    },
    {
     "name": "stdout",
     "output_type": "stream",
     "text": [
      "Epoch [1000/1000]: Batch loss=149.1537322998047\n",
      "Encoder for source domain training finished.\n",
      "Calculating spatial weights using the neighbours of spots...\n",
      "Start at res =  0.5 step =  0.1\n",
      "Res =  0.5 number of clusters =  3\n",
      "Res =  0.6 number of clusters =  3\n",
      "Res changed to 0.6\n",
      "Res =  0.7 number of clusters =  4\n",
      "Recommended res =  0.7\n",
      "Loading data...\n",
      "Data have been loaded.\n",
      "Data have been pre-processed.\n",
      "Beginning training encoder for source domain...\n"
     ]
    },
    {
     "name": "stderr",
     "output_type": "stream",
     "text": [
      "100%|██████████| 1000/1000 [00:14<00:00, 67.89it/s]\n"
     ]
    },
    {
     "name": "stdout",
     "output_type": "stream",
     "text": [
      "Epoch [1000/1000]: Batch loss=106.32644653320312\n",
      "Encoder for source domain training finished.\n",
      "Calculating spatial weights using the neighbours of spots...\n",
      "Start at res =  0.5 step =  0.1\n",
      "Res =  0.5 number of clusters =  4\n",
      "Res =  0.6 number of clusters =  5\n",
      "Recommended res =  0.6\n",
      "Loading data...\n",
      "Data have been loaded.\n",
      "Data have been pre-processed.\n",
      "Beginning training encoder for source domain...\n"
     ]
    },
    {
     "name": "stderr",
     "output_type": "stream",
     "text": [
      "100%|██████████| 1000/1000 [00:05<00:00, 200.00it/s]\n"
     ]
    },
    {
     "name": "stdout",
     "output_type": "stream",
     "text": [
      "Epoch [1000/1000]: Batch loss=22.088665008544922\n",
      "Encoder for source domain training finished.\n",
      "Calculating spatial weights using the neighbours of spots...\n",
      "Start at res =  0.5 step =  0.1\n",
      "Res =  0.5 number of clusters =  3\n",
      "Recommended res =  0.5\n",
      "Loading data...\n",
      "Data have been loaded.\n",
      "Data have been pre-processed.\n",
      "Beginning training encoder for source domain...\n"
     ]
    },
    {
     "name": "stderr",
     "output_type": "stream",
     "text": [
      "100%|██████████| 1000/1000 [00:09<00:00, 101.04it/s]\n"
     ]
    },
    {
     "name": "stdout",
     "output_type": "stream",
     "text": [
      "Epoch [1000/1000]: Batch loss=89.9552001953125\n",
      "Encoder for source domain training finished.\n",
      "Calculating spatial weights using the neighbours of spots...\n",
      "Start at res =  0.5 step =  0.1\n",
      "Res =  0.5 number of clusters =  3\n",
      "Res =  0.6 number of clusters =  3\n",
      "Res changed to 0.6\n",
      "Res =  0.7 number of clusters =  5\n",
      "Step changed to 0.05\n",
      "Res =  0.65 number of clusters =  4\n",
      "Recommended res =  0.65\n",
      "Loading data...\n",
      "Data have been loaded.\n",
      "Data have been pre-processed.\n",
      "Beginning training encoder for source domain...\n"
     ]
    },
    {
     "name": "stderr",
     "output_type": "stream",
     "text": [
      "100%|██████████| 1000/1000 [00:04<00:00, 200.31it/s]\n"
     ]
    },
    {
     "name": "stdout",
     "output_type": "stream",
     "text": [
      "Epoch [1000/1000]: Batch loss=88.4964370727539\n",
      "Encoder for source domain training finished.\n",
      "Calculating spatial weights using the neighbours of spots...\n",
      "Start at res =  0.5 step =  0.1\n",
      "Res =  0.5 number of clusters =  4\n",
      "Res =  0.6 number of clusters =  4\n",
      "Res changed to 0.6\n",
      "Res =  0.7 number of clusters =  4\n",
      "Res changed to 0.7\n",
      "Res =  0.7999999999999999 number of clusters =  5\n",
      "Recommended res =  0.7999999999999999\n",
      "Loading data...\n",
      "Data have been loaded.\n",
      "Data have been pre-processed.\n",
      "Beginning training encoder for source domain...\n"
     ]
    },
    {
     "name": "stderr",
     "output_type": "stream",
     "text": [
      "100%|██████████| 1000/1000 [00:09<00:00, 100.60it/s]\n"
     ]
    },
    {
     "name": "stdout",
     "output_type": "stream",
     "text": [
      "Epoch [1000/1000]: Batch loss=56.652217864990234\n",
      "Encoder for source domain training finished.\n",
      "Calculating spatial weights using the neighbours of spots...\n",
      "Start at res =  0.5 step =  0.1\n",
      "Res =  0.5 number of clusters =  4\n",
      "Res =  0.4 number of clusters =  3\n",
      "Recommended res =  0.4\n",
      "Loading data...\n",
      "Data have been loaded.\n",
      "Data have been pre-processed.\n",
      "Beginning training encoder for source domain...\n"
     ]
    },
    {
     "name": "stderr",
     "output_type": "stream",
     "text": [
      "100%|██████████| 1000/1000 [00:09<00:00, 101.05it/s]\n"
     ]
    },
    {
     "name": "stdout",
     "output_type": "stream",
     "text": [
      "Epoch [1000/1000]: Batch loss=65.98567199707031\n",
      "Encoder for source domain training finished.\n",
      "Calculating spatial weights using the neighbours of spots...\n",
      "Start at res =  0.5 step =  0.1\n",
      "Res =  0.5 number of clusters =  3\n",
      "Res =  0.6 number of clusters =  4\n",
      "Recommended res =  0.6\n",
      "Loading data...\n",
      "Data have been loaded.\n",
      "Data have been pre-processed.\n",
      "Beginning training encoder for source domain...\n"
     ]
    },
    {
     "name": "stderr",
     "output_type": "stream",
     "text": [
      "100%|██████████| 1000/1000 [00:09<00:00, 100.63it/s]\n"
     ]
    },
    {
     "name": "stdout",
     "output_type": "stream",
     "text": [
      "Epoch [1000/1000]: Batch loss=51.86296463012695\n",
      "Encoder for source domain training finished.\n",
      "Calculating spatial weights using the neighbours of spots...\n",
      "Start at res =  0.5 step =  0.1\n",
      "Res =  0.5 number of clusters =  4\n",
      "Res =  0.6 number of clusters =  5\n",
      "Recommended res =  0.6\n",
      "Loading data...\n",
      "Data have been loaded.\n",
      "Data have been pre-processed.\n",
      "Beginning training encoder for source domain...\n"
     ]
    },
    {
     "name": "stderr",
     "output_type": "stream",
     "text": [
      "100%|██████████| 1000/1000 [00:09<00:00, 100.19it/s]\n"
     ]
    },
    {
     "name": "stdout",
     "output_type": "stream",
     "text": [
      "Epoch [1000/1000]: Batch loss=109.44305419921875\n",
      "Encoder for source domain training finished.\n",
      "Calculating spatial weights using the neighbours of spots...\n",
      "Start at res =  0.5 step =  0.1\n",
      "Res =  0.5 number of clusters =  2\n",
      "Res =  0.6 number of clusters =  2\n",
      "Res changed to 0.6\n",
      "Res =  0.7 number of clusters =  4\n",
      "Recommended res =  0.7\n",
      "Loading data...\n",
      "Data have been loaded.\n",
      "Data have been pre-processed.\n",
      "Beginning training encoder for source domain...\n"
     ]
    },
    {
     "name": "stderr",
     "output_type": "stream",
     "text": [
      "100%|██████████| 1000/1000 [00:09<00:00, 100.58it/s]\n"
     ]
    },
    {
     "name": "stdout",
     "output_type": "stream",
     "text": [
      "Epoch [1000/1000]: Batch loss=144.01309204101562\n",
      "Encoder for source domain training finished.\n",
      "Calculating spatial weights using the neighbours of spots...\n",
      "Start at res =  0.5 step =  0.1\n",
      "Res =  0.5 number of clusters =  6\n",
      "Recommended res =  0.5\n",
      "Loading data...\n",
      "Data have been loaded.\n",
      "Data have been pre-processed.\n",
      "Beginning training encoder for source domain...\n"
     ]
    },
    {
     "name": "stderr",
     "output_type": "stream",
     "text": [
      "100%|██████████| 1000/1000 [00:09<00:00, 100.67it/s]\n"
     ]
    },
    {
     "name": "stdout",
     "output_type": "stream",
     "text": [
      "Epoch [1000/1000]: Batch loss=87.41708374023438\n",
      "Encoder for source domain training finished.\n",
      "Calculating spatial weights using the neighbours of spots...\n",
      "Start at res =  0.5 step =  0.1\n",
      "Res =  0.5 number of clusters =  4\n",
      "Res =  0.6 number of clusters =  4\n",
      "Res changed to 0.6\n",
      "Res =  0.7 number of clusters =  4\n",
      "Res changed to 0.7\n",
      "Res =  0.7999999999999999 number of clusters =  5\n",
      "Res changed to 0.7999999999999999\n",
      "Res =  0.8999999999999999 number of clusters =  5\n",
      "Res changed to 0.8999999999999999\n",
      "Res =  0.9999999999999999 number of clusters =  6\n",
      "Recommended res =  0.9999999999999999\n",
      "Loading data...\n",
      "Data have been loaded.\n",
      "Data have been pre-processed.\n",
      "Beginning training encoder for source domain...\n"
     ]
    },
    {
     "name": "stderr",
     "output_type": "stream",
     "text": [
      "100%|██████████| 1000/1000 [00:09<00:00, 100.87it/s]\n"
     ]
    },
    {
     "name": "stdout",
     "output_type": "stream",
     "text": [
      "Epoch [1000/1000]: Batch loss=83.59341430664062\n",
      "Encoder for source domain training finished.\n",
      "Calculating spatial weights using the neighbours of spots...\n",
      "Start at res =  0.5 step =  0.1\n",
      "Res =  0.5 number of clusters =  10\n",
      "Recommended res =  0.5\n",
      "Loading data...\n",
      "Data have been loaded.\n",
      "Data have been pre-processed.\n",
      "Beginning training encoder for source domain...\n"
     ]
    },
    {
     "name": "stderr",
     "output_type": "stream",
     "text": [
      "100%|██████████| 1000/1000 [00:05<00:00, 199.36it/s]\n"
     ]
    },
    {
     "name": "stdout",
     "output_type": "stream",
     "text": [
      "Epoch [1000/1000]: Batch loss=59.9423828125\n",
      "Encoder for source domain training finished.\n",
      "Calculating spatial weights using the neighbours of spots...\n",
      "Start at res =  0.5 step =  0.1\n",
      "Res =  0.5 number of clusters =  2\n",
      "Res =  0.6 number of clusters =  2\n",
      "Res changed to 0.6\n",
      "Res =  0.7 number of clusters =  4\n",
      "Recommended res =  0.7\n",
      "Loading data...\n",
      "Data have been loaded.\n",
      "Data have been pre-processed.\n",
      "Beginning training encoder for source domain...\n"
     ]
    },
    {
     "name": "stderr",
     "output_type": "stream",
     "text": [
      "100%|██████████| 1000/1000 [00:05<00:00, 199.72it/s]\n"
     ]
    },
    {
     "name": "stdout",
     "output_type": "stream",
     "text": [
      "Epoch [1000/1000]: Batch loss=107.14230346679688\n",
      "Encoder for source domain training finished.\n",
      "Calculating spatial weights using the neighbours of spots...\n",
      "Start at res =  0.5 step =  0.1\n",
      "Res =  0.5 number of clusters =  3\n",
      "Res =  0.6 number of clusters =  4\n",
      "Res changed to 0.6\n",
      "Res =  0.7 number of clusters =  4\n",
      "Res changed to 0.7\n",
      "Res =  0.7999999999999999 number of clusters =  4\n",
      "Res changed to 0.7999999999999999\n",
      "Res =  0.8999999999999999 number of clusters =  5\n",
      "Recommended res =  0.8999999999999999\n",
      "Loading data...\n",
      "Data have been loaded.\n",
      "Data have been pre-processed.\n",
      "Beginning training encoder for source domain...\n"
     ]
    },
    {
     "name": "stderr",
     "output_type": "stream",
     "text": [
      "100%|██████████| 1000/1000 [00:05<00:00, 199.52it/s]\n"
     ]
    },
    {
     "name": "stdout",
     "output_type": "stream",
     "text": [
      "Epoch [1000/1000]: Batch loss=59.75321578979492\n",
      "Encoder for source domain training finished.\n",
      "Calculating spatial weights using the neighbours of spots...\n",
      "Start at res =  0.5 step =  0.1\n",
      "Res =  0.5 number of clusters =  4\n",
      "Res =  0.6 number of clusters =  4\n",
      "Res changed to 0.6\n",
      "Res =  0.7 number of clusters =  4\n",
      "Res changed to 0.7\n",
      "Res =  0.7999999999999999 number of clusters =  4\n",
      "Res changed to 0.7999999999999999\n",
      "Res =  0.8999999999999999 number of clusters =  5\n",
      "Res changed to 0.8999999999999999\n",
      "Res =  0.9999999999999999 number of clusters =  5\n",
      "Res changed to 0.9999999999999999\n",
      "Res =  1.0999999999999999 number of clusters =  6\n",
      "Recommended res =  1.0999999999999999\n",
      "Loading data...\n",
      "Data have been loaded.\n",
      "Data have been pre-processed.\n",
      "Beginning training encoder for source domain...\n"
     ]
    },
    {
     "name": "stderr",
     "output_type": "stream",
     "text": [
      "100%|██████████| 1000/1000 [00:05<00:00, 198.44it/s]\n"
     ]
    },
    {
     "name": "stdout",
     "output_type": "stream",
     "text": [
      "Epoch [1000/1000]: Batch loss=123.40048217773438\n",
      "Encoder for source domain training finished.\n",
      "Calculating spatial weights using the neighbours of spots...\n",
      "Start at res =  0.5 step =  0.1\n",
      "Res =  0.5 number of clusters =  5\n",
      "Res =  0.6 number of clusters =  5\n",
      "Res changed to 0.6\n",
      "Res =  0.7 number of clusters =  5\n",
      "Res changed to 0.7\n",
      "Res =  0.7999999999999999 number of clusters =  5\n",
      "Res changed to 0.7999999999999999\n",
      "Res =  0.8999999999999999 number of clusters =  6\n",
      "Res changed to 0.8999999999999999\n",
      "Res =  0.9999999999999999 number of clusters =  6\n",
      "Res changed to 0.9999999999999999\n",
      "Res =  1.0999999999999999 number of clusters =  6\n",
      "Res changed to 1.0999999999999999\n",
      "Res =  1.2 number of clusters =  6\n",
      "Res changed to 1.2\n",
      "Res =  1.3 number of clusters =  6\n",
      "Res changed to 1.3\n",
      "Res =  1.4000000000000001 number of clusters =  8\n",
      "Step changed to 0.05\n",
      "Res =  1.35 number of clusters =  7\n",
      "Recommended res =  1.35\n",
      "Loading data...\n",
      "Data have been loaded.\n",
      "Data have been pre-processed.\n",
      "Beginning training encoder for source domain...\n"
     ]
    },
    {
     "name": "stderr",
     "output_type": "stream",
     "text": [
      "100%|██████████| 1000/1000 [00:14<00:00, 67.13it/s]\n"
     ]
    },
    {
     "name": "stdout",
     "output_type": "stream",
     "text": [
      "Epoch [1000/1000]: Batch loss=14.876507759094238\n",
      "Encoder for source domain training finished.\n",
      "Calculating spatial weights using the neighbours of spots...\n",
      "Start at res =  0.5 step =  0.1\n",
      "Res =  0.5 number of clusters =  3\n",
      "Res =  0.6 number of clusters =  3\n",
      "Res changed to 0.6\n",
      "Res =  0.7 number of clusters =  7\n",
      "Step changed to 0.05\n",
      "Res =  0.65 number of clusters =  4\n",
      "Recommended res =  0.65\n",
      "Loading data...\n",
      "Data have been loaded.\n",
      "Data have been pre-processed.\n",
      "Beginning training encoder for source domain...\n"
     ]
    },
    {
     "name": "stderr",
     "output_type": "stream",
     "text": [
      "100%|██████████| 1000/1000 [00:14<00:00, 67.31it/s]\n"
     ]
    },
    {
     "name": "stdout",
     "output_type": "stream",
     "text": [
      "Epoch [1000/1000]: Batch loss=117.4378890991211\n",
      "Encoder for source domain training finished.\n",
      "Calculating spatial weights using the neighbours of spots...\n",
      "Start at res =  0.5 step =  0.1\n",
      "Res =  0.5 number of clusters =  4\n",
      "Res =  0.6 number of clusters =  4\n",
      "Res changed to 0.6\n",
      "Res =  0.7 number of clusters =  6\n",
      "Step changed to 0.05\n",
      "Res =  0.65 number of clusters =  4\n",
      "Res changed to 0.65\n",
      "Res =  0.7000000000000001 number of clusters =  6\n",
      "Step changed to 0.025\n",
      "Res =  0.675 number of clusters =  4\n",
      "Res changed to 0.675\n",
      "Res =  0.7000000000000001 number of clusters =  6\n",
      "Step changed to 0.0125\n",
      "Res =  0.6875 number of clusters =  5\n",
      "Recommended res =  0.6875\n",
      "Loading data...\n",
      "Data have been loaded.\n",
      "Data have been pre-processed.\n",
      "Beginning training encoder for source domain...\n"
     ]
    },
    {
     "name": "stderr",
     "output_type": "stream",
     "text": [
      "100%|██████████| 1000/1000 [00:14<00:00, 66.94it/s]\n"
     ]
    },
    {
     "name": "stdout",
     "output_type": "stream",
     "text": [
      "Epoch [1000/1000]: Batch loss=125.86319732666016\n",
      "Encoder for source domain training finished.\n",
      "Calculating spatial weights using the neighbours of spots...\n",
      "Start at res =  0.5 step =  0.1\n",
      "Res =  0.5 number of clusters =  4\n",
      "Res =  0.6 number of clusters =  4\n",
      "Res changed to 0.6\n",
      "Res =  0.7 number of clusters =  5\n",
      "Res changed to 0.7\n",
      "Res =  0.7999999999999999 number of clusters =  6\n",
      "Recommended res =  0.7999999999999999\n",
      "Loading data...\n",
      "Data have been loaded.\n",
      "Data have been pre-processed.\n",
      "Beginning training encoder for source domain...\n"
     ]
    },
    {
     "name": "stderr",
     "output_type": "stream",
     "text": [
      "100%|██████████| 1000/1000 [00:14<00:00, 67.05it/s]\n"
     ]
    },
    {
     "name": "stdout",
     "output_type": "stream",
     "text": [
      "Epoch [1000/1000]: Batch loss=152.15093994140625\n",
      "Encoder for source domain training finished.\n",
      "Calculating spatial weights using the neighbours of spots...\n",
      "Start at res =  0.5 step =  0.1\n",
      "Res =  0.5 number of clusters =  8\n",
      "Res =  0.4 number of clusters =  7\n",
      "Recommended res =  0.4\n",
      "Loading data...\n",
      "Data have been loaded.\n",
      "Data have been pre-processed.\n",
      "Beginning training encoder for source domain...\n"
     ]
    },
    {
     "name": "stderr",
     "output_type": "stream",
     "text": [
      "100%|██████████| 1000/1000 [00:07<00:00, 135.77it/s]\n"
     ]
    },
    {
     "name": "stdout",
     "output_type": "stream",
     "text": [
      "Epoch [1000/1000]: Batch loss=60.4380989074707\n",
      "Encoder for source domain training finished.\n",
      "Calculating spatial weights using the neighbours of spots...\n",
      "Start at res =  0.5 step =  0.1\n",
      "Res =  0.5 number of clusters =  3\n",
      "Res =  0.6 number of clusters =  3\n",
      "Res changed to 0.6\n",
      "Res =  0.7 number of clusters =  4\n",
      "Recommended res =  0.7\n",
      "Loading data...\n",
      "Data have been loaded.\n",
      "Data have been pre-processed.\n",
      "Beginning training encoder for source domain...\n"
     ]
    },
    {
     "name": "stderr",
     "output_type": "stream",
     "text": [
      "100%|██████████| 1000/1000 [00:05<00:00, 199.03it/s]\n"
     ]
    },
    {
     "name": "stdout",
     "output_type": "stream",
     "text": [
      "Epoch [1000/1000]: Batch loss=105.0184326171875\n",
      "Encoder for source domain training finished.\n",
      "Calculating spatial weights using the neighbours of spots...\n",
      "Start at res =  0.5 step =  0.1\n",
      "Res =  0.5 number of clusters =  3\n",
      "Res =  0.6 number of clusters =  3\n",
      "Res changed to 0.6\n",
      "Res =  0.7 number of clusters =  4\n",
      "Res changed to 0.7\n",
      "Res =  0.7999999999999999 number of clusters =  4\n",
      "Res changed to 0.7999999999999999\n",
      "Res =  0.8999999999999999 number of clusters =  4\n",
      "Res changed to 0.8999999999999999\n",
      "Res =  0.9999999999999999 number of clusters =  4\n",
      "Res changed to 0.9999999999999999\n",
      "Res =  1.0999999999999999 number of clusters =  4\n",
      "Res changed to 1.0999999999999999\n",
      "Res =  1.2 number of clusters =  7\n",
      "Step changed to 0.05\n",
      "Res =  1.15 number of clusters =  5\n",
      "Recommended res =  1.15\n",
      "Loading data...\n",
      "Data have been loaded.\n",
      "Data have been pre-processed.\n",
      "Beginning training encoder for source domain...\n"
     ]
    },
    {
     "name": "stderr",
     "output_type": "stream",
     "text": [
      "100%|██████████| 1000/1000 [00:05<00:00, 199.26it/s]\n"
     ]
    },
    {
     "name": "stdout",
     "output_type": "stream",
     "text": [
      "Epoch [1000/1000]: Batch loss=110.60419464111328\n",
      "Encoder for source domain training finished.\n",
      "Calculating spatial weights using the neighbours of spots...\n",
      "Start at res =  0.5 step =  0.1\n",
      "Res =  0.5 number of clusters =  4\n",
      "Res =  0.6 number of clusters =  4\n",
      "Res changed to 0.6\n",
      "Res =  0.7 number of clusters =  5\n",
      "Res changed to 0.7\n",
      "Res =  0.7999999999999999 number of clusters =  5\n",
      "Res changed to 0.7999999999999999\n",
      "Res =  0.8999999999999999 number of clusters =  5\n",
      "Res changed to 0.8999999999999999\n",
      "Res =  0.9999999999999999 number of clusters =  6\n",
      "Recommended res =  0.9999999999999999\n",
      "Loading data...\n",
      "Data have been loaded.\n",
      "Data have been pre-processed.\n",
      "Beginning training encoder for source domain...\n"
     ]
    },
    {
     "name": "stderr",
     "output_type": "stream",
     "text": [
      "100%|██████████| 1000/1000 [00:05<00:00, 198.86it/s]\n"
     ]
    },
    {
     "name": "stdout",
     "output_type": "stream",
     "text": [
      "Epoch [1000/1000]: Batch loss=92.93115997314453\n",
      "Encoder for source domain training finished.\n",
      "Calculating spatial weights using the neighbours of spots...\n",
      "Start at res =  0.5 step =  0.1\n",
      "Res =  0.5 number of clusters =  5\n",
      "Res =  0.6 number of clusters =  5\n",
      "Res changed to 0.6\n",
      "Res =  0.7 number of clusters =  5\n",
      "Res changed to 0.7\n",
      "Res =  0.7999999999999999 number of clusters =  6\n",
      "Res changed to 0.7999999999999999\n",
      "Res =  0.8999999999999999 number of clusters =  7\n",
      "Recommended res =  0.8999999999999999\n",
      "Loading data...\n",
      "Data have been loaded.\n",
      "Data have been pre-processed.\n",
      "Beginning training encoder for source domain...\n"
     ]
    },
    {
     "name": "stderr",
     "output_type": "stream",
     "text": [
      "100%|██████████| 1000/1000 [00:09<00:00, 100.39it/s]\n"
     ]
    },
    {
     "name": "stdout",
     "output_type": "stream",
     "text": [
      "Epoch [1000/1000]: Batch loss=53.36537170410156\n",
      "Encoder for source domain training finished.\n",
      "Calculating spatial weights using the neighbours of spots...\n",
      "Start at res =  0.5 step =  0.1\n",
      "Res =  0.5 number of clusters =  4\n",
      "Recommended res =  0.5\n",
      "Loading data...\n",
      "Data have been loaded.\n",
      "Data have been pre-processed.\n",
      "Beginning training encoder for source domain...\n"
     ]
    },
    {
     "name": "stderr",
     "output_type": "stream",
     "text": [
      "100%|██████████| 1000/1000 [00:05<00:00, 198.91it/s]\n"
     ]
    },
    {
     "name": "stdout",
     "output_type": "stream",
     "text": [
      "Epoch [1000/1000]: Batch loss=112.59725952148438\n",
      "Encoder for source domain training finished.\n",
      "Calculating spatial weights using the neighbours of spots...\n",
      "Start at res =  0.5 step =  0.1\n",
      "Res =  0.5 number of clusters =  4\n",
      "Res =  0.6 number of clusters =  4\n",
      "Res changed to 0.6\n",
      "Res =  0.7 number of clusters =  4\n",
      "Res changed to 0.7\n",
      "Res =  0.7999999999999999 number of clusters =  6\n",
      "Step changed to 0.05\n",
      "Res =  0.75 number of clusters =  5\n",
      "Recommended res =  0.75\n",
      "Loading data...\n",
      "Data have been loaded.\n",
      "Data have been pre-processed.\n",
      "Beginning training encoder for source domain...\n"
     ]
    },
    {
     "name": "stderr",
     "output_type": "stream",
     "text": [
      "100%|██████████| 1000/1000 [00:10<00:00, 99.95it/s]\n"
     ]
    },
    {
     "name": "stdout",
     "output_type": "stream",
     "text": [
      "Epoch [1000/1000]: Batch loss=165.62106323242188\n",
      "Encoder for source domain training finished.\n",
      "Calculating spatial weights using the neighbours of spots...\n",
      "Start at res =  0.5 step =  0.1\n",
      "Res =  0.5 number of clusters =  4\n",
      "Res =  0.6 number of clusters =  5\n",
      "Res changed to 0.6\n",
      "Res =  0.7 number of clusters =  5\n",
      "Res changed to 0.7\n",
      "Res =  0.7999999999999999 number of clusters =  6\n",
      "Recommended res =  0.7999999999999999\n",
      "Loading data...\n",
      "Data have been loaded.\n",
      "Data have been pre-processed.\n",
      "Beginning training encoder for source domain...\n"
     ]
    },
    {
     "name": "stderr",
     "output_type": "stream",
     "text": [
      "100%|██████████| 1000/1000 [00:09<00:00, 100.54it/s]\n"
     ]
    },
    {
     "name": "stdout",
     "output_type": "stream",
     "text": [
      "Epoch [1000/1000]: Batch loss=46.87403869628906\n",
      "Encoder for source domain training finished.\n",
      "Calculating spatial weights using the neighbours of spots...\n",
      "Start at res =  0.5 step =  0.1\n",
      "Res =  0.5 number of clusters =  5\n",
      "Res =  0.6 number of clusters =  6\n",
      "Res changed to 0.6\n",
      "Res =  0.7 number of clusters =  6\n",
      "Res changed to 0.7\n",
      "Res =  0.7999999999999999 number of clusters =  7\n",
      "Recommended res =  0.7999999999999999\n",
      "Loading data...\n",
      "Data have been loaded.\n",
      "Data have been pre-processed.\n",
      "Beginning training encoder for source domain...\n"
     ]
    },
    {
     "name": "stderr",
     "output_type": "stream",
     "text": [
      "100%|██████████| 1000/1000 [00:09<00:00, 100.23it/s]\n"
     ]
    },
    {
     "name": "stdout",
     "output_type": "stream",
     "text": [
      "Epoch [1000/1000]: Batch loss=104.22960662841797\n",
      "Encoder for source domain training finished.\n",
      "Calculating spatial weights using the neighbours of spots...\n",
      "Start at res =  0.5 step =  0.1\n",
      "Res =  0.5 number of clusters =  3\n",
      "Res =  0.6 number of clusters =  3\n",
      "Res changed to 0.6\n",
      "Res =  0.7 number of clusters =  7\n",
      "Step changed to 0.05\n",
      "Res =  0.65 number of clusters =  4\n",
      "Res changed to 0.65\n",
      "Res =  0.7000000000000001 number of clusters =  7\n",
      "Step changed to 0.025\n",
      "Res =  0.675 number of clusters =  6\n",
      "Step changed to 0.0125\n",
      "Res =  0.6625 number of clusters =  5\n",
      "Recommended res =  0.6625\n",
      "Loading data...\n",
      "Data have been loaded.\n",
      "Data have been pre-processed.\n",
      "Beginning training encoder for source domain...\n"
     ]
    },
    {
     "name": "stderr",
     "output_type": "stream",
     "text": [
      "100%|██████████| 1000/1000 [00:09<00:00, 100.64it/s]\n"
     ]
    },
    {
     "name": "stdout",
     "output_type": "stream",
     "text": [
      "Epoch [1000/1000]: Batch loss=94.02447509765625\n",
      "Encoder for source domain training finished.\n",
      "Calculating spatial weights using the neighbours of spots...\n",
      "Start at res =  0.5 step =  0.1\n",
      "Res =  0.5 number of clusters =  5\n",
      "Res =  0.6 number of clusters =  5\n",
      "Res changed to 0.6\n",
      "Res =  0.7 number of clusters =  5\n",
      "Res changed to 0.7\n",
      "Res =  0.7999999999999999 number of clusters =  7\n",
      "Step changed to 0.05\n",
      "Res =  0.75 number of clusters =  6\n",
      "Recommended res =  0.75\n",
      "Loading data...\n",
      "Data have been loaded.\n",
      "Data have been pre-processed.\n",
      "Beginning training encoder for source domain...\n"
     ]
    },
    {
     "name": "stderr",
     "output_type": "stream",
     "text": [
      "100%|██████████| 1000/1000 [00:09<00:00, 100.01it/s]\n"
     ]
    },
    {
     "name": "stdout",
     "output_type": "stream",
     "text": [
      "Epoch [1000/1000]: Batch loss=80.23603820800781\n",
      "Encoder for source domain training finished.\n",
      "Calculating spatial weights using the neighbours of spots...\n",
      "Start at res =  0.5 step =  0.1\n",
      "Res =  0.5 number of clusters =  5\n",
      "Res =  0.6 number of clusters =  5\n",
      "Res changed to 0.6\n",
      "Res =  0.7 number of clusters =  5\n",
      "Res changed to 0.7\n",
      "Res =  0.7999999999999999 number of clusters =  5\n",
      "Res changed to 0.7999999999999999\n",
      "Res =  0.8999999999999999 number of clusters =  6\n",
      "Res changed to 0.8999999999999999\n",
      "Res =  0.9999999999999999 number of clusters =  6\n",
      "Res changed to 0.9999999999999999\n",
      "Res =  1.0999999999999999 number of clusters =  6\n",
      "Res changed to 1.0999999999999999\n",
      "Res =  1.2 number of clusters =  7\n",
      "Res changed to 1.2\n",
      "Res =  1.3 number of clusters =  7\n",
      "Res changed to 1.3\n",
      "Res =  1.4000000000000001 number of clusters =  8\n",
      "Recommended res =  1.4000000000000001\n",
      "Loading data...\n",
      "Data have been loaded.\n",
      "Data have been pre-processed.\n",
      "Beginning training encoder for source domain...\n"
     ]
    },
    {
     "name": "stderr",
     "output_type": "stream",
     "text": [
      "100%|██████████| 1000/1000 [00:05<00:00, 197.83it/s]\n"
     ]
    },
    {
     "name": "stdout",
     "output_type": "stream",
     "text": [
      "Epoch [1000/1000]: Batch loss=107.52897644042969\n",
      "Encoder for source domain training finished.\n",
      "Calculating spatial weights using the neighbours of spots...\n",
      "Start at res =  0.5 step =  0.1\n",
      "Res =  0.5 number of clusters =  3\n",
      "Res =  0.6 number of clusters =  4\n",
      "Res changed to 0.6\n",
      "Res =  0.7 number of clusters =  4\n",
      "Res changed to 0.7\n",
      "Res =  0.7999999999999999 number of clusters =  4\n",
      "Res changed to 0.7999999999999999\n",
      "Res =  0.8999999999999999 number of clusters =  5\n",
      "Recommended res =  0.8999999999999999\n",
      "Loading data...\n",
      "Data have been loaded.\n",
      "Data have been pre-processed.\n",
      "Beginning training encoder for source domain...\n"
     ]
    },
    {
     "name": "stderr",
     "output_type": "stream",
     "text": [
      "100%|██████████| 1000/1000 [00:05<00:00, 199.83it/s]\n"
     ]
    },
    {
     "name": "stdout",
     "output_type": "stream",
     "text": [
      "Epoch [1000/1000]: Batch loss=96.55764770507812\n",
      "Encoder for source domain training finished.\n",
      "Calculating spatial weights using the neighbours of spots...\n",
      "Start at res =  0.5 step =  0.1\n",
      "Res =  0.5 number of clusters =  4\n",
      "Res =  0.6 number of clusters =  4\n",
      "Res changed to 0.6\n",
      "Res =  0.7 number of clusters =  5\n",
      "Res changed to 0.7\n",
      "Res =  0.7999999999999999 number of clusters =  5\n",
      "Res changed to 0.7999999999999999\n",
      "Res =  0.8999999999999999 number of clusters =  5\n",
      "Res changed to 0.8999999999999999\n",
      "Res =  0.9999999999999999 number of clusters =  7\n",
      "Step changed to 0.05\n",
      "Res =  0.95 number of clusters =  6\n",
      "Recommended res =  0.95\n",
      "Loading data...\n",
      "Data have been loaded.\n",
      "Data have been pre-processed.\n",
      "Beginning training encoder for source domain...\n"
     ]
    },
    {
     "name": "stderr",
     "output_type": "stream",
     "text": [
      "100%|██████████| 1000/1000 [00:05<00:00, 199.76it/s]\n"
     ]
    },
    {
     "name": "stdout",
     "output_type": "stream",
     "text": [
      "Epoch [1000/1000]: Batch loss=107.035888671875\n",
      "Encoder for source domain training finished.\n",
      "Calculating spatial weights using the neighbours of spots...\n",
      "Start at res =  0.5 step =  0.1\n",
      "Res =  0.5 number of clusters =  5\n",
      "Res =  0.6 number of clusters =  5\n",
      "Res changed to 0.6\n",
      "Res =  0.7 number of clusters =  6\n",
      "Res changed to 0.7\n",
      "Res =  0.7999999999999999 number of clusters =  6\n",
      "Res changed to 0.7999999999999999\n",
      "Res =  0.8999999999999999 number of clusters =  6\n",
      "Res changed to 0.8999999999999999\n",
      "Res =  0.9999999999999999 number of clusters =  6\n",
      "Res changed to 0.9999999999999999\n",
      "Res =  1.0999999999999999 number of clusters =  7\n",
      "Res changed to 1.0999999999999999\n",
      "Res =  1.2 number of clusters =  7\n",
      "Res changed to 1.2\n",
      "Res =  1.3 number of clusters =  7\n",
      "Res changed to 1.3\n",
      "Res =  1.4000000000000001 number of clusters =  8\n",
      "Recommended res =  1.4000000000000001\n",
      "Loading data...\n",
      "Data have been loaded.\n",
      "Data have been pre-processed.\n",
      "Beginning training encoder for source domain...\n"
     ]
    },
    {
     "name": "stderr",
     "output_type": "stream",
     "text": [
      "100%|██████████| 1000/1000 [00:14<00:00, 67.44it/s]\n"
     ]
    },
    {
     "name": "stdout",
     "output_type": "stream",
     "text": [
      "Epoch [1000/1000]: Batch loss=53.422054290771484\n",
      "Encoder for source domain training finished.\n",
      "Calculating spatial weights using the neighbours of spots...\n",
      "Start at res =  0.5 step =  0.1\n",
      "Res =  0.5 number of clusters =  35\n",
      "Res =  0.4 number of clusters =  35\n",
      "Res changed to 0.4\n",
      "Res =  0.30000000000000004 number of clusters =  34\n",
      "Recommended res =  0.30000000000000004\n",
      "Loading data...\n",
      "Data have been loaded.\n",
      "Data have been pre-processed.\n",
      "Beginning training encoder for source domain...\n"
     ]
    },
    {
     "name": "stderr",
     "output_type": "stream",
     "text": [
      "100%|██████████| 1000/1000 [00:14<00:00, 67.21it/s]\n"
     ]
    },
    {
     "name": "stdout",
     "output_type": "stream",
     "text": [
      "Epoch [1000/1000]: Batch loss=85.5483627319336\n",
      "Encoder for source domain training finished.\n",
      "Calculating spatial weights using the neighbours of spots...\n",
      "Start at res =  0.5 step =  0.1\n",
      "Res =  0.5 number of clusters =  4\n",
      "Res =  0.6 number of clusters =  5\n",
      "Res changed to 0.6\n",
      "Res =  0.7 number of clusters =  6\n",
      "Recommended res =  0.7\n",
      "Loading data...\n",
      "Data have been loaded.\n",
      "Data have been pre-processed.\n",
      "Beginning training encoder for source domain...\n"
     ]
    },
    {
     "name": "stderr",
     "output_type": "stream",
     "text": [
      "100%|██████████| 1000/1000 [00:14<00:00, 67.47it/s]\n"
     ]
    },
    {
     "name": "stdout",
     "output_type": "stream",
     "text": [
      "Epoch [1000/1000]: Batch loss=63.60721206665039\n",
      "Encoder for source domain training finished.\n",
      "Calculating spatial weights using the neighbours of spots...\n",
      "Start at res =  0.5 step =  0.1\n",
      "Res =  0.5 number of clusters =  5\n",
      "Res =  0.6 number of clusters =  6\n",
      "Res changed to 0.6\n",
      "Res =  0.7 number of clusters =  6\n",
      "Res changed to 0.7\n",
      "Res =  0.7999999999999999 number of clusters =  6\n",
      "Res changed to 0.7999999999999999\n",
      "Res =  0.8999999999999999 number of clusters =  7\n",
      "Res changed to 0.8999999999999999\n",
      "Res =  0.9999999999999999 number of clusters =  7\n",
      "Res changed to 0.9999999999999999\n",
      "Res =  1.0999999999999999 number of clusters =  9\n",
      "Step changed to 0.05\n",
      "Res =  1.0499999999999998 number of clusters =  9\n",
      "Step changed to 0.025\n",
      "Res =  1.025 number of clusters =  9\n",
      "Step changed to 0.0125\n",
      "Res =  1.0125 number of clusters =  9\n",
      "Step changed to 0.00625\n",
      "Res =  1.0062499999999999 number of clusters =  10\n",
      "Step changed to 0.003125\n",
      "Res =  1.0031249999999998 number of clusters =  8\n",
      "Recommended res =  1.0031249999999998\n",
      "Loading data...\n",
      "Data have been loaded.\n",
      "Data have been pre-processed.\n",
      "Beginning training encoder for source domain...\n"
     ]
    },
    {
     "name": "stderr",
     "output_type": "stream",
     "text": [
      "100%|██████████| 1000/1000 [00:05<00:00, 197.91it/s]\n"
     ]
    },
    {
     "name": "stdout",
     "output_type": "stream",
     "text": [
      "Epoch [1000/1000]: Batch loss=99.29843139648438\n",
      "Encoder for source domain training finished.\n",
      "Calculating spatial weights using the neighbours of spots...\n",
      "Start at res =  0.5 step =  0.1\n",
      "Res =  0.5 number of clusters =  3\n",
      "Res =  0.6 number of clusters =  5\n",
      "Recommended res =  0.6\n",
      "Loading data...\n",
      "Data have been loaded.\n",
      "Data have been pre-processed.\n",
      "Beginning training encoder for source domain...\n"
     ]
    },
    {
     "name": "stderr",
     "output_type": "stream",
     "text": [
      "100%|██████████| 1000/1000 [00:05<00:00, 198.73it/s]\n"
     ]
    },
    {
     "name": "stdout",
     "output_type": "stream",
     "text": [
      "Epoch [1000/1000]: Batch loss=74.09977722167969\n",
      "Encoder for source domain training finished.\n",
      "Calculating spatial weights using the neighbours of spots...\n",
      "Start at res =  0.5 step =  0.1\n",
      "Res =  0.5 number of clusters =  3\n",
      "Res =  0.6 number of clusters =  3\n",
      "Res changed to 0.6\n",
      "Res =  0.7 number of clusters =  4\n",
      "Res changed to 0.7\n",
      "Res =  0.7999999999999999 number of clusters =  4\n",
      "Res changed to 0.7999999999999999\n",
      "Res =  0.8999999999999999 number of clusters =  4\n",
      "Res changed to 0.8999999999999999\n",
      "Res =  0.9999999999999999 number of clusters =  5\n",
      "Res changed to 0.9999999999999999\n",
      "Res =  1.0999999999999999 number of clusters =  6\n",
      "Recommended res =  1.0999999999999999\n",
      "Loading data...\n",
      "Data have been loaded.\n",
      "Data have been pre-processed.\n",
      "Beginning training encoder for source domain...\n"
     ]
    },
    {
     "name": "stderr",
     "output_type": "stream",
     "text": [
      "100%|██████████| 1000/1000 [00:05<00:00, 198.91it/s]\n"
     ]
    },
    {
     "name": "stdout",
     "output_type": "stream",
     "text": [
      "Epoch [1000/1000]: Batch loss=106.0907974243164\n",
      "Encoder for source domain training finished.\n",
      "Calculating spatial weights using the neighbours of spots...\n",
      "Start at res =  0.5 step =  0.1\n",
      "Res =  0.5 number of clusters =  5\n",
      "Res =  0.6 number of clusters =  5\n",
      "Res changed to 0.6\n",
      "Res =  0.7 number of clusters =  6\n",
      "Res changed to 0.7\n",
      "Res =  0.7999999999999999 number of clusters =  6\n",
      "Res changed to 0.7999999999999999\n",
      "Res =  0.8999999999999999 number of clusters =  7\n",
      "Res changed to 0.8999999999999999\n",
      "Res =  0.9999999999999999 number of clusters =  6\n",
      "Res changed to 0.9999999999999999\n",
      "Res =  1.0999999999999999 number of clusters =  7\n",
      "Res changed to 1.0999999999999999\n",
      "Res =  1.2 number of clusters =  8\n",
      "Recommended res =  1.2\n",
      "Loading data...\n",
      "Data have been loaded.\n",
      "Data have been pre-processed.\n",
      "Beginning training encoder for source domain...\n"
     ]
    },
    {
     "name": "stderr",
     "output_type": "stream",
     "text": [
      "100%|██████████| 1000/1000 [00:09<00:00, 100.11it/s]\n"
     ]
    },
    {
     "name": "stdout",
     "output_type": "stream",
     "text": [
      "Epoch [1000/1000]: Batch loss=82.10240936279297\n",
      "Encoder for source domain training finished.\n",
      "Calculating spatial weights using the neighbours of spots...\n",
      "Start at res =  0.5 step =  0.1\n",
      "Res =  0.5 number of clusters =  4\n",
      "Res =  0.6 number of clusters =  4\n",
      "Res changed to 0.6\n",
      "Res =  0.7 number of clusters =  4\n",
      "Res changed to 0.7\n",
      "Res =  0.7999999999999999 number of clusters =  5\n",
      "Recommended res =  0.7999999999999999\n",
      "Loading data...\n",
      "Data have been loaded.\n",
      "Data have been pre-processed.\n",
      "Beginning training encoder for source domain...\n"
     ]
    },
    {
     "name": "stderr",
     "output_type": "stream",
     "text": [
      "100%|██████████| 1000/1000 [00:09<00:00, 100.62it/s]\n"
     ]
    },
    {
     "name": "stdout",
     "output_type": "stream",
     "text": [
      "Epoch [1000/1000]: Batch loss=61.52866744995117\n",
      "Encoder for source domain training finished.\n",
      "Calculating spatial weights using the neighbours of spots...\n",
      "Start at res =  0.5 step =  0.1\n",
      "Res =  0.5 number of clusters =  3\n",
      "Res =  0.6 number of clusters =  4\n",
      "Res changed to 0.6\n",
      "Res =  0.7 number of clusters =  4\n",
      "Res changed to 0.7\n",
      "Res =  0.7999999999999999 number of clusters =  4\n",
      "Res changed to 0.7999999999999999\n",
      "Res =  0.8999999999999999 number of clusters =  6\n",
      "Recommended res =  0.8999999999999999\n",
      "Loading data...\n",
      "Data have been loaded.\n",
      "Data have been pre-processed.\n",
      "Beginning training encoder for source domain...\n"
     ]
    },
    {
     "name": "stderr",
     "output_type": "stream",
     "text": [
      "100%|██████████| 1000/1000 [00:09<00:00, 100.23it/s]\n"
     ]
    },
    {
     "name": "stdout",
     "output_type": "stream",
     "text": [
      "Epoch [1000/1000]: Batch loss=51.767459869384766\n",
      "Encoder for source domain training finished.\n",
      "Calculating spatial weights using the neighbours of spots...\n",
      "Start at res =  0.5 step =  0.1\n",
      "Res =  0.5 number of clusters =  5\n",
      "Res =  0.6 number of clusters =  5\n",
      "Res changed to 0.6\n",
      "Res =  0.7 number of clusters =  6\n",
      "Res changed to 0.7\n",
      "Res =  0.7999999999999999 number of clusters =  6\n",
      "Res changed to 0.7999999999999999\n",
      "Res =  0.8999999999999999 number of clusters =  7\n",
      "Res changed to 0.8999999999999999\n",
      "Res =  0.9999999999999999 number of clusters =  7\n",
      "Res changed to 0.9999999999999999\n",
      "Res =  1.0999999999999999 number of clusters =  7\n",
      "Res changed to 1.0999999999999999\n",
      "Res =  1.2 number of clusters =  7\n",
      "Res changed to 1.2\n",
      "Res =  1.3 number of clusters =  8\n",
      "Recommended res =  1.3\n"
     ]
    }
   ],
   "source": [
    "# 2,3,4 subclusters (sim5,9,23 error)\n",
    "ct_num = [3, 4, 5, 3, 4, 5, 3, 4, 5, 3, 4, 5, 3, 4, 5,\n",
    "          4, (5+1), 6, (7+3), 4, 5, 6, 7, 4, 5, 6, 7, 4, 5, 6, 7, 4, 5, 6, 7,\n",
    "          5, 6, 8, 5, 6, 8, (5+29), 6, 8, 5, 6, 8, 5, 6, 8]\n",
    "sim_id = ['sim1', 'sim4', 'sim7', 'sim11', 'sim14', 'sim17', 'sim21', 'sim24', 'sim27', 'sim31', 'sim34', 'sim37', 'sim41', 'sim44', 'sim47',\n",
    "          'sim2', 'sim5', 'sim8', 'sim9', 'sim12', 'sim15', 'sim18', 'sim19', 'sim22', 'sim25', 'sim28', 'sim29', 'sim32', 'sim35', 'sim38', 'sim39', 'sim42', 'sim45', 'sim48', 'sim49',\n",
    "          'sim3', 'sim6', 'sim10', 'sim13', 'sim16', 'sim20', 'sim23', 'sim26', 'sim30', 'sim33', 'sim36', 'sim40', 'sim43', 'sim46', 'sim50']\n",
    "\n",
    "\n",
    "for i in range(50):\n",
    "    sc_data_dir = '~/workspace/scSpace/data/[0]simulated_data/original_data/' + sim_id[i] + '_sc_data.csv'\n",
    "    sc_meta_dir = '~/workspace/scSpace/data/[0]simulated_data/original_data/' + sim_id[i] + '_sc_meta.csv'\n",
    "    st_data_dir = '~/workspace/scSpace/data/[0]simulated_data/original_data/' + sim_id[i] + '_st_data.csv'\n",
    "    st_meta_dir = '~/workspace/scSpace/data/[0]simulated_data/original_data/' + sim_id[i] + '_st_meta.csv'\n",
    "    sc_cogaps_dir = '~/workspace/scSpace/data/scCoGAPS/data/' + sim_id[i] + '_sc_cogaps.csv'\n",
    "    st_cogaps_dir = '~/workspace/scSpace/data/scCoGAPS/data/' + sim_id[i] + '_st_cogaps.csv'\n",
    "    \n",
    "    sc_obj, st_obj = scSpace.load_data(sc_data_path=sc_data_dir, sc_meta_path=sc_meta_dir, \n",
    "                                       st_data_path=st_data_dir, st_meta_path=st_meta_dir,\n",
    "                                       spatial_key=['pseudo_x','pseudo_y'])\n",
    "    \n",
    "    # pre-porcess\n",
    "    sc_obj, st_obj = scSpace.preporcess(sc_adata=sc_obj, st_adata=st_obj, \n",
    "                                        st_type='spot', n_features=2000, normalize=True)\n",
    "    \n",
    "    sc_cogaps = pd.read_csv(sc_cogaps_dir, index_col=0)\n",
    "    st_cogaps = pd.read_csv(st_cogaps_dir, index_col=0)\n",
    "    sc_obj.obsm['TCA'] = np.array(sc_cogaps)\n",
    "    st_obj.obsm['TCA'] = np.array(st_cogaps)\n",
    "    \n",
    "    \n",
    "    setup_seed(123)\n",
    "    \n",
    "    starttime = time.time()\n",
    "\n",
    "    st_dataloader = scSpace.utils.get_data_loader(st_adata=st_obj, batch_size=128)\n",
    "    mlp = scSpace.utils.init_model(net=scSpace.models.sample_MLPEncoder(input_size=st_obj.obsm['TCA'].shape[1], common_size=2, hidden_size=128, activation='sigmoid'))\n",
    "    print('Beginning training encoder for source domain...')\n",
    "    losses = []\n",
    "    encoder = scSpace.utils.train(encoder=mlp, losses=losses, data_loader=st_dataloader, lr=0.001, epoch_num=1000, log_epoch=1000)\n",
    "    print('Encoder for source domain training finished.')  \n",
    "    encoder.eval()\n",
    "    sc_tca = np.array(sc_obj.obsm['TCA'])\n",
    "    predict = encoder(scSpace.utils.make_cuda(torch.tensor(sc_tca).to(torch.float32)))\n",
    "    pseudo_space = predict.cpu().detach().numpy()\n",
    "    sc_obj.obsm['pseudo_space'] = pseudo_space\n",
    "    \n",
    "    sc_obj = scSpace.spatial_cluster(sc_obj, Ks=10, Kg=20, target_num=ct_num[i])\n",
    "    \n",
    "    endtime = time.time()\n",
    "    running_time = endtime - starttime\n",
    "    running_time_all.append(running_time)\n",
    "    \n",
    "    pseudo_space_dir = '~/workspace/scSpace/data/scCoGAPS/result/' + sim_id[i] + '_pseudo_space.csv'\n",
    "    scspace_clu_dir = '~/workspace/scSpace/data/scCoGAPS/result/' + sim_id[i] + '_cluster_res.csv'\n",
    "    \n",
    "    pd.DataFrame(sc_obj.obsm['pseudo_space']).to_csv(pseudo_space_dir)\n",
    "    sc_obj.obs.to_csv(scspace_clu_dir)"
   ]
  },
  {
   "cell_type": "code",
   "execution_count": 5,
   "id": "c57d2f96-6177-436a-9a70-3c051fc92e2e",
   "metadata": {},
   "outputs": [],
   "source": [
    "pd.DataFrame(running_time_all).to_csv('~/workspace/scSpace/data/scCoGAPS/result/cluster_runtime_sim1_50.csv')"
   ]
  },
  {
   "cell_type": "code",
   "execution_count": 9,
   "id": "4e8d6bca-81c6-44ee-8d2e-a6432e15d04a",
   "metadata": {},
   "outputs": [],
   "source": [
    "running_time_all = []"
   ]
  },
  {
   "cell_type": "code",
   "execution_count": 10,
   "id": "db5d1a7c-e89b-4ddb-a928-02fa42e4e202",
   "metadata": {
    "collapsed": true,
    "jupyter": {
     "outputs_hidden": true
    },
    "tags": []
   },
   "outputs": [
    {
     "name": "stdout",
     "output_type": "stream",
     "text": [
      "Loading data...\n",
      "Data have been loaded.\n",
      "Data have been pre-processed.\n",
      "Beginning training encoder for source domain...\n"
     ]
    },
    {
     "name": "stderr",
     "output_type": "stream",
     "text": [
      "100%|██████████| 1000/1000 [00:10<00:00, 98.29it/s]\n"
     ]
    },
    {
     "name": "stdout",
     "output_type": "stream",
     "text": [
      "Epoch [1000/1000]: Batch loss=196.15594482421875\n",
      "Encoder for source domain training finished.\n",
      "Calculating spatial weights using the neighbours of spots...\n",
      "Start at res =  0.5 step =  0.1\n",
      "Res =  0.5 number of clusters =  5\n",
      "Res =  0.6 number of clusters =  7\n",
      "Step changed to 0.05\n",
      "Res =  0.55 number of clusters =  7\n",
      "Step changed to 0.025\n",
      "Res =  0.525 number of clusters =  6\n",
      "Recommended res =  0.525\n",
      "Loading data...\n",
      "Data have been loaded.\n",
      "Data have been pre-processed.\n",
      "Beginning training encoder for source domain...\n"
     ]
    },
    {
     "name": "stderr",
     "output_type": "stream",
     "text": [
      "100%|██████████| 1000/1000 [00:10<00:00, 98.58it/s]\n"
     ]
    },
    {
     "name": "stdout",
     "output_type": "stream",
     "text": [
      "Epoch [1000/1000]: Batch loss=135.99365234375\n",
      "Encoder for source domain training finished.\n",
      "Calculating spatial weights using the neighbours of spots...\n",
      "Start at res =  0.5 step =  0.1\n",
      "Res =  0.5 number of clusters =  4\n",
      "Res =  0.6 number of clusters =  4\n",
      "Res changed to 0.6\n",
      "Res =  0.7 number of clusters =  5\n",
      "Res changed to 0.7\n",
      "Res =  0.7999999999999999 number of clusters =  5\n",
      "Res changed to 0.7999999999999999\n",
      "Res =  0.8999999999999999 number of clusters =  6\n",
      "Res changed to 0.8999999999999999\n",
      "Res =  0.9999999999999999 number of clusters =  6\n",
      "Res changed to 0.9999999999999999\n",
      "Res =  1.0999999999999999 number of clusters =  6\n",
      "Res changed to 1.0999999999999999\n",
      "Res =  1.2 number of clusters =  7\n",
      "Recommended res =  1.2\n",
      "Loading data...\n",
      "Data have been loaded.\n",
      "Data have been pre-processed.\n",
      "Beginning training encoder for source domain...\n"
     ]
    },
    {
     "name": "stderr",
     "output_type": "stream",
     "text": [
      "100%|██████████| 1000/1000 [00:10<00:00, 99.23it/s]\n"
     ]
    },
    {
     "name": "stdout",
     "output_type": "stream",
     "text": [
      "Epoch [1000/1000]: Batch loss=83.92070007324219\n",
      "Encoder for source domain training finished.\n",
      "Calculating spatial weights using the neighbours of spots...\n",
      "Start at res =  0.5 step =  0.1\n",
      "Res =  0.5 number of clusters =  27\n",
      "Res =  0.4 number of clusters =  27\n",
      "Res changed to 0.4\n",
      "Res =  0.30000000000000004 number of clusters =  27\n",
      "Res changed to 0.30000000000000004\n",
      "Res =  0.20000000000000004 number of clusters =  27\n",
      "Res changed to 0.20000000000000004\n",
      "Res =  0.10000000000000003 number of clusters =  27\n",
      "Res changed to 0.10000000000000003\n",
      "Res =  2.7755575615628914e-17 number of clusters =  26\n",
      "Recommended res =  2.7755575615628914e-17\n",
      "Loading data...\n",
      "Data have been loaded.\n",
      "Data have been pre-processed.\n",
      "Beginning training encoder for source domain...\n"
     ]
    },
    {
     "name": "stderr",
     "output_type": "stream",
     "text": [
      "100%|██████████| 1000/1000 [00:05<00:00, 196.77it/s]\n"
     ]
    },
    {
     "name": "stdout",
     "output_type": "stream",
     "text": [
      "Epoch [1000/1000]: Batch loss=164.72508239746094\n",
      "Encoder for source domain training finished.\n",
      "Calculating spatial weights using the neighbours of spots...\n",
      "Start at res =  0.5 step =  0.1\n",
      "Res =  0.5 number of clusters =  4\n",
      "Res =  0.6 number of clusters =  4\n",
      "Res changed to 0.6\n",
      "Res =  0.7 number of clusters =  4\n",
      "Res changed to 0.7\n",
      "Res =  0.7999999999999999 number of clusters =  5\n",
      "Res changed to 0.7999999999999999\n",
      "Res =  0.8999999999999999 number of clusters =  7\n",
      "Step changed to 0.05\n",
      "Res =  0.85 number of clusters =  6\n",
      "Recommended res =  0.85\n",
      "Loading data...\n",
      "Data have been loaded.\n",
      "Data have been pre-processed.\n",
      "Beginning training encoder for source domain...\n"
     ]
    },
    {
     "name": "stderr",
     "output_type": "stream",
     "text": [
      "100%|██████████| 1000/1000 [00:05<00:00, 197.98it/s]\n"
     ]
    },
    {
     "name": "stdout",
     "output_type": "stream",
     "text": [
      "Epoch [1000/1000]: Batch loss=166.36404418945312\n",
      "Encoder for source domain training finished.\n",
      "Calculating spatial weights using the neighbours of spots...\n",
      "Start at res =  0.5 step =  0.1\n",
      "Res =  0.5 number of clusters =  4\n",
      "Res =  0.6 number of clusters =  4\n",
      "Res changed to 0.6\n",
      "Res =  0.7 number of clusters =  5\n",
      "Res changed to 0.7\n",
      "Res =  0.7999999999999999 number of clusters =  5\n",
      "Res changed to 0.7999999999999999\n",
      "Res =  0.8999999999999999 number of clusters =  5\n",
      "Res changed to 0.8999999999999999\n",
      "Res =  0.9999999999999999 number of clusters =  7\n",
      "Recommended res =  0.9999999999999999\n",
      "Loading data...\n",
      "Data have been loaded.\n",
      "Data have been pre-processed.\n",
      "Beginning training encoder for source domain...\n"
     ]
    },
    {
     "name": "stderr",
     "output_type": "stream",
     "text": [
      "100%|██████████| 1000/1000 [00:05<00:00, 197.09it/s]\n"
     ]
    },
    {
     "name": "stdout",
     "output_type": "stream",
     "text": [
      "Epoch [1000/1000]: Batch loss=137.12564086914062\n",
      "Encoder for source domain training finished.\n",
      "Calculating spatial weights using the neighbours of spots...\n",
      "Start at res =  0.5 step =  0.1\n",
      "Res =  0.5 number of clusters =  5\n",
      "Res =  0.6 number of clusters =  6\n",
      "Res changed to 0.6\n",
      "Res =  0.7 number of clusters =  6\n",
      "Res changed to 0.7\n",
      "Res =  0.7999999999999999 number of clusters =  6\n",
      "Res changed to 0.7999999999999999\n",
      "Res =  0.8999999999999999 number of clusters =  6\n",
      "Res changed to 0.8999999999999999\n",
      "Res =  0.9999999999999999 number of clusters =  6\n",
      "Res changed to 0.9999999999999999\n",
      "Res =  1.0999999999999999 number of clusters =  7\n",
      "Res changed to 1.0999999999999999\n",
      "Res =  1.2 number of clusters =  8\n",
      "Res changed to 1.2\n",
      "Res =  1.3 number of clusters =  8\n",
      "Res changed to 1.3\n",
      "Res =  1.4000000000000001 number of clusters =  10\n",
      "Step changed to 0.05\n",
      "Res =  1.35 number of clusters =  8\n",
      "Res changed to 1.35\n",
      "Res =  1.4000000000000001 number of clusters =  10\n",
      "Step changed to 0.025\n",
      "Res =  1.375 number of clusters =  8\n",
      "Res changed to 1.375\n",
      "No resolution found, recommended res =  1.375\n",
      "Loading data...\n",
      "Data have been loaded.\n",
      "Data have been pre-processed.\n",
      "Beginning training encoder for source domain...\n"
     ]
    },
    {
     "name": "stderr",
     "output_type": "stream",
     "text": [
      "100%|██████████| 1000/1000 [00:14<00:00, 66.86it/s]\n"
     ]
    },
    {
     "name": "stdout",
     "output_type": "stream",
     "text": [
      "Epoch [1000/1000]: Batch loss=54.91024398803711\n",
      "Encoder for source domain training finished.\n",
      "Calculating spatial weights using the neighbours of spots...\n",
      "Start at res =  0.5 step =  0.1\n",
      "Res =  0.5 number of clusters =  5\n",
      "Res =  0.6 number of clusters =  9\n",
      "Step changed to 0.05\n",
      "Res =  0.55 number of clusters =  6\n",
      "Recommended res =  0.55\n",
      "Loading data...\n",
      "Data have been loaded.\n",
      "Data have been pre-processed.\n",
      "Beginning training encoder for source domain...\n"
     ]
    },
    {
     "name": "stderr",
     "output_type": "stream",
     "text": [
      "100%|██████████| 1000/1000 [00:14<00:00, 66.77it/s]\n"
     ]
    },
    {
     "name": "stdout",
     "output_type": "stream",
     "text": [
      "Epoch [1000/1000]: Batch loss=146.93443298339844\n",
      "Encoder for source domain training finished.\n",
      "Calculating spatial weights using the neighbours of spots...\n",
      "Start at res =  0.5 step =  0.1\n",
      "Res =  0.5 number of clusters =  7\n",
      "Recommended res =  0.5\n",
      "Loading data...\n",
      "Data have been loaded.\n",
      "Data have been pre-processed.\n",
      "Beginning training encoder for source domain...\n"
     ]
    },
    {
     "name": "stderr",
     "output_type": "stream",
     "text": [
      "100%|██████████| 1000/1000 [00:14<00:00, 67.06it/s]\n"
     ]
    },
    {
     "name": "stdout",
     "output_type": "stream",
     "text": [
      "Epoch [1000/1000]: Batch loss=155.92770385742188\n",
      "Encoder for source domain training finished.\n",
      "Calculating spatial weights using the neighbours of spots...\n",
      "Start at res =  0.5 step =  0.1\n",
      "Res =  0.5 number of clusters =  11\n",
      "Res =  0.4 number of clusters =  11\n",
      "Res changed to 0.4\n",
      "Res =  0.30000000000000004 number of clusters =  10\n",
      "Recommended res =  0.30000000000000004\n",
      "Loading data...\n",
      "Data have been loaded.\n",
      "Data have been pre-processed.\n",
      "Beginning training encoder for source domain...\n"
     ]
    },
    {
     "name": "stderr",
     "output_type": "stream",
     "text": [
      "100%|██████████| 1000/1000 [00:05<00:00, 198.76it/s]\n"
     ]
    },
    {
     "name": "stdout",
     "output_type": "stream",
     "text": [
      "Epoch [1000/1000]: Batch loss=122.96220397949219\n",
      "Encoder for source domain training finished.\n",
      "Calculating spatial weights using the neighbours of spots...\n",
      "Start at res =  0.5 step =  0.1\n",
      "Res =  0.5 number of clusters =  4\n",
      "Res =  0.6 number of clusters =  5\n",
      "Res changed to 0.6\n",
      "Res =  0.7 number of clusters =  5\n",
      "Res changed to 0.7\n",
      "Res =  0.7999999999999999 number of clusters =  7\n",
      "Step changed to 0.05\n",
      "Res =  0.75 number of clusters =  6\n",
      "Recommended res =  0.75\n",
      "Loading data...\n",
      "Data have been loaded.\n",
      "Data have been pre-processed.\n",
      "Beginning training encoder for source domain...\n"
     ]
    },
    {
     "name": "stderr",
     "output_type": "stream",
     "text": [
      "100%|██████████| 1000/1000 [00:05<00:00, 198.14it/s]\n"
     ]
    },
    {
     "name": "stdout",
     "output_type": "stream",
     "text": [
      "Epoch [1000/1000]: Batch loss=128.1108856201172\n",
      "Encoder for source domain training finished.\n",
      "Calculating spatial weights using the neighbours of spots...\n",
      "Start at res =  0.5 step =  0.1\n",
      "Res =  0.5 number of clusters =  5\n",
      "Res =  0.6 number of clusters =  5\n",
      "Res changed to 0.6\n",
      "Res =  0.7 number of clusters =  5\n",
      "Res changed to 0.7\n",
      "Res =  0.7999999999999999 number of clusters =  6\n",
      "Res changed to 0.7999999999999999\n",
      "Res =  0.8999999999999999 number of clusters =  6\n",
      "Res changed to 0.8999999999999999\n",
      "Res =  0.9999999999999999 number of clusters =  7\n",
      "Recommended res =  0.9999999999999999\n",
      "Loading data...\n",
      "Data have been loaded.\n",
      "Data have been pre-processed.\n",
      "Beginning training encoder for source domain...\n"
     ]
    },
    {
     "name": "stderr",
     "output_type": "stream",
     "text": [
      "100%|██████████| 1000/1000 [00:05<00:00, 197.38it/s]\n"
     ]
    },
    {
     "name": "stdout",
     "output_type": "stream",
     "text": [
      "Epoch [1000/1000]: Batch loss=116.99150848388672\n",
      "Encoder for source domain training finished.\n",
      "Calculating spatial weights using the neighbours of spots...\n",
      "Start at res =  0.5 step =  0.1\n",
      "Res =  0.5 number of clusters =  6\n",
      "Res =  0.6 number of clusters =  6\n",
      "Res changed to 0.6\n",
      "Res =  0.7 number of clusters =  6\n",
      "Res changed to 0.7\n",
      "Res =  0.7999999999999999 number of clusters =  7\n",
      "Res changed to 0.7999999999999999\n",
      "Res =  0.8999999999999999 number of clusters =  7\n",
      "Res changed to 0.8999999999999999\n",
      "Res =  0.9999999999999999 number of clusters =  8\n",
      "Res changed to 0.9999999999999999\n",
      "Res =  1.0999999999999999 number of clusters =  8\n",
      "Res changed to 1.0999999999999999\n",
      "Res =  1.2 number of clusters =  10\n",
      "Step changed to 0.05\n",
      "Res =  1.15 number of clusters =  10\n",
      "Step changed to 0.025\n",
      "Res =  1.1249999999999998 number of clusters =  10\n",
      "Step changed to 0.0125\n",
      "Res =  1.1124999999999998 number of clusters =  10\n",
      "Step changed to 0.00625\n",
      "Res =  1.10625 number of clusters =  9\n",
      "Recommended res =  1.10625\n",
      "Loading data...\n",
      "Data have been loaded.\n",
      "Data have been pre-processed.\n",
      "Beginning training encoder for source domain...\n"
     ]
    },
    {
     "name": "stderr",
     "output_type": "stream",
     "text": [
      "100%|██████████| 1000/1000 [00:10<00:00, 99.60it/s]\n"
     ]
    },
    {
     "name": "stdout",
     "output_type": "stream",
     "text": [
      "Epoch [1000/1000]: Batch loss=140.6753387451172\n",
      "Encoder for source domain training finished.\n",
      "Calculating spatial weights using the neighbours of spots...\n",
      "Start at res =  0.5 step =  0.1\n",
      "Res =  0.5 number of clusters =  9\n",
      "Res =  0.4 number of clusters =  7\n",
      "Res changed to 0.4\n",
      "Res =  0.30000000000000004 number of clusters =  5\n",
      "Step changed to 0.05\n",
      "Res =  0.35000000000000003 number of clusters =  5\n",
      "Step changed to 0.025\n",
      "Res =  0.375 number of clusters =  5\n",
      "Step changed to 0.0125\n",
      "Res =  0.3875 number of clusters =  6\n",
      "Recommended res =  0.3875\n",
      "Loading data...\n",
      "Data have been loaded.\n",
      "Data have been pre-processed.\n",
      "Beginning training encoder for source domain...\n"
     ]
    },
    {
     "name": "stderr",
     "output_type": "stream",
     "text": [
      "100%|██████████| 1000/1000 [00:10<00:00, 99.68it/s]\n"
     ]
    },
    {
     "name": "stdout",
     "output_type": "stream",
     "text": [
      "Epoch [1000/1000]: Batch loss=86.19343566894531\n",
      "Encoder for source domain training finished.\n",
      "Calculating spatial weights using the neighbours of spots...\n",
      "Start at res =  0.5 step =  0.1\n",
      "Res =  0.5 number of clusters =  5\n",
      "Res =  0.6 number of clusters =  5\n",
      "Res changed to 0.6\n",
      "Res =  0.7 number of clusters =  5\n",
      "Res changed to 0.7\n",
      "Res =  0.7999999999999999 number of clusters =  7\n",
      "Recommended res =  0.7999999999999999\n",
      "Loading data...\n",
      "Data have been loaded.\n",
      "Data have been pre-processed.\n",
      "Beginning training encoder for source domain...\n"
     ]
    },
    {
     "name": "stderr",
     "output_type": "stream",
     "text": [
      "100%|██████████| 1000/1000 [00:10<00:00, 99.63it/s]\n"
     ]
    },
    {
     "name": "stdout",
     "output_type": "stream",
     "text": [
      "Epoch [1000/1000]: Batch loss=120.01861572265625\n",
      "Encoder for source domain training finished.\n",
      "Calculating spatial weights using the neighbours of spots...\n",
      "Start at res =  0.5 step =  0.1\n",
      "Res =  0.5 number of clusters =  10\n",
      "Recommended res =  0.5\n",
      "Loading data...\n",
      "Data have been loaded.\n",
      "Data have been pre-processed.\n",
      "Beginning training encoder for source domain...\n"
     ]
    },
    {
     "name": "stderr",
     "output_type": "stream",
     "text": [
      "100%|██████████| 1000/1000 [00:09<00:00, 100.20it/s]\n"
     ]
    },
    {
     "name": "stdout",
     "output_type": "stream",
     "text": [
      "Epoch [1000/1000]: Batch loss=84.46812438964844\n",
      "Encoder for source domain training finished.\n",
      "Calculating spatial weights using the neighbours of spots...\n",
      "Start at res =  0.5 step =  0.1\n",
      "Res =  0.5 number of clusters =  4\n",
      "Res =  0.6 number of clusters =  5\n",
      "Res changed to 0.6\n",
      "Res =  0.7 number of clusters =  7\n",
      "Recommended res =  0.7\n",
      "Loading data...\n",
      "Data have been loaded.\n",
      "Data have been pre-processed.\n",
      "Beginning training encoder for source domain...\n"
     ]
    },
    {
     "name": "stderr",
     "output_type": "stream",
     "text": [
      "100%|██████████| 1000/1000 [00:10<00:00, 99.81it/s]\n"
     ]
    },
    {
     "name": "stdout",
     "output_type": "stream",
     "text": [
      "Epoch [1000/1000]: Batch loss=123.82968139648438\n",
      "Encoder for source domain training finished.\n",
      "Calculating spatial weights using the neighbours of spots...\n",
      "Start at res =  0.5 step =  0.1\n",
      "Res =  0.5 number of clusters =  5\n",
      "Res =  0.6 number of clusters =  5\n",
      "Res changed to 0.6\n",
      "Res =  0.7 number of clusters =  5\n",
      "Res changed to 0.7\n",
      "Res =  0.7999999999999999 number of clusters =  5\n",
      "Res changed to 0.7999999999999999\n",
      "Res =  0.8999999999999999 number of clusters =  7\n",
      "Res changed to 0.8999999999999999\n",
      "Res =  0.9999999999999999 number of clusters =  9\n",
      "Step changed to 0.05\n",
      "Res =  0.95 number of clusters =  9\n",
      "Step changed to 0.025\n",
      "Res =  0.9249999999999999 number of clusters =  8\n",
      "Recommended res =  0.9249999999999999\n",
      "Loading data...\n",
      "Data have been loaded.\n",
      "Data have been pre-processed.\n",
      "Beginning training encoder for source domain...\n"
     ]
    },
    {
     "name": "stderr",
     "output_type": "stream",
     "text": [
      "100%|██████████| 1000/1000 [00:09<00:00, 100.45it/s]\n"
     ]
    },
    {
     "name": "stdout",
     "output_type": "stream",
     "text": [
      "Epoch [1000/1000]: Batch loss=143.64120483398438\n",
      "Encoder for source domain training finished.\n",
      "Calculating spatial weights using the neighbours of spots...\n",
      "Start at res =  0.5 step =  0.1\n",
      "Res =  0.5 number of clusters =  5\n",
      "Res =  0.6 number of clusters =  6\n",
      "Res changed to 0.6\n",
      "Res =  0.7 number of clusters =  6\n",
      "Res changed to 0.7\n",
      "Res =  0.7999999999999999 number of clusters =  7\n",
      "Res changed to 0.7999999999999999\n",
      "Res =  0.8999999999999999 number of clusters =  7\n",
      "Res changed to 0.8999999999999999\n",
      "Res =  0.9999999999999999 number of clusters =  7\n",
      "Res changed to 0.9999999999999999\n",
      "Res =  1.0999999999999999 number of clusters =  8\n",
      "Res changed to 1.0999999999999999\n",
      "Res =  1.2 number of clusters =  8\n",
      "Res changed to 1.2\n",
      "Res =  1.3 number of clusters =  10\n",
      "Recommended res =  1.3\n",
      "Loading data...\n",
      "Data have been loaded.\n",
      "Data have been pre-processed.\n",
      "Beginning training encoder for source domain...\n"
     ]
    },
    {
     "name": "stderr",
     "output_type": "stream",
     "text": [
      "100%|██████████| 1000/1000 [00:05<00:00, 195.58it/s]\n"
     ]
    },
    {
     "name": "stdout",
     "output_type": "stream",
     "text": [
      "Epoch [1000/1000]: Batch loss=129.25193786621094\n",
      "Encoder for source domain training finished.\n",
      "Calculating spatial weights using the neighbours of spots...\n",
      "Start at res =  0.5 step =  0.1\n",
      "Res =  0.5 number of clusters =  4\n",
      "Res =  0.6 number of clusters =  4\n",
      "Res changed to 0.6\n",
      "Res =  0.7 number of clusters =  4\n",
      "Res changed to 0.7\n",
      "Res =  0.7999999999999999 number of clusters =  7\n",
      "Recommended res =  0.7999999999999999\n",
      "Loading data...\n",
      "Data have been loaded.\n",
      "Data have been pre-processed.\n",
      "Beginning training encoder for source domain...\n"
     ]
    },
    {
     "name": "stderr",
     "output_type": "stream",
     "text": [
      "100%|██████████| 1000/1000 [00:05<00:00, 196.74it/s]\n"
     ]
    },
    {
     "name": "stdout",
     "output_type": "stream",
     "text": [
      "Epoch [1000/1000]: Batch loss=105.10627746582031\n",
      "Encoder for source domain training finished.\n",
      "Calculating spatial weights using the neighbours of spots...\n",
      "Start at res =  0.5 step =  0.1\n",
      "Res =  0.5 number of clusters =  4\n",
      "Res =  0.6 number of clusters =  5\n",
      "Res changed to 0.6\n",
      "Res =  0.7 number of clusters =  5\n",
      "Res changed to 0.7\n",
      "Res =  0.7999999999999999 number of clusters =  5\n",
      "Res changed to 0.7999999999999999\n",
      "Res =  0.8999999999999999 number of clusters =  6\n",
      "Res changed to 0.8999999999999999\n",
      "Res =  0.9999999999999999 number of clusters =  6\n",
      "Res changed to 0.9999999999999999\n",
      "Res =  1.0999999999999999 number of clusters =  6\n",
      "Res changed to 1.0999999999999999\n",
      "Res =  1.2 number of clusters =  7\n",
      "Res changed to 1.2\n",
      "Res =  1.3 number of clusters =  8\n",
      "Recommended res =  1.3\n",
      "Loading data...\n",
      "Data have been loaded.\n",
      "Data have been pre-processed.\n",
      "Beginning training encoder for source domain...\n"
     ]
    },
    {
     "name": "stderr",
     "output_type": "stream",
     "text": [
      "100%|██████████| 1000/1000 [00:05<00:00, 196.87it/s]\n"
     ]
    },
    {
     "name": "stdout",
     "output_type": "stream",
     "text": [
      "Epoch [1000/1000]: Batch loss=108.39840698242188\n",
      "Encoder for source domain training finished.\n",
      "Calculating spatial weights using the neighbours of spots...\n",
      "Start at res =  0.5 step =  0.1\n",
      "Res =  0.5 number of clusters =  5\n",
      "Res =  0.6 number of clusters =  5\n",
      "Res changed to 0.6\n",
      "Res =  0.7 number of clusters =  5\n",
      "Res changed to 0.7\n",
      "Res =  0.7999999999999999 number of clusters =  6\n",
      "Res changed to 0.7999999999999999\n",
      "Res =  0.8999999999999999 number of clusters =  6\n",
      "Res changed to 0.8999999999999999\n",
      "Res =  0.9999999999999999 number of clusters =  6\n",
      "Res changed to 0.9999999999999999\n",
      "Res =  1.0999999999999999 number of clusters =  6\n",
      "Res changed to 1.0999999999999999\n",
      "Res =  1.2 number of clusters =  7\n",
      "Res changed to 1.2\n",
      "Res =  1.3 number of clusters =  7\n",
      "Res changed to 1.3\n",
      "Res =  1.4000000000000001 number of clusters =  9\n",
      "Res changed to 1.4000000000000001\n",
      "Res =  1.5000000000000002 number of clusters =  9\n",
      "Res changed to 1.5000000000000002\n",
      "Res =  1.6000000000000003 number of clusters =  10\n",
      "Recommended res =  1.6000000000000003\n",
      "Loading data...\n",
      "Data have been loaded.\n",
      "Data have been pre-processed.\n",
      "Beginning training encoder for source domain...\n"
     ]
    },
    {
     "name": "stderr",
     "output_type": "stream",
     "text": [
      "100%|██████████| 1000/1000 [00:15<00:00, 66.45it/s]\n"
     ]
    },
    {
     "name": "stdout",
     "output_type": "stream",
     "text": [
      "Epoch [1000/1000]: Batch loss=100.390625\n",
      "Encoder for source domain training finished.\n",
      "Calculating spatial weights using the neighbours of spots...\n",
      "Start at res =  0.5 step =  0.1\n",
      "Res =  0.5 number of clusters =  6\n",
      "Res =  0.6 number of clusters =  8\n",
      "Step changed to 0.05\n",
      "Res =  0.55 number of clusters =  6\n",
      "Res changed to 0.55\n",
      "Res =  0.6000000000000001 number of clusters =  8\n",
      "Step changed to 0.025\n",
      "Res =  0.5750000000000001 number of clusters =  6\n",
      "Res changed to 0.5750000000000001\n",
      "Res =  0.6000000000000001 number of clusters =  8\n",
      "Step changed to 0.0125\n",
      "Res =  0.5875 number of clusters =  7\n",
      "Recommended res =  0.5875\n",
      "Loading data...\n",
      "Data have been loaded.\n",
      "Data have been pre-processed.\n",
      "Beginning training encoder for source domain...\n"
     ]
    },
    {
     "name": "stderr",
     "output_type": "stream",
     "text": [
      "100%|██████████| 1000/1000 [00:15<00:00, 66.45it/s]\n"
     ]
    },
    {
     "name": "stdout",
     "output_type": "stream",
     "text": [
      "Epoch [1000/1000]: Batch loss=108.66547393798828\n",
      "Encoder for source domain training finished.\n",
      "Calculating spatial weights using the neighbours of spots...\n",
      "Start at res =  0.5 step =  0.1\n",
      "Res =  0.5 number of clusters =  6\n",
      "Res =  0.6 number of clusters =  7\n",
      "Res changed to 0.6\n",
      "Res =  0.7 number of clusters =  9\n",
      "Step changed to 0.05\n",
      "Res =  0.65 number of clusters =  8\n",
      "Recommended res =  0.65\n",
      "Loading data...\n",
      "Data have been loaded.\n",
      "Data have been pre-processed.\n",
      "Beginning training encoder for source domain...\n"
     ]
    },
    {
     "name": "stderr",
     "output_type": "stream",
     "text": [
      "100%|██████████| 1000/1000 [00:14<00:00, 68.22it/s]\n"
     ]
    },
    {
     "name": "stdout",
     "output_type": "stream",
     "text": [
      "Epoch [1000/1000]: Batch loss=148.3172149658203\n",
      "Encoder for source domain training finished.\n",
      "Calculating spatial weights using the neighbours of spots...\n",
      "Start at res =  0.5 step =  0.1\n",
      "Res =  0.5 number of clusters =  7\n",
      "Res =  0.6 number of clusters =  6\n",
      "Res changed to 0.6\n",
      "Res =  0.7 number of clusters =  7\n",
      "Res changed to 0.7\n",
      "Res =  0.7999999999999999 number of clusters =  7\n",
      "Res changed to 0.7999999999999999\n",
      "Res =  0.8999999999999999 number of clusters =  8\n",
      "Res changed to 0.8999999999999999\n",
      "Res =  0.9999999999999999 number of clusters =  9\n",
      "Res changed to 0.9999999999999999\n",
      "Res =  1.0999999999999999 number of clusters =  9\n",
      "Res changed to 1.0999999999999999\n",
      "Res =  1.2 number of clusters =  10\n",
      "Recommended res =  1.2\n",
      "Loading data...\n",
      "Data have been loaded.\n",
      "Data have been pre-processed.\n",
      "Beginning training encoder for source domain...\n"
     ]
    },
    {
     "name": "stderr",
     "output_type": "stream",
     "text": [
      "100%|██████████| 1000/1000 [00:04<00:00, 202.79it/s]\n"
     ]
    },
    {
     "name": "stdout",
     "output_type": "stream",
     "text": [
      "Epoch [1000/1000]: Batch loss=132.03363037109375\n",
      "Encoder for source domain training finished.\n",
      "Calculating spatial weights using the neighbours of spots...\n",
      "Start at res =  0.5 step =  0.1\n",
      "Res =  0.5 number of clusters =  6\n",
      "Res =  0.6 number of clusters =  6\n",
      "Res changed to 0.6\n",
      "Res =  0.7 number of clusters =  8\n",
      "Step changed to 0.05\n",
      "Res =  0.65 number of clusters =  7\n",
      "Recommended res =  0.65\n",
      "Loading data...\n",
      "Data have been loaded.\n",
      "Data have been pre-processed.\n",
      "Beginning training encoder for source domain...\n"
     ]
    },
    {
     "name": "stderr",
     "output_type": "stream",
     "text": [
      "100%|██████████| 1000/1000 [00:05<00:00, 196.49it/s]\n"
     ]
    },
    {
     "name": "stdout",
     "output_type": "stream",
     "text": [
      "Epoch [1000/1000]: Batch loss=137.98719787597656\n",
      "Encoder for source domain training finished.\n",
      "Calculating spatial weights using the neighbours of spots...\n",
      "Start at res =  0.5 step =  0.1\n",
      "Res =  0.5 number of clusters =  5\n",
      "Res =  0.6 number of clusters =  7\n",
      "Res changed to 0.6\n",
      "Res =  0.7 number of clusters =  8\n",
      "Recommended res =  0.7\n",
      "Loading data...\n",
      "Data have been loaded.\n",
      "Data have been pre-processed.\n",
      "Beginning training encoder for source domain...\n"
     ]
    },
    {
     "name": "stderr",
     "output_type": "stream",
     "text": [
      "100%|██████████| 1000/1000 [00:05<00:00, 196.84it/s]\n"
     ]
    },
    {
     "name": "stdout",
     "output_type": "stream",
     "text": [
      "Epoch [1000/1000]: Batch loss=89.41893005371094\n",
      "Encoder for source domain training finished.\n",
      "Calculating spatial weights using the neighbours of spots...\n",
      "Start at res =  0.5 step =  0.1\n",
      "Res =  0.5 number of clusters =  10\n",
      "Recommended res =  0.5\n",
      "Loading data...\n",
      "Data have been loaded.\n",
      "Data have been pre-processed.\n",
      "Beginning training encoder for source domain...\n"
     ]
    },
    {
     "name": "stderr",
     "output_type": "stream",
     "text": [
      "100%|██████████| 1000/1000 [00:10<00:00, 99.13it/s]\n"
     ]
    },
    {
     "name": "stdout",
     "output_type": "stream",
     "text": [
      "Epoch [1000/1000]: Batch loss=204.02609252929688\n",
      "Encoder for source domain training finished.\n",
      "Calculating spatial weights using the neighbours of spots...\n",
      "Start at res =  0.5 step =  0.1\n",
      "Res =  0.5 number of clusters =  7\n",
      "Recommended res =  0.5\n",
      "Loading data...\n",
      "Data have been loaded.\n",
      "Data have been pre-processed.\n",
      "Beginning training encoder for source domain...\n"
     ]
    },
    {
     "name": "stderr",
     "output_type": "stream",
     "text": [
      "100%|██████████| 1000/1000 [00:10<00:00, 99.47it/s]\n"
     ]
    },
    {
     "name": "stdout",
     "output_type": "stream",
     "text": [
      "Epoch [1000/1000]: Batch loss=163.53378295898438\n",
      "Encoder for source domain training finished.\n",
      "Calculating spatial weights using the neighbours of spots...\n",
      "Start at res =  0.5 step =  0.1\n",
      "Res =  0.5 number of clusters =  7\n",
      "Res =  0.6 number of clusters =  6\n",
      "Res changed to 0.6\n",
      "Res =  0.7 number of clusters =  9\n",
      "Step changed to 0.05\n",
      "Res =  0.65 number of clusters =  8\n",
      "Recommended res =  0.65\n",
      "Loading data...\n",
      "Data have been loaded.\n",
      "Data have been pre-processed.\n",
      "Beginning training encoder for source domain...\n"
     ]
    },
    {
     "name": "stderr",
     "output_type": "stream",
     "text": [
      "100%|██████████| 1000/1000 [00:10<00:00, 99.06it/s]\n"
     ]
    },
    {
     "name": "stdout",
     "output_type": "stream",
     "text": [
      "Epoch [1000/1000]: Batch loss=56.04264450073242\n",
      "Encoder for source domain training finished.\n",
      "Calculating spatial weights using the neighbours of spots...\n",
      "Start at res =  0.5 step =  0.1\n",
      "Res =  0.5 number of clusters =  6\n",
      "Res =  0.6 number of clusters =  7\n",
      "Res changed to 0.6\n",
      "Res =  0.7 number of clusters =  9\n",
      "Res changed to 0.7\n",
      "Res =  0.7999999999999999 number of clusters =  9\n",
      "Res changed to 0.7999999999999999\n",
      "Res =  0.8999999999999999 number of clusters =  9\n",
      "Res changed to 0.8999999999999999\n",
      "Res =  0.9999999999999999 number of clusters =  10\n",
      "Recommended res =  0.9999999999999999\n",
      "Loading data...\n",
      "Data have been loaded.\n",
      "Data have been pre-processed.\n",
      "Beginning training encoder for source domain...\n"
     ]
    },
    {
     "name": "stderr",
     "output_type": "stream",
     "text": [
      "100%|██████████| 1000/1000 [00:10<00:00, 99.57it/s]\n"
     ]
    },
    {
     "name": "stdout",
     "output_type": "stream",
     "text": [
      "Epoch [1000/1000]: Batch loss=158.79165649414062\n",
      "Encoder for source domain training finished.\n",
      "Calculating spatial weights using the neighbours of spots...\n",
      "Start at res =  0.5 step =  0.1\n",
      "Res =  0.5 number of clusters =  4\n",
      "Res =  0.6 number of clusters =  5\n",
      "Res changed to 0.6\n",
      "Res =  0.7 number of clusters =  8\n",
      "Recommended res =  0.7\n",
      "Loading data...\n",
      "Data have been loaded.\n",
      "Data have been pre-processed.\n",
      "Beginning training encoder for source domain...\n"
     ]
    },
    {
     "name": "stderr",
     "output_type": "stream",
     "text": [
      "100%|██████████| 1000/1000 [00:10<00:00, 99.27it/s]\n"
     ]
    },
    {
     "name": "stdout",
     "output_type": "stream",
     "text": [
      "Epoch [1000/1000]: Batch loss=116.05831909179688\n",
      "Encoder for source domain training finished.\n",
      "Calculating spatial weights using the neighbours of spots...\n",
      "Start at res =  0.5 step =  0.1\n",
      "Res =  0.5 number of clusters =  4\n",
      "Res =  0.6 number of clusters =  5\n",
      "Res changed to 0.6\n",
      "Res =  0.7 number of clusters =  6\n",
      "Res changed to 0.7\n",
      "Res =  0.7999999999999999 number of clusters =  7\n",
      "Res changed to 0.7999999999999999\n",
      "Res =  0.8999999999999999 number of clusters =  7\n",
      "Res changed to 0.8999999999999999\n",
      "Res =  0.9999999999999999 number of clusters =  9\n",
      "Recommended res =  0.9999999999999999\n",
      "Loading data...\n",
      "Data have been loaded.\n",
      "Data have been pre-processed.\n",
      "Beginning training encoder for source domain...\n"
     ]
    },
    {
     "name": "stderr",
     "output_type": "stream",
     "text": [
      "100%|██████████| 1000/1000 [00:10<00:00, 99.53it/s]\n"
     ]
    },
    {
     "name": "stdout",
     "output_type": "stream",
     "text": [
      "Epoch [1000/1000]: Batch loss=161.15170288085938\n",
      "Encoder for source domain training finished.\n",
      "Calculating spatial weights using the neighbours of spots...\n",
      "Start at res =  0.5 step =  0.1\n",
      "Res =  0.5 number of clusters =  6\n",
      "Res =  0.6 number of clusters =  6\n",
      "Res changed to 0.6\n",
      "Res =  0.7 number of clusters =  7\n",
      "Res changed to 0.7\n",
      "Res =  0.7999999999999999 number of clusters =  8\n",
      "Res changed to 0.7999999999999999\n",
      "Res =  0.8999999999999999 number of clusters =  8\n",
      "Res changed to 0.8999999999999999\n",
      "Res =  0.9999999999999999 number of clusters =  9\n",
      "Res changed to 0.9999999999999999\n",
      "Res =  1.0999999999999999 number of clusters =  10\n",
      "Res changed to 1.0999999999999999\n",
      "Res =  1.2 number of clusters =  12\n",
      "Step changed to 0.05\n",
      "Res =  1.15 number of clusters =  11\n",
      "Recommended res =  1.15\n",
      "Loading data...\n",
      "Data have been loaded.\n",
      "Data have been pre-processed.\n",
      "Beginning training encoder for source domain...\n"
     ]
    },
    {
     "name": "stderr",
     "output_type": "stream",
     "text": [
      "100%|██████████| 1000/1000 [00:05<00:00, 196.72it/s]\n"
     ]
    },
    {
     "name": "stdout",
     "output_type": "stream",
     "text": [
      "Epoch [1000/1000]: Batch loss=126.48140716552734\n",
      "Encoder for source domain training finished.\n",
      "Calculating spatial weights using the neighbours of spots...\n",
      "Start at res =  0.5 step =  0.1\n",
      "Res =  0.5 number of clusters =  3\n",
      "Res =  0.6 number of clusters =  3\n",
      "Res changed to 0.6\n",
      "Res =  0.7 number of clusters =  5\n",
      "Res changed to 0.7\n",
      "Res =  0.7999999999999999 number of clusters =  5\n",
      "Res changed to 0.7999999999999999\n",
      "Res =  0.8999999999999999 number of clusters =  7\n",
      "Res changed to 0.8999999999999999\n",
      "Res =  0.9999999999999999 number of clusters =  7\n",
      "Res changed to 0.9999999999999999\n",
      "Res =  1.0999999999999999 number of clusters =  7\n",
      "Res changed to 1.0999999999999999\n",
      "Res =  1.2 number of clusters =  8\n",
      "Recommended res =  1.2\n",
      "Loading data...\n",
      "Data have been loaded.\n",
      "Data have been pre-processed.\n",
      "Beginning training encoder for source domain...\n"
     ]
    },
    {
     "name": "stderr",
     "output_type": "stream",
     "text": [
      "100%|██████████| 1000/1000 [00:04<00:00, 200.50it/s]\n"
     ]
    },
    {
     "name": "stdout",
     "output_type": "stream",
     "text": [
      "Epoch [1000/1000]: Batch loss=150.30857849121094\n",
      "Encoder for source domain training finished.\n",
      "Calculating spatial weights using the neighbours of spots...\n",
      "Start at res =  0.5 step =  0.1\n",
      "Res =  0.5 number of clusters =  4\n",
      "Res =  0.6 number of clusters =  4\n",
      "Res changed to 0.6\n",
      "Res =  0.7 number of clusters =  5\n",
      "Res changed to 0.7\n",
      "Res =  0.7999999999999999 number of clusters =  6\n",
      "Res changed to 0.7999999999999999\n",
      "Res =  0.8999999999999999 number of clusters =  7\n",
      "Res changed to 0.8999999999999999\n",
      "Res =  0.9999999999999999 number of clusters =  8\n",
      "Res changed to 0.9999999999999999\n",
      "Res =  1.0999999999999999 number of clusters =  9\n",
      "Recommended res =  1.0999999999999999\n",
      "Loading data...\n",
      "Data have been loaded.\n",
      "Data have been pre-processed.\n",
      "Beginning training encoder for source domain...\n"
     ]
    },
    {
     "name": "stderr",
     "output_type": "stream",
     "text": [
      "100%|██████████| 1000/1000 [00:04<00:00, 202.84it/s]\n"
     ]
    },
    {
     "name": "stdout",
     "output_type": "stream",
     "text": [
      "Epoch [1000/1000]: Batch loss=142.533447265625\n",
      "Encoder for source domain training finished.\n",
      "Calculating spatial weights using the neighbours of spots...\n",
      "Start at res =  0.5 step =  0.1\n",
      "Res =  0.5 number of clusters =  6\n",
      "Res =  0.6 number of clusters =  6\n",
      "Res changed to 0.6\n",
      "Res =  0.7 number of clusters =  7\n",
      "Res changed to 0.7\n",
      "Res =  0.7999999999999999 number of clusters =  7\n",
      "Res changed to 0.7999999999999999\n",
      "Res =  0.8999999999999999 number of clusters =  7\n",
      "Res changed to 0.8999999999999999\n",
      "Res =  0.9999999999999999 number of clusters =  7\n",
      "Res changed to 0.9999999999999999\n",
      "Res =  1.0999999999999999 number of clusters =  8\n",
      "Res changed to 1.0999999999999999\n",
      "Res =  1.2 number of clusters =  8\n",
      "Res changed to 1.2\n",
      "Res =  1.3 number of clusters =  9\n",
      "Res changed to 1.3\n",
      "Res =  1.4000000000000001 number of clusters =  11\n",
      "Recommended res =  1.4000000000000001\n",
      "Loading data...\n",
      "Data have been loaded.\n",
      "Data have been pre-processed.\n",
      "Beginning training encoder for source domain...\n"
     ]
    },
    {
     "name": "stderr",
     "output_type": "stream",
     "text": [
      "100%|██████████| 1000/1000 [00:15<00:00, 65.88it/s]\n"
     ]
    },
    {
     "name": "stdout",
     "output_type": "stream",
     "text": [
      "Epoch [1000/1000]: Batch loss=149.57289123535156\n",
      "Encoder for source domain training finished.\n",
      "Calculating spatial weights using the neighbours of spots...\n",
      "Start at res =  0.5 step =  0.1\n",
      "Res =  0.5 number of clusters =  7\n",
      "Res =  0.6 number of clusters =  8\n",
      "Recommended res =  0.6\n",
      "Loading data...\n",
      "Data have been loaded.\n",
      "Data have been pre-processed.\n",
      "Beginning training encoder for source domain...\n"
     ]
    },
    {
     "name": "stderr",
     "output_type": "stream",
     "text": [
      "100%|██████████| 1000/1000 [00:14<00:00, 66.73it/s]\n"
     ]
    },
    {
     "name": "stdout",
     "output_type": "stream",
     "text": [
      "Epoch [1000/1000]: Batch loss=133.59278869628906\n",
      "Encoder for source domain training finished.\n",
      "Calculating spatial weights using the neighbours of spots...\n",
      "Start at res =  0.5 step =  0.1\n",
      "Res =  0.5 number of clusters =  6\n",
      "Res =  0.6 number of clusters =  6\n",
      "Res changed to 0.6\n",
      "Res =  0.7 number of clusters =  7\n",
      "Res changed to 0.7\n",
      "Res =  0.7999999999999999 number of clusters =  10\n",
      "Step changed to 0.05\n",
      "Res =  0.75 number of clusters =  11\n",
      "Step changed to 0.025\n",
      "Res =  0.725 number of clusters =  7\n",
      "Res changed to 0.725\n",
      "Res =  0.75 number of clusters =  11\n",
      "Step changed to 0.0125\n",
      "Res =  0.7374999999999999 number of clusters =  10\n",
      "Step changed to 0.00625\n",
      "Res =  0.73125 number of clusters =  9\n",
      "Recommended res =  0.73125\n",
      "Loading data...\n",
      "Data have been loaded.\n",
      "Data have been pre-processed.\n",
      "Beginning training encoder for source domain...\n"
     ]
    },
    {
     "name": "stderr",
     "output_type": "stream",
     "text": [
      "100%|██████████| 1000/1000 [00:15<00:00, 66.42it/s]\n"
     ]
    },
    {
     "name": "stdout",
     "output_type": "stream",
     "text": [
      "Epoch [1000/1000]: Batch loss=89.45513153076172\n",
      "Encoder for source domain training finished.\n",
      "Calculating spatial weights using the neighbours of spots...\n",
      "Start at res =  0.5 step =  0.1\n",
      "Res =  0.5 number of clusters =  32\n",
      "Res =  0.4 number of clusters =  31\n",
      "Res changed to 0.4\n",
      "Res =  0.30000000000000004 number of clusters =  30\n",
      "Recommended res =  0.30000000000000004\n",
      "Loading data...\n",
      "Data have been loaded.\n",
      "Data have been pre-processed.\n",
      "Beginning training encoder for source domain...\n"
     ]
    },
    {
     "name": "stderr",
     "output_type": "stream",
     "text": [
      "100%|██████████| 1000/1000 [00:05<00:00, 197.70it/s]\n"
     ]
    },
    {
     "name": "stdout",
     "output_type": "stream",
     "text": [
      "Epoch [1000/1000]: Batch loss=163.7401123046875\n",
      "Encoder for source domain training finished.\n",
      "Calculating spatial weights using the neighbours of spots...\n",
      "Start at res =  0.5 step =  0.1\n",
      "Res =  0.5 number of clusters =  5\n",
      "Res =  0.6 number of clusters =  7\n",
      "Res changed to 0.6\n",
      "Res =  0.7 number of clusters =  6\n",
      "Res changed to 0.7\n",
      "Res =  0.7999999999999999 number of clusters =  11\n",
      "Step changed to 0.05\n",
      "Res =  0.75 number of clusters =  7\n",
      "Res changed to 0.75\n",
      "Res =  0.8 number of clusters =  11\n",
      "Step changed to 0.025\n",
      "Res =  0.775 number of clusters =  8\n",
      "Recommended res =  0.775\n",
      "Loading data...\n",
      "Data have been loaded.\n",
      "Data have been pre-processed.\n",
      "Beginning training encoder for source domain...\n"
     ]
    },
    {
     "name": "stderr",
     "output_type": "stream",
     "text": [
      "100%|██████████| 1000/1000 [00:05<00:00, 197.59it/s]\n"
     ]
    },
    {
     "name": "stdout",
     "output_type": "stream",
     "text": [
      "Epoch [1000/1000]: Batch loss=131.1865997314453\n",
      "Encoder for source domain training finished.\n",
      "Calculating spatial weights using the neighbours of spots...\n",
      "Start at res =  0.5 step =  0.1\n",
      "Res =  0.5 number of clusters =  5\n",
      "Res =  0.6 number of clusters =  6\n",
      "Res changed to 0.6\n",
      "Res =  0.7 number of clusters =  6\n",
      "Res changed to 0.7\n",
      "Res =  0.7999999999999999 number of clusters =  7\n",
      "Res changed to 0.7999999999999999\n",
      "Res =  0.8999999999999999 number of clusters =  9\n",
      "Recommended res =  0.8999999999999999\n",
      "Loading data...\n",
      "Data have been loaded.\n",
      "Data have been pre-processed.\n",
      "Beginning training encoder for source domain...\n"
     ]
    },
    {
     "name": "stderr",
     "output_type": "stream",
     "text": [
      "100%|██████████| 1000/1000 [00:05<00:00, 197.20it/s]\n"
     ]
    },
    {
     "name": "stdout",
     "output_type": "stream",
     "text": [
      "Epoch [1000/1000]: Batch loss=110.24654388427734\n",
      "Encoder for source domain training finished.\n",
      "Calculating spatial weights using the neighbours of spots...\n",
      "Start at res =  0.5 step =  0.1\n",
      "Res =  0.5 number of clusters =  15\n",
      "Res =  0.4 number of clusters =  14\n",
      "Res changed to 0.4\n",
      "Res =  0.30000000000000004 number of clusters =  14\n",
      "Res changed to 0.30000000000000004\n",
      "Res =  0.20000000000000004 number of clusters =  14\n",
      "Res changed to 0.20000000000000004\n",
      "Res =  0.10000000000000003 number of clusters =  14\n",
      "Res changed to 0.10000000000000003\n",
      "Res =  2.7755575615628914e-17 number of clusters =  13\n",
      "Recommended res =  2.7755575615628914e-17\n",
      "Loading data...\n",
      "Data have been loaded.\n",
      "Data have been pre-processed.\n",
      "Beginning training encoder for source domain...\n"
     ]
    },
    {
     "name": "stderr",
     "output_type": "stream",
     "text": [
      "100%|██████████| 1000/1000 [00:10<00:00, 99.54it/s]\n"
     ]
    },
    {
     "name": "stdout",
     "output_type": "stream",
     "text": [
      "Epoch [1000/1000]: Batch loss=104.53901672363281\n",
      "Encoder for source domain training finished.\n",
      "Calculating spatial weights using the neighbours of spots...\n",
      "Start at res =  0.5 step =  0.1\n",
      "Res =  0.5 number of clusters =  5\n",
      "Res =  0.6 number of clusters =  8\n",
      "Recommended res =  0.6\n",
      "Loading data...\n",
      "Data have been loaded.\n",
      "Data have been pre-processed.\n",
      "Beginning training encoder for source domain...\n"
     ]
    },
    {
     "name": "stderr",
     "output_type": "stream",
     "text": [
      "100%|██████████| 1000/1000 [00:10<00:00, 99.90it/s]\n"
     ]
    },
    {
     "name": "stdout",
     "output_type": "stream",
     "text": [
      "Epoch [1000/1000]: Batch loss=54.89043426513672\n",
      "Encoder for source domain training finished.\n",
      "Calculating spatial weights using the neighbours of spots...\n",
      "Start at res =  0.5 step =  0.1\n",
      "Res =  0.5 number of clusters =  6\n",
      "Res =  0.6 number of clusters =  5\n",
      "Res changed to 0.6\n",
      "Res =  0.7 number of clusters =  7\n",
      "Res changed to 0.7\n",
      "Res =  0.7999999999999999 number of clusters =  12\n",
      "Step changed to 0.05\n",
      "Res =  0.75 number of clusters =  8\n",
      "Res changed to 0.75\n",
      "Res =  0.8 number of clusters =  12\n",
      "Step changed to 0.025\n",
      "Res =  0.775 number of clusters =  10\n",
      "Step changed to 0.0125\n",
      "Res =  0.7625 number of clusters =  9\n",
      "Recommended res =  0.7625\n",
      "Loading data...\n",
      "Data have been loaded.\n",
      "Data have been pre-processed.\n",
      "Beginning training encoder for source domain...\n"
     ]
    },
    {
     "name": "stderr",
     "output_type": "stream",
     "text": [
      "100%|██████████| 1000/1000 [00:10<00:00, 99.38it/s]\n"
     ]
    },
    {
     "name": "stdout",
     "output_type": "stream",
     "text": [
      "Epoch [1000/1000]: Batch loss=148.49609375\n",
      "Encoder for source domain training finished.\n",
      "Calculating spatial weights using the neighbours of spots...\n",
      "Start at res =  0.5 step =  0.1\n",
      "Res =  0.5 number of clusters =  7\n",
      "Res =  0.6 number of clusters =  7\n",
      "Res changed to 0.6\n",
      "Res =  0.7 number of clusters =  8\n",
      "Res changed to 0.7\n",
      "Res =  0.7999999999999999 number of clusters =  9\n",
      "Res changed to 0.7999999999999999\n",
      "Res =  0.8999999999999999 number of clusters =  10\n",
      "Res changed to 0.8999999999999999\n",
      "Res =  0.9999999999999999 number of clusters =  11\n",
      "Recommended res =  0.9999999999999999\n",
      "Loading data...\n",
      "Data have been loaded.\n",
      "Data have been pre-processed.\n",
      "Beginning training encoder for source domain...\n"
     ]
    },
    {
     "name": "stderr",
     "output_type": "stream",
     "text": [
      "100%|██████████| 1000/1000 [00:10<00:00, 99.90it/s]\n"
     ]
    },
    {
     "name": "stdout",
     "output_type": "stream",
     "text": [
      "Epoch [1000/1000]: Batch loss=123.0479736328125\n",
      "Encoder for source domain training finished.\n",
      "Calculating spatial weights using the neighbours of spots...\n",
      "Start at res =  0.5 step =  0.1\n",
      "Res =  0.5 number of clusters =  5\n",
      "Res =  0.6 number of clusters =  6\n",
      "Res changed to 0.6\n",
      "Res =  0.7 number of clusters =  7\n",
      "Res changed to 0.7\n",
      "Res =  0.7999999999999999 number of clusters =  10\n",
      "Step changed to 0.05\n",
      "Res =  0.75 number of clusters =  8\n",
      "Res changed to 0.75\n",
      "Res =  0.8 number of clusters =  10\n",
      "Step changed to 0.025\n",
      "Res =  0.775 number of clusters =  8\n",
      "Res changed to 0.775\n",
      "Res =  0.8 number of clusters =  10\n",
      "Step changed to 0.0125\n",
      "Res =  0.7875 number of clusters =  10\n",
      "Step changed to 0.00625\n",
      "Res =  0.78125 number of clusters =  8\n",
      "Res changed to 0.78125\n",
      "Res =  0.7875 number of clusters =  10\n",
      "Step changed to 0.003125\n",
      "Res =  0.784375 number of clusters =  10\n",
      "Step changed to 0.0015625\n",
      "Res =  0.7828125 number of clusters =  10\n",
      "Step changed to 0.00078125\n",
      "No resolution found, recommended res =  0.78125\n",
      "Loading data...\n",
      "Data have been loaded.\n",
      "Data have been pre-processed.\n",
      "Beginning training encoder for source domain...\n"
     ]
    },
    {
     "name": "stderr",
     "output_type": "stream",
     "text": [
      "100%|██████████| 1000/1000 [00:10<00:00, 99.54it/s]\n"
     ]
    },
    {
     "name": "stdout",
     "output_type": "stream",
     "text": [
      "Epoch [1000/1000]: Batch loss=97.92176818847656\n",
      "Encoder for source domain training finished.\n",
      "Calculating spatial weights using the neighbours of spots...\n",
      "Start at res =  0.5 step =  0.1\n",
      "Res =  0.5 number of clusters =  5\n",
      "Res =  0.6 number of clusters =  7\n",
      "Res changed to 0.6\n",
      "Res =  0.7 number of clusters =  7\n",
      "Res changed to 0.7\n",
      "Res =  0.7999999999999999 number of clusters =  8\n",
      "Res changed to 0.7999999999999999\n",
      "Res =  0.8999999999999999 number of clusters =  10\n",
      "Recommended res =  0.8999999999999999\n",
      "Loading data...\n",
      "Data have been loaded.\n",
      "Data have been pre-processed.\n",
      "Beginning training encoder for source domain...\n"
     ]
    },
    {
     "name": "stderr",
     "output_type": "stream",
     "text": [
      "100%|██████████| 1000/1000 [00:09<00:00, 100.78it/s]\n"
     ]
    },
    {
     "name": "stdout",
     "output_type": "stream",
     "text": [
      "Epoch [1000/1000]: Batch loss=133.27310180664062\n",
      "Encoder for source domain training finished.\n",
      "Calculating spatial weights using the neighbours of spots...\n",
      "Start at res =  0.5 step =  0.1\n",
      "Res =  0.5 number of clusters =  6\n",
      "Res =  0.6 number of clusters =  6\n",
      "Res changed to 0.6\n",
      "Res =  0.7 number of clusters =  7\n",
      "Res changed to 0.7\n",
      "Res =  0.7999999999999999 number of clusters =  7\n",
      "Res changed to 0.7999999999999999\n",
      "Res =  0.8999999999999999 number of clusters =  7\n",
      "Res changed to 0.8999999999999999\n",
      "Res =  0.9999999999999999 number of clusters =  7\n",
      "Res changed to 0.9999999999999999\n",
      "Res =  1.0999999999999999 number of clusters =  8\n",
      "Res changed to 1.0999999999999999\n",
      "Res =  1.2 number of clusters =  9\n",
      "Res changed to 1.2\n",
      "Res =  1.3 number of clusters =  10\n",
      "Res changed to 1.3\n",
      "Res =  1.4000000000000001 number of clusters =  11\n",
      "Res changed to 1.4000000000000001\n",
      "Res =  1.5000000000000002 number of clusters =  12\n",
      "Recommended res =  1.5000000000000002\n",
      "Loading data...\n",
      "Data have been loaded.\n",
      "Data have been pre-processed.\n",
      "Beginning training encoder for source domain...\n"
     ]
    },
    {
     "name": "stderr",
     "output_type": "stream",
     "text": [
      "100%|██████████| 1000/1000 [00:05<00:00, 199.72it/s]\n"
     ]
    },
    {
     "name": "stdout",
     "output_type": "stream",
     "text": [
      "Epoch [1000/1000]: Batch loss=85.83158874511719\n",
      "Encoder for source domain training finished.\n",
      "Calculating spatial weights using the neighbours of spots...\n",
      "Start at res =  0.5 step =  0.1\n",
      "Res =  0.5 number of clusters =  3\n",
      "Res =  0.6 number of clusters =  4\n",
      "Res changed to 0.6\n",
      "Res =  0.7 number of clusters =  5\n",
      "Res changed to 0.7\n",
      "Res =  0.7999999999999999 number of clusters =  5\n",
      "Res changed to 0.7999999999999999\n",
      "Res =  0.8999999999999999 number of clusters =  7\n",
      "Res changed to 0.8999999999999999\n",
      "Res =  0.9999999999999999 number of clusters =  8\n",
      "Res changed to 0.9999999999999999\n",
      "Res =  1.0999999999999999 number of clusters =  9\n",
      "Recommended res =  1.0999999999999999\n",
      "Loading data...\n",
      "Data have been loaded.\n",
      "Data have been pre-processed.\n",
      "Beginning training encoder for source domain...\n"
     ]
    },
    {
     "name": "stderr",
     "output_type": "stream",
     "text": [
      "100%|██████████| 1000/1000 [00:04<00:00, 200.58it/s]\n"
     ]
    },
    {
     "name": "stdout",
     "output_type": "stream",
     "text": [
      "Epoch [1000/1000]: Batch loss=147.82742309570312\n",
      "Encoder for source domain training finished.\n",
      "Calculating spatial weights using the neighbours of spots...\n",
      "Start at res =  0.5 step =  0.1\n",
      "Res =  0.5 number of clusters =  4\n",
      "Res =  0.6 number of clusters =  5\n",
      "Res changed to 0.6\n",
      "Res =  0.7 number of clusters =  7\n",
      "Res changed to 0.7\n",
      "Res =  0.7999999999999999 number of clusters =  7\n",
      "Res changed to 0.7999999999999999\n",
      "Res =  0.8999999999999999 number of clusters =  8\n",
      "Res changed to 0.8999999999999999\n",
      "Res =  0.9999999999999999 number of clusters =  9\n",
      "Res changed to 0.9999999999999999\n",
      "Res =  1.0999999999999999 number of clusters =  10\n",
      "Recommended res =  1.0999999999999999\n",
      "Loading data...\n",
      "Data have been loaded.\n",
      "Data have been pre-processed.\n",
      "Beginning training encoder for source domain...\n"
     ]
    },
    {
     "name": "stderr",
     "output_type": "stream",
     "text": [
      "100%|██████████| 1000/1000 [00:05<00:00, 199.86it/s]\n"
     ]
    },
    {
     "name": "stdout",
     "output_type": "stream",
     "text": [
      "Epoch [1000/1000]: Batch loss=156.8922882080078\n",
      "Encoder for source domain training finished.\n",
      "Calculating spatial weights using the neighbours of spots...\n",
      "Start at res =  0.5 step =  0.1\n",
      "Res =  0.5 number of clusters =  5\n",
      "Res =  0.6 number of clusters =  5\n",
      "Res changed to 0.6\n",
      "Res =  0.7 number of clusters =  6\n",
      "Res changed to 0.7\n",
      "Res =  0.7999999999999999 number of clusters =  7\n",
      "Res changed to 0.7999999999999999\n",
      "Res =  0.8999999999999999 number of clusters =  7\n",
      "Res changed to 0.8999999999999999\n",
      "Res =  0.9999999999999999 number of clusters =  8\n",
      "Res changed to 0.9999999999999999\n",
      "Res =  1.0999999999999999 number of clusters =  9\n",
      "Res changed to 1.0999999999999999\n",
      "Res =  1.2 number of clusters =  10\n",
      "Res changed to 1.2\n",
      "Res =  1.3 number of clusters =  10\n",
      "Res changed to 1.3\n",
      "Res =  1.4000000000000001 number of clusters =  10\n",
      "Res changed to 1.4000000000000001\n",
      "Res =  1.5000000000000002 number of clusters =  12\n",
      "Recommended res =  1.5000000000000002\n",
      "Loading data...\n",
      "Data have been loaded.\n",
      "Data have been pre-processed.\n",
      "Beginning training encoder for source domain...\n"
     ]
    },
    {
     "name": "stderr",
     "output_type": "stream",
     "text": [
      "100%|██████████| 1000/1000 [00:14<00:00, 67.41it/s]\n"
     ]
    },
    {
     "name": "stdout",
     "output_type": "stream",
     "text": [
      "Epoch [1000/1000]: Batch loss=118.37152099609375\n",
      "Encoder for source domain training finished.\n",
      "Calculating spatial weights using the neighbours of spots...\n",
      "Start at res =  0.5 step =  0.1\n",
      "Res =  0.5 number of clusters =  4\n",
      "Res =  0.6 number of clusters =  6\n",
      "Res changed to 0.6\n",
      "Res =  0.7 number of clusters =  6\n",
      "Res changed to 0.7\n",
      "Res =  0.7999999999999999 number of clusters =  9\n",
      "Recommended res =  0.7999999999999999\n",
      "Loading data...\n",
      "Data have been loaded.\n",
      "Data have been pre-processed.\n",
      "Beginning training encoder for source domain...\n"
     ]
    },
    {
     "name": "stderr",
     "output_type": "stream",
     "text": [
      "100%|██████████| 1000/1000 [00:14<00:00, 67.09it/s]\n"
     ]
    },
    {
     "name": "stdout",
     "output_type": "stream",
     "text": [
      "Epoch [1000/1000]: Batch loss=133.1361083984375\n",
      "Encoder for source domain training finished.\n",
      "Calculating spatial weights using the neighbours of spots...\n",
      "Start at res =  0.5 step =  0.1\n",
      "Res =  0.5 number of clusters =  6\n",
      "Res =  0.6 number of clusters =  8\n",
      "Res changed to 0.6\n",
      "Res =  0.7 number of clusters =  8\n",
      "Res changed to 0.7\n",
      "Res =  0.7999999999999999 number of clusters =  9\n",
      "Res changed to 0.7999999999999999\n",
      "Res =  0.8999999999999999 number of clusters =  11\n",
      "Step changed to 0.05\n",
      "Res =  0.85 number of clusters =  10\n",
      "Recommended res =  0.85\n",
      "Loading data...\n",
      "Data have been loaded.\n",
      "Data have been pre-processed.\n",
      "Beginning training encoder for source domain...\n"
     ]
    },
    {
     "name": "stderr",
     "output_type": "stream",
     "text": [
      "100%|██████████| 1000/1000 [00:14<00:00, 67.37it/s]\n"
     ]
    },
    {
     "name": "stdout",
     "output_type": "stream",
     "text": [
      "Epoch [1000/1000]: Batch loss=132.77919006347656\n",
      "Encoder for source domain training finished.\n",
      "Calculating spatial weights using the neighbours of spots...\n",
      "Start at res =  0.5 step =  0.1\n",
      "Res =  0.5 number of clusters =  6\n",
      "Res =  0.6 number of clusters =  7\n",
      "Res changed to 0.6\n",
      "Res =  0.7 number of clusters =  7\n",
      "Res changed to 0.7\n",
      "Res =  0.7999999999999999 number of clusters =  7\n",
      "Res changed to 0.7999999999999999\n",
      "Res =  0.8999999999999999 number of clusters =  8\n",
      "Res changed to 0.8999999999999999\n",
      "Res =  0.9999999999999999 number of clusters =  9\n",
      "Res changed to 0.9999999999999999\n",
      "Res =  1.0999999999999999 number of clusters =  10\n",
      "Res changed to 1.0999999999999999\n",
      "Res =  1.2 number of clusters =  11\n",
      "Res changed to 1.2\n",
      "Res =  1.3 number of clusters =  11\n",
      "Res changed to 1.3\n",
      "Res =  1.4000000000000001 number of clusters =  11\n",
      "Res changed to 1.4000000000000001\n",
      "Res =  1.5000000000000002 number of clusters =  15\n",
      "Step changed to 0.05\n",
      "Res =  1.4500000000000002 number of clusters =  13\n",
      "Step changed to 0.025\n",
      "Res =  1.425 number of clusters =  12\n",
      "Recommended res =  1.425\n",
      "Loading data...\n",
      "Data have been loaded.\n",
      "Data have been pre-processed.\n",
      "Beginning training encoder for source domain...\n"
     ]
    },
    {
     "name": "stderr",
     "output_type": "stream",
     "text": [
      "100%|██████████| 1000/1000 [00:04<00:00, 200.43it/s]\n"
     ]
    },
    {
     "name": "stdout",
     "output_type": "stream",
     "text": [
      "Epoch [1000/1000]: Batch loss=93.23961639404297\n",
      "Encoder for source domain training finished.\n",
      "Calculating spatial weights using the neighbours of spots...\n",
      "Start at res =  0.5 step =  0.1\n",
      "Res =  0.5 number of clusters =  5\n",
      "Res =  0.6 number of clusters =  6\n",
      "Res changed to 0.6\n",
      "Res =  0.7 number of clusters =  7\n",
      "Res changed to 0.7\n",
      "Res =  0.7999999999999999 number of clusters =  8\n",
      "Res changed to 0.7999999999999999\n",
      "Res =  0.8999999999999999 number of clusters =  11\n",
      "Step changed to 0.05\n",
      "Res =  0.85 number of clusters =  9\n",
      "Recommended res =  0.85\n",
      "Loading data...\n",
      "Data have been loaded.\n",
      "Data have been pre-processed.\n",
      "Beginning training encoder for source domain...\n"
     ]
    },
    {
     "name": "stderr",
     "output_type": "stream",
     "text": [
      "100%|██████████| 1000/1000 [00:05<00:00, 199.13it/s]\n"
     ]
    },
    {
     "name": "stdout",
     "output_type": "stream",
     "text": [
      "Epoch [1000/1000]: Batch loss=132.9862060546875\n",
      "Encoder for source domain training finished.\n",
      "Calculating spatial weights using the neighbours of spots...\n",
      "Start at res =  0.5 step =  0.1\n",
      "Res =  0.5 number of clusters =  5\n",
      "Res =  0.6 number of clusters =  6\n",
      "Res changed to 0.6\n",
      "Res =  0.7 number of clusters =  7\n",
      "Res changed to 0.7\n",
      "Res =  0.7999999999999999 number of clusters =  8\n",
      "Res changed to 0.7999999999999999\n",
      "Res =  0.8999999999999999 number of clusters =  10\n",
      "Recommended res =  0.8999999999999999\n",
      "Loading data...\n",
      "Data have been loaded.\n",
      "Data have been pre-processed.\n",
      "Beginning training encoder for source domain...\n"
     ]
    },
    {
     "name": "stderr",
     "output_type": "stream",
     "text": [
      "100%|██████████| 1000/1000 [00:05<00:00, 198.89it/s]\n"
     ]
    },
    {
     "name": "stdout",
     "output_type": "stream",
     "text": [
      "Epoch [1000/1000]: Batch loss=109.9195556640625\n",
      "Encoder for source domain training finished.\n",
      "Calculating spatial weights using the neighbours of spots...\n",
      "Start at res =  0.5 step =  0.1\n",
      "Res =  0.5 number of clusters =  9\n",
      "Res =  0.6 number of clusters =  9\n",
      "Res changed to 0.6\n",
      "Res =  0.7 number of clusters =  9\n",
      "Res changed to 0.7\n",
      "Res =  0.7999999999999999 number of clusters =  9\n",
      "Res changed to 0.7999999999999999\n",
      "Res =  0.8999999999999999 number of clusters =  9\n",
      "Res changed to 0.8999999999999999\n",
      "Res =  0.9999999999999999 number of clusters =  9\n",
      "Res changed to 0.9999999999999999\n",
      "Res =  1.0999999999999999 number of clusters =  10\n",
      "Res changed to 1.0999999999999999\n",
      "Res =  1.2 number of clusters =  12\n",
      "Recommended res =  1.2\n",
      "Loading data...\n",
      "Data have been loaded.\n",
      "Data have been pre-processed.\n",
      "Beginning training encoder for source domain...\n"
     ]
    },
    {
     "name": "stderr",
     "output_type": "stream",
     "text": [
      "100%|██████████| 1000/1000 [00:09<00:00, 100.38it/s]\n"
     ]
    },
    {
     "name": "stdout",
     "output_type": "stream",
     "text": [
      "Epoch [1000/1000]: Batch loss=95.41905212402344\n",
      "Encoder for source domain training finished.\n",
      "Calculating spatial weights using the neighbours of spots...\n",
      "Start at res =  0.5 step =  0.1\n",
      "Res =  0.5 number of clusters =  6\n",
      "Res =  0.6 number of clusters =  9\n",
      "Recommended res =  0.6\n",
      "Loading data...\n",
      "Data have been loaded.\n",
      "Data have been pre-processed.\n",
      "Beginning training encoder for source domain...\n"
     ]
    },
    {
     "name": "stderr",
     "output_type": "stream",
     "text": [
      "100%|██████████| 1000/1000 [00:09<00:00, 100.50it/s]\n"
     ]
    },
    {
     "name": "stdout",
     "output_type": "stream",
     "text": [
      "Epoch [1000/1000]: Batch loss=149.76211547851562\n",
      "Encoder for source domain training finished.\n",
      "Calculating spatial weights using the neighbours of spots...\n",
      "Start at res =  0.5 step =  0.1\n",
      "Res =  0.5 number of clusters =  10\n",
      "Recommended res =  0.5\n",
      "Loading data...\n",
      "Data have been loaded.\n",
      "Data have been pre-processed.\n",
      "Beginning training encoder for source domain...\n"
     ]
    },
    {
     "name": "stderr",
     "output_type": "stream",
     "text": [
      "100%|██████████| 1000/1000 [00:09<00:00, 100.20it/s]\n"
     ]
    },
    {
     "name": "stdout",
     "output_type": "stream",
     "text": [
      "Epoch [1000/1000]: Batch loss=73.96965026855469\n",
      "Encoder for source domain training finished.\n",
      "Calculating spatial weights using the neighbours of spots...\n",
      "Start at res =  0.5 step =  0.1\n",
      "Res =  0.5 number of clusters =  7\n",
      "Res =  0.6 number of clusters =  8\n",
      "Res changed to 0.6\n",
      "Res =  0.7 number of clusters =  9\n",
      "Res changed to 0.7\n",
      "Res =  0.7999999999999999 number of clusters =  9\n",
      "Res changed to 0.7999999999999999\n",
      "Res =  0.8999999999999999 number of clusters =  10\n",
      "Res changed to 0.8999999999999999\n",
      "Res =  0.9999999999999999 number of clusters =  12\n",
      "Recommended res =  0.9999999999999999\n",
      "Loading data...\n",
      "Data have been loaded.\n",
      "Data have been pre-processed.\n",
      "Beginning training encoder for source domain...\n"
     ]
    },
    {
     "name": "stderr",
     "output_type": "stream",
     "text": [
      "100%|██████████| 1000/1000 [00:09<00:00, 100.54it/s]\n"
     ]
    },
    {
     "name": "stdout",
     "output_type": "stream",
     "text": [
      "Epoch [1000/1000]: Batch loss=189.444091796875\n",
      "Encoder for source domain training finished.\n",
      "Calculating spatial weights using the neighbours of spots...\n",
      "Start at res =  0.5 step =  0.1\n",
      "Res =  0.5 number of clusters =  4\n",
      "Res =  0.6 number of clusters =  7\n",
      "Res changed to 0.6\n",
      "Res =  0.7 number of clusters =  7\n",
      "Res changed to 0.7\n",
      "Res =  0.7999999999999999 number of clusters =  8\n",
      "Res changed to 0.7999999999999999\n",
      "Res =  0.8999999999999999 number of clusters =  10\n",
      "Recommended res =  0.8999999999999999\n",
      "Loading data...\n",
      "Data have been loaded.\n",
      "Data have been pre-processed.\n",
      "Beginning training encoder for source domain...\n"
     ]
    },
    {
     "name": "stderr",
     "output_type": "stream",
     "text": [
      "100%|██████████| 1000/1000 [00:09<00:00, 100.35it/s]\n"
     ]
    },
    {
     "name": "stdout",
     "output_type": "stream",
     "text": [
      "Epoch [1000/1000]: Batch loss=125.7381820678711\n",
      "Encoder for source domain training finished.\n",
      "Calculating spatial weights using the neighbours of spots...\n",
      "Start at res =  0.5 step =  0.1\n",
      "Res =  0.5 number of clusters =  4\n",
      "Res =  0.6 number of clusters =  5\n",
      "Res changed to 0.6\n",
      "Res =  0.7 number of clusters =  7\n",
      "Res changed to 0.7\n",
      "Res =  0.7999999999999999 number of clusters =  7\n",
      "Res changed to 0.7999999999999999\n",
      "Res =  0.8999999999999999 number of clusters =  10\n",
      "Res changed to 0.8999999999999999\n",
      "Res =  0.9999999999999999 number of clusters =  10\n",
      "Res changed to 0.9999999999999999\n",
      "Res =  1.0999999999999999 number of clusters =  12\n",
      "Step changed to 0.05\n",
      "Res =  1.0499999999999998 number of clusters =  10\n",
      "Res changed to 1.0499999999999998\n",
      "Res =  1.0999999999999999 number of clusters =  12\n",
      "Step changed to 0.025\n",
      "Res =  1.0749999999999997 number of clusters =  10\n",
      "Res changed to 1.0749999999999997\n",
      "Res =  1.0999999999999996 number of clusters =  12\n",
      "Step changed to 0.0125\n",
      "Res =  1.0874999999999997 number of clusters =  11\n",
      "Recommended res =  1.0874999999999997\n",
      "Loading data...\n",
      "Data have been loaded.\n",
      "Data have been pre-processed.\n",
      "Beginning training encoder for source domain...\n"
     ]
    },
    {
     "name": "stderr",
     "output_type": "stream",
     "text": [
      "100%|██████████| 1000/1000 [00:09<00:00, 100.76it/s]\n"
     ]
    },
    {
     "name": "stdout",
     "output_type": "stream",
     "text": [
      "Epoch [1000/1000]: Batch loss=147.9317626953125\n",
      "Encoder for source domain training finished.\n",
      "Calculating spatial weights using the neighbours of spots...\n",
      "Start at res =  0.5 step =  0.1\n",
      "Res =  0.5 number of clusters =  8\n",
      "Res =  0.6 number of clusters =  8\n",
      "Res changed to 0.6\n",
      "Res =  0.7 number of clusters =  10\n",
      "Res changed to 0.7\n",
      "Res =  0.7999999999999999 number of clusters =  10\n",
      "Res changed to 0.7999999999999999\n",
      "Res =  0.8999999999999999 number of clusters =  10\n",
      "Res changed to 0.8999999999999999\n",
      "Res =  0.9999999999999999 number of clusters =  11\n",
      "Res changed to 0.9999999999999999\n",
      "Res =  1.0999999999999999 number of clusters =  12\n",
      "Res changed to 1.0999999999999999\n",
      "Res =  1.2 number of clusters =  13\n",
      "Recommended res =  1.2\n",
      "Loading data...\n",
      "Data have been loaded.\n",
      "Data have been pre-processed.\n",
      "Beginning training encoder for source domain...\n"
     ]
    },
    {
     "name": "stderr",
     "output_type": "stream",
     "text": [
      "100%|██████████| 1000/1000 [00:05<00:00, 198.61it/s]\n"
     ]
    },
    {
     "name": "stdout",
     "output_type": "stream",
     "text": [
      "Epoch [1000/1000]: Batch loss=135.8691864013672\n",
      "Encoder for source domain training finished.\n",
      "Calculating spatial weights using the neighbours of spots...\n",
      "Start at res =  0.5 step =  0.1\n",
      "Res =  0.5 number of clusters =  3\n",
      "Res =  0.6 number of clusters =  5\n",
      "Res changed to 0.6\n",
      "Res =  0.7 number of clusters =  6\n",
      "Res changed to 0.7\n",
      "Res =  0.7999999999999999 number of clusters =  7\n",
      "Res changed to 0.7999999999999999\n",
      "Res =  0.8999999999999999 number of clusters =  8\n",
      "Res changed to 0.8999999999999999\n",
      "Res =  0.9999999999999999 number of clusters =  10\n",
      "Recommended res =  0.9999999999999999\n",
      "Loading data...\n",
      "Data have been loaded.\n",
      "Data have been pre-processed.\n",
      "Beginning training encoder for source domain...\n"
     ]
    },
    {
     "name": "stderr",
     "output_type": "stream",
     "text": [
      "100%|██████████| 1000/1000 [00:05<00:00, 198.89it/s]\n"
     ]
    },
    {
     "name": "stdout",
     "output_type": "stream",
     "text": [
      "Epoch [1000/1000]: Batch loss=133.41761779785156\n",
      "Encoder for source domain training finished.\n",
      "Calculating spatial weights using the neighbours of spots...\n",
      "Start at res =  0.5 step =  0.1\n",
      "Res =  0.5 number of clusters =  4\n",
      "Res =  0.6 number of clusters =  5\n",
      "Res changed to 0.6\n",
      "Res =  0.7 number of clusters =  5\n",
      "Res changed to 0.7\n",
      "Res =  0.7999999999999999 number of clusters =  6\n",
      "Res changed to 0.7999999999999999\n",
      "Res =  0.8999999999999999 number of clusters =  6\n",
      "Res changed to 0.8999999999999999\n",
      "Res =  0.9999999999999999 number of clusters =  7\n",
      "Res changed to 0.9999999999999999\n",
      "Res =  1.0999999999999999 number of clusters =  8\n",
      "Res changed to 1.0999999999999999\n",
      "Res =  1.2 number of clusters =  9\n",
      "Res changed to 1.2\n",
      "Res =  1.3 number of clusters =  10\n",
      "Res changed to 1.3\n",
      "Res =  1.4000000000000001 number of clusters =  12\n",
      "Step changed to 0.05\n",
      "Res =  1.35 number of clusters =  11\n",
      "Recommended res =  1.35\n",
      "Loading data...\n",
      "Data have been loaded.\n",
      "Data have been pre-processed.\n",
      "Beginning training encoder for source domain...\n"
     ]
    },
    {
     "name": "stderr",
     "output_type": "stream",
     "text": [
      "100%|██████████| 1000/1000 [00:05<00:00, 198.97it/s]\n"
     ]
    },
    {
     "name": "stdout",
     "output_type": "stream",
     "text": [
      "Epoch [1000/1000]: Batch loss=110.70338439941406\n",
      "Encoder for source domain training finished.\n",
      "Calculating spatial weights using the neighbours of spots...\n",
      "Start at res =  0.5 step =  0.1\n",
      "Res =  0.5 number of clusters =  5\n",
      "Res =  0.6 number of clusters =  6\n",
      "Res changed to 0.6\n",
      "Res =  0.7 number of clusters =  6\n",
      "Res changed to 0.7\n",
      "Res =  0.7999999999999999 number of clusters =  7\n",
      "Res changed to 0.7999999999999999\n",
      "Res =  0.8999999999999999 number of clusters =  7\n",
      "Res changed to 0.8999999999999999\n",
      "Res =  0.9999999999999999 number of clusters =  7\n",
      "Res changed to 0.9999999999999999\n",
      "Res =  1.0999999999999999 number of clusters =  9\n",
      "Res changed to 1.0999999999999999\n",
      "Res =  1.2 number of clusters =  10\n",
      "Res changed to 1.2\n",
      "Res =  1.3 number of clusters =  12\n",
      "Res changed to 1.3\n",
      "Res =  1.4000000000000001 number of clusters =  12\n",
      "Res changed to 1.4000000000000001\n",
      "Res =  1.5000000000000002 number of clusters =  12\n",
      "Res changed to 1.5000000000000002\n",
      "Res =  1.6000000000000003 number of clusters =  14\n",
      "Step changed to 0.05\n",
      "Res =  1.5500000000000003 number of clusters =  12\n",
      "Res changed to 1.5500000000000003\n",
      "No resolution found, recommended res =  1.5500000000000003\n",
      "Loading data...\n",
      "Data have been loaded.\n",
      "Data have been pre-processed.\n",
      "Beginning training encoder for source domain...\n"
     ]
    },
    {
     "name": "stderr",
     "output_type": "stream",
     "text": [
      "100%|██████████| 1000/1000 [00:14<00:00, 67.07it/s]\n"
     ]
    },
    {
     "name": "stdout",
     "output_type": "stream",
     "text": [
      "Epoch [1000/1000]: Batch loss=124.07819366455078\n",
      "Encoder for source domain training finished.\n",
      "Calculating spatial weights using the neighbours of spots...\n",
      "Start at res =  0.5 step =  0.1\n",
      "Res =  0.5 number of clusters =  5\n",
      "Res =  0.6 number of clusters =  6\n",
      "Res changed to 0.6\n",
      "Res =  0.7 number of clusters =  8\n",
      "Res changed to 0.7\n",
      "Res =  0.7999999999999999 number of clusters =  10\n",
      "Recommended res =  0.7999999999999999\n",
      "Loading data...\n",
      "Data have been loaded.\n",
      "Data have been pre-processed.\n",
      "Beginning training encoder for source domain...\n"
     ]
    },
    {
     "name": "stderr",
     "output_type": "stream",
     "text": [
      "100%|██████████| 1000/1000 [00:14<00:00, 67.34it/s]\n"
     ]
    },
    {
     "name": "stdout",
     "output_type": "stream",
     "text": [
      "Epoch [1000/1000]: Batch loss=153.4833221435547\n",
      "Encoder for source domain training finished.\n",
      "Calculating spatial weights using the neighbours of spots...\n",
      "Start at res =  0.5 step =  0.1\n",
      "Res =  0.5 number of clusters =  6\n",
      "Res =  0.6 number of clusters =  7\n",
      "Res changed to 0.6\n",
      "Res =  0.7 number of clusters =  7\n",
      "Res changed to 0.7\n",
      "Res =  0.7999999999999999 number of clusters =  9\n",
      "Res changed to 0.7999999999999999\n",
      "Res =  0.8999999999999999 number of clusters =  9\n",
      "Res changed to 0.8999999999999999\n",
      "Res =  0.9999999999999999 number of clusters =  12\n",
      "Step changed to 0.05\n",
      "Res =  0.95 number of clusters =  10\n",
      "Res changed to 0.95\n",
      "Res =  1.0 number of clusters =  12\n",
      "Step changed to 0.025\n",
      "Res =  0.975 number of clusters =  12\n",
      "Step changed to 0.0125\n",
      "Res =  0.9624999999999999 number of clusters =  11\n",
      "Recommended res =  0.9624999999999999\n",
      "Loading data...\n",
      "Data have been loaded.\n",
      "Data have been pre-processed.\n",
      "Beginning training encoder for source domain...\n"
     ]
    },
    {
     "name": "stderr",
     "output_type": "stream",
     "text": [
      "100%|██████████| 1000/1000 [00:14<00:00, 67.18it/s]\n"
     ]
    },
    {
     "name": "stdout",
     "output_type": "stream",
     "text": [
      "Epoch [1000/1000]: Batch loss=111.41527557373047\n",
      "Encoder for source domain training finished.\n",
      "Calculating spatial weights using the neighbours of spots...\n",
      "Start at res =  0.5 step =  0.1\n",
      "Res =  0.5 number of clusters =  32\n",
      "Res =  0.4 number of clusters =  31\n",
      "Res changed to 0.4\n",
      "Res =  0.30000000000000004 number of clusters =  30\n",
      "Recommended res =  0.30000000000000004\n",
      "Loading data...\n",
      "Data have been loaded.\n",
      "Data have been pre-processed.\n",
      "Beginning training encoder for source domain...\n"
     ]
    },
    {
     "name": "stderr",
     "output_type": "stream",
     "text": [
      "100%|██████████| 1000/1000 [00:05<00:00, 199.73it/s]\n"
     ]
    },
    {
     "name": "stdout",
     "output_type": "stream",
     "text": [
      "Epoch [1000/1000]: Batch loss=120.2357177734375\n",
      "Encoder for source domain training finished.\n",
      "Calculating spatial weights using the neighbours of spots...\n",
      "Start at res =  0.5 step =  0.1\n",
      "Res =  0.5 number of clusters =  5\n",
      "Res =  0.6 number of clusters =  6\n",
      "Res changed to 0.6\n",
      "Res =  0.7 number of clusters =  9\n",
      "Res changed to 0.7\n",
      "Res =  0.7999999999999999 number of clusters =  9\n",
      "Res changed to 0.7999999999999999\n",
      "Res =  0.8999999999999999 number of clusters =  11\n",
      "Step changed to 0.05\n",
      "Res =  0.85 number of clusters =  10\n",
      "Recommended res =  0.85\n",
      "Loading data...\n",
      "Data have been loaded.\n",
      "Data have been pre-processed.\n",
      "Beginning training encoder for source domain...\n"
     ]
    },
    {
     "name": "stderr",
     "output_type": "stream",
     "text": [
      "100%|██████████| 1000/1000 [00:05<00:00, 199.54it/s]\n"
     ]
    },
    {
     "name": "stdout",
     "output_type": "stream",
     "text": [
      "Epoch [1000/1000]: Batch loss=106.06168365478516\n",
      "Encoder for source domain training finished.\n",
      "Calculating spatial weights using the neighbours of spots...\n",
      "Start at res =  0.5 step =  0.1\n",
      "Res =  0.5 number of clusters =  5\n",
      "Res =  0.6 number of clusters =  7\n",
      "Res changed to 0.6\n",
      "Res =  0.7 number of clusters =  7\n",
      "Res changed to 0.7\n",
      "Res =  0.7999999999999999 number of clusters =  8\n",
      "Res changed to 0.7999999999999999\n",
      "Res =  0.8999999999999999 number of clusters =  8\n",
      "Res changed to 0.8999999999999999\n",
      "Res =  0.9999999999999999 number of clusters =  11\n",
      "Recommended res =  0.9999999999999999\n",
      "Loading data...\n",
      "Data have been loaded.\n",
      "Data have been pre-processed.\n",
      "Beginning training encoder for source domain...\n"
     ]
    },
    {
     "name": "stderr",
     "output_type": "stream",
     "text": [
      "100%|██████████| 1000/1000 [00:05<00:00, 199.41it/s]\n"
     ]
    },
    {
     "name": "stdout",
     "output_type": "stream",
     "text": [
      "Epoch [1000/1000]: Batch loss=119.13497924804688\n",
      "Encoder for source domain training finished.\n",
      "Calculating spatial weights using the neighbours of spots...\n",
      "Start at res =  0.5 step =  0.1\n",
      "Res =  0.5 number of clusters =  5\n",
      "Res =  0.6 number of clusters =  6\n",
      "Res changed to 0.6\n",
      "Res =  0.7 number of clusters =  6\n",
      "Res changed to 0.7\n",
      "Res =  0.7999999999999999 number of clusters =  6\n",
      "Res changed to 0.7999999999999999\n",
      "Res =  0.8999999999999999 number of clusters =  7\n",
      "Res changed to 0.8999999999999999\n",
      "Res =  0.9999999999999999 number of clusters =  7\n",
      "Res changed to 0.9999999999999999\n",
      "Res =  1.0999999999999999 number of clusters =  7\n",
      "Res changed to 1.0999999999999999\n",
      "Res =  1.2 number of clusters =  9\n",
      "Res changed to 1.2\n",
      "Res =  1.3 number of clusters =  9\n",
      "Res changed to 1.3\n",
      "Res =  1.4000000000000001 number of clusters =  11\n",
      "Res changed to 1.4000000000000001\n",
      "Res =  1.5000000000000002 number of clusters =  12\n",
      "Res changed to 1.5000000000000002\n",
      "Res =  1.6000000000000003 number of clusters =  14\n",
      "Step changed to 0.05\n",
      "Res =  1.5500000000000003 number of clusters =  13\n",
      "Recommended res =  1.5500000000000003\n",
      "Loading data...\n",
      "Data have been loaded.\n",
      "Data have been pre-processed.\n",
      "Beginning training encoder for source domain...\n"
     ]
    },
    {
     "name": "stderr",
     "output_type": "stream",
     "text": [
      "100%|██████████| 1000/1000 [00:09<00:00, 100.42it/s]\n"
     ]
    },
    {
     "name": "stdout",
     "output_type": "stream",
     "text": [
      "Epoch [1000/1000]: Batch loss=121.76911926269531\n",
      "Encoder for source domain training finished.\n",
      "Calculating spatial weights using the neighbours of spots...\n",
      "Start at res =  0.5 step =  0.1\n",
      "Res =  0.5 number of clusters =  5\n",
      "Res =  0.6 number of clusters =  8\n",
      "Res changed to 0.6\n",
      "Res =  0.7 number of clusters =  10\n",
      "Recommended res =  0.7\n",
      "Loading data...\n",
      "Data have been loaded.\n",
      "Data have been pre-processed.\n",
      "Beginning training encoder for source domain...\n"
     ]
    },
    {
     "name": "stderr",
     "output_type": "stream",
     "text": [
      "100%|██████████| 1000/1000 [00:09<00:00, 100.81it/s]\n"
     ]
    },
    {
     "name": "stdout",
     "output_type": "stream",
     "text": [
      "Epoch [1000/1000]: Batch loss=94.4899673461914\n",
      "Encoder for source domain training finished.\n",
      "Calculating spatial weights using the neighbours of spots...\n",
      "Start at res =  0.5 step =  0.1\n",
      "Res =  0.5 number of clusters =  5\n",
      "Res =  0.6 number of clusters =  6\n",
      "Res changed to 0.6\n",
      "Res =  0.7 number of clusters =  9\n",
      "Res changed to 0.7\n",
      "Res =  0.7999999999999999 number of clusters =  10\n",
      "Res changed to 0.7999999999999999\n",
      "Res =  0.8999999999999999 number of clusters =  13\n",
      "Step changed to 0.05\n",
      "Res =  0.85 number of clusters =  12\n",
      "Step changed to 0.025\n",
      "Res =  0.825 number of clusters =  12\n",
      "Step changed to 0.0125\n",
      "Res =  0.8124999999999999 number of clusters =  11\n",
      "Recommended res =  0.8124999999999999\n",
      "Loading data...\n",
      "Data have been loaded.\n",
      "Data have been pre-processed.\n",
      "Beginning training encoder for source domain...\n"
     ]
    },
    {
     "name": "stderr",
     "output_type": "stream",
     "text": [
      "100%|██████████| 1000/1000 [00:09<00:00, 100.03it/s]\n"
     ]
    },
    {
     "name": "stdout",
     "output_type": "stream",
     "text": [
      "Epoch [1000/1000]: Batch loss=108.52777862548828\n",
      "Encoder for source domain training finished.\n",
      "Calculating spatial weights using the neighbours of spots...\n",
      "Start at res =  0.5 step =  0.1\n",
      "Res =  0.5 number of clusters =  8\n",
      "Res =  0.6 number of clusters =  8\n",
      "Res changed to 0.6\n",
      "Res =  0.7 number of clusters =  9\n",
      "Res changed to 0.7\n",
      "Res =  0.7999999999999999 number of clusters =  11\n",
      "Res changed to 0.7999999999999999\n",
      "Res =  0.8999999999999999 number of clusters =  12\n",
      "Res changed to 0.8999999999999999\n",
      "Res =  0.9999999999999999 number of clusters =  13\n",
      "Recommended res =  0.9999999999999999\n",
      "Loading data...\n",
      "Data have been loaded.\n",
      "Data have been pre-processed.\n",
      "Beginning training encoder for source domain...\n"
     ]
    },
    {
     "name": "stderr",
     "output_type": "stream",
     "text": [
      "100%|██████████| 1000/1000 [00:09<00:00, 100.37it/s]\n"
     ]
    },
    {
     "name": "stdout",
     "output_type": "stream",
     "text": [
      "Epoch [1000/1000]: Batch loss=153.9136962890625\n",
      "Encoder for source domain training finished.\n",
      "Calculating spatial weights using the neighbours of spots...\n",
      "Start at res =  0.5 step =  0.1\n",
      "Res =  0.5 number of clusters =  3\n",
      "Res =  0.6 number of clusters =  5\n",
      "Res changed to 0.6\n",
      "Res =  0.7 number of clusters =  5\n",
      "Res changed to 0.7\n",
      "Res =  0.7999999999999999 number of clusters =  5\n",
      "Res changed to 0.7999999999999999\n",
      "Res =  0.8999999999999999 number of clusters =  9\n",
      "Res changed to 0.8999999999999999\n",
      "Res =  0.9999999999999999 number of clusters =  11\n",
      "Recommended res =  0.9999999999999999\n",
      "Loading data...\n",
      "Data have been loaded.\n",
      "Data have been pre-processed.\n",
      "Beginning training encoder for source domain...\n"
     ]
    },
    {
     "name": "stderr",
     "output_type": "stream",
     "text": [
      "100%|██████████| 1000/1000 [00:09<00:00, 101.80it/s]\n"
     ]
    },
    {
     "name": "stdout",
     "output_type": "stream",
     "text": [
      "Epoch [1000/1000]: Batch loss=83.02339172363281\n",
      "Encoder for source domain training finished.\n",
      "Calculating spatial weights using the neighbours of spots...\n",
      "Start at res =  0.5 step =  0.1\n",
      "Res =  0.5 number of clusters =  5\n",
      "Res =  0.6 number of clusters =  5\n",
      "Res changed to 0.6\n",
      "Res =  0.7 number of clusters =  7\n",
      "Res changed to 0.7\n",
      "Res =  0.7999999999999999 number of clusters =  8\n",
      "Res changed to 0.7999999999999999\n",
      "Res =  0.8999999999999999 number of clusters =  10\n",
      "Res changed to 0.8999999999999999\n",
      "Res =  0.9999999999999999 number of clusters =  11\n",
      "Res changed to 0.9999999999999999\n",
      "Res =  1.0999999999999999 number of clusters =  13\n",
      "Step changed to 0.05\n",
      "Res =  1.0499999999999998 number of clusters =  12\n",
      "Recommended res =  1.0499999999999998\n",
      "Loading data...\n",
      "Data have been loaded.\n",
      "Data have been pre-processed.\n",
      "Beginning training encoder for source domain...\n"
     ]
    },
    {
     "name": "stderr",
     "output_type": "stream",
     "text": [
      "100%|██████████| 1000/1000 [00:09<00:00, 100.43it/s]\n"
     ]
    },
    {
     "name": "stdout",
     "output_type": "stream",
     "text": [
      "Epoch [1000/1000]: Batch loss=140.03826904296875\n",
      "Encoder for source domain training finished.\n",
      "Calculating spatial weights using the neighbours of spots...\n",
      "Start at res =  0.5 step =  0.1\n",
      "Res =  0.5 number of clusters =  6\n",
      "Res =  0.6 number of clusters =  6\n",
      "Res changed to 0.6\n",
      "Res =  0.7 number of clusters =  8\n",
      "Res changed to 0.7\n",
      "Res =  0.7999999999999999 number of clusters =  8\n",
      "Res changed to 0.7999999999999999\n",
      "Res =  0.8999999999999999 number of clusters =  11\n",
      "Res changed to 0.8999999999999999\n",
      "Res =  0.9999999999999999 number of clusters =  12\n",
      "Res changed to 0.9999999999999999\n",
      "Res =  1.0999999999999999 number of clusters =  13\n",
      "Res changed to 1.0999999999999999\n",
      "Res =  1.2 number of clusters =  14\n",
      "Recommended res =  1.2\n",
      "Loading data...\n",
      "Data have been loaded.\n",
      "Data have been pre-processed.\n",
      "Beginning training encoder for source domain...\n"
     ]
    },
    {
     "name": "stderr",
     "output_type": "stream",
     "text": [
      "100%|██████████| 1000/1000 [00:05<00:00, 198.75it/s]\n"
     ]
    },
    {
     "name": "stdout",
     "output_type": "stream",
     "text": [
      "Epoch [1000/1000]: Batch loss=116.96128845214844\n",
      "Encoder for source domain training finished.\n",
      "Calculating spatial weights using the neighbours of spots...\n",
      "Start at res =  0.5 step =  0.1\n",
      "Res =  0.5 number of clusters =  3\n",
      "Res =  0.6 number of clusters =  4\n",
      "Res changed to 0.6\n",
      "Res =  0.7 number of clusters =  4\n",
      "Res changed to 0.7\n",
      "Res =  0.7999999999999999 number of clusters =  5\n",
      "Res changed to 0.7999999999999999\n",
      "Res =  0.8999999999999999 number of clusters =  5\n",
      "Res changed to 0.8999999999999999\n",
      "Res =  0.9999999999999999 number of clusters =  7\n",
      "Res changed to 0.9999999999999999\n",
      "Res =  1.0999999999999999 number of clusters =  8\n",
      "Res changed to 1.0999999999999999\n",
      "Res =  1.2 number of clusters =  9\n",
      "Res changed to 1.2\n",
      "Res =  1.3 number of clusters =  10\n",
      "Res changed to 1.3\n",
      "Res =  1.4000000000000001 number of clusters =  11\n",
      "Recommended res =  1.4000000000000001\n",
      "Loading data...\n",
      "Data have been loaded.\n",
      "Data have been pre-processed.\n",
      "Beginning training encoder for source domain...\n"
     ]
    },
    {
     "name": "stderr",
     "output_type": "stream",
     "text": [
      "100%|██████████| 1000/1000 [00:05<00:00, 198.78it/s]\n"
     ]
    },
    {
     "name": "stdout",
     "output_type": "stream",
     "text": [
      "Epoch [1000/1000]: Batch loss=138.927734375\n",
      "Encoder for source domain training finished.\n",
      "Calculating spatial weights using the neighbours of spots...\n",
      "Start at res =  0.5 step =  0.1\n",
      "Res =  0.5 number of clusters =  4\n",
      "Res =  0.6 number of clusters =  5\n",
      "Res changed to 0.6\n",
      "Res =  0.7 number of clusters =  5\n",
      "Res changed to 0.7\n",
      "Res =  0.7999999999999999 number of clusters =  6\n",
      "Res changed to 0.7999999999999999\n",
      "Res =  0.8999999999999999 number of clusters =  6\n",
      "Res changed to 0.8999999999999999\n",
      "Res =  0.9999999999999999 number of clusters =  7\n",
      "Res changed to 0.9999999999999999\n",
      "Res =  1.0999999999999999 number of clusters =  9\n",
      "Res changed to 1.0999999999999999\n",
      "Res =  1.2 number of clusters =  11\n",
      "Res changed to 1.2\n",
      "Res =  1.3 number of clusters =  11\n",
      "Res changed to 1.3\n",
      "Res =  1.4000000000000001 number of clusters =  13\n",
      "Step changed to 0.05\n",
      "Res =  1.35 number of clusters =  12\n",
      "Recommended res =  1.35\n",
      "Loading data...\n",
      "Data have been loaded.\n",
      "Data have been pre-processed.\n",
      "Beginning training encoder for source domain...\n"
     ]
    },
    {
     "name": "stderr",
     "output_type": "stream",
     "text": [
      "100%|██████████| 1000/1000 [00:05<00:00, 198.13it/s]\n"
     ]
    },
    {
     "name": "stdout",
     "output_type": "stream",
     "text": [
      "Epoch [1000/1000]: Batch loss=154.91265869140625\n",
      "Encoder for source domain training finished.\n",
      "Calculating spatial weights using the neighbours of spots...\n",
      "Start at res =  0.5 step =  0.1\n",
      "Res =  0.5 number of clusters =  5\n",
      "Res =  0.6 number of clusters =  5\n",
      "Res changed to 0.6\n",
      "Res =  0.7 number of clusters =  6\n",
      "Res changed to 0.7\n",
      "Res =  0.7999999999999999 number of clusters =  7\n",
      "Res changed to 0.7999999999999999\n",
      "Res =  0.8999999999999999 number of clusters =  7\n",
      "Res changed to 0.8999999999999999\n",
      "Res =  0.9999999999999999 number of clusters =  8\n",
      "Res changed to 0.9999999999999999\n",
      "Res =  1.0999999999999999 number of clusters =  8\n",
      "Res changed to 1.0999999999999999\n",
      "Res =  1.2 number of clusters =  8\n",
      "Res changed to 1.2\n",
      "Res =  1.3 number of clusters =  8\n",
      "Res changed to 1.3\n",
      "Res =  1.4000000000000001 number of clusters =  10\n",
      "Res changed to 1.4000000000000001\n",
      "Res =  1.5000000000000002 number of clusters =  10\n",
      "Res changed to 1.5000000000000002\n",
      "Res =  1.6000000000000003 number of clusters =  11\n",
      "Res changed to 1.6000000000000003\n",
      "Res =  1.7000000000000004 number of clusters =  13\n",
      "Res changed to 1.7000000000000004\n",
      "No resolution found, recommended res =  1.7000000000000004\n",
      "Loading data...\n",
      "Data have been loaded.\n",
      "Data have been pre-processed.\n",
      "Beginning training encoder for source domain...\n"
     ]
    },
    {
     "name": "stderr",
     "output_type": "stream",
     "text": [
      "100%|██████████| 1000/1000 [00:14<00:00, 67.27it/s]\n"
     ]
    },
    {
     "name": "stdout",
     "output_type": "stream",
     "text": [
      "Epoch [1000/1000]: Batch loss=128.9505157470703\n",
      "Encoder for source domain training finished.\n",
      "Calculating spatial weights using the neighbours of spots...\n",
      "Start at res =  0.5 step =  0.1\n",
      "Res =  0.5 number of clusters =  6\n",
      "Res =  0.6 number of clusters =  8\n",
      "Res changed to 0.6\n",
      "Res =  0.7 number of clusters =  9\n",
      "Res changed to 0.7\n",
      "Res =  0.7999999999999999 number of clusters =  10\n",
      "Res changed to 0.7999999999999999\n",
      "Res =  0.8999999999999999 number of clusters =  11\n",
      "Recommended res =  0.8999999999999999\n",
      "Loading data...\n",
      "Data have been loaded.\n",
      "Data have been pre-processed.\n",
      "Beginning training encoder for source domain...\n"
     ]
    },
    {
     "name": "stderr",
     "output_type": "stream",
     "text": [
      "100%|██████████| 1000/1000 [00:14<00:00, 67.01it/s]\n"
     ]
    },
    {
     "name": "stdout",
     "output_type": "stream",
     "text": [
      "Epoch [1000/1000]: Batch loss=159.08566284179688\n",
      "Encoder for source domain training finished.\n",
      "Calculating spatial weights using the neighbours of spots...\n",
      "Start at res =  0.5 step =  0.1\n",
      "Res =  0.5 number of clusters =  5\n",
      "Res =  0.6 number of clusters =  6\n",
      "Res changed to 0.6\n",
      "Res =  0.7 number of clusters =  8\n",
      "Res changed to 0.7\n",
      "Res =  0.7999999999999999 number of clusters =  9\n",
      "Res changed to 0.7999999999999999\n",
      "Res =  0.8999999999999999 number of clusters =  11\n",
      "Res changed to 0.8999999999999999\n",
      "Res =  0.9999999999999999 number of clusters =  13\n",
      "Step changed to 0.05\n",
      "Res =  0.95 number of clusters =  11\n",
      "Res changed to 0.95\n",
      "Res =  1.0 number of clusters =  13\n",
      "Step changed to 0.025\n",
      "Res =  0.975 number of clusters =  12\n",
      "Recommended res =  0.975\n",
      "Loading data...\n",
      "Data have been loaded.\n",
      "Data have been pre-processed.\n",
      "Beginning training encoder for source domain...\n"
     ]
    },
    {
     "name": "stderr",
     "output_type": "stream",
     "text": [
      "100%|██████████| 1000/1000 [00:14<00:00, 66.93it/s]\n"
     ]
    },
    {
     "name": "stdout",
     "output_type": "stream",
     "text": [
      "Epoch [1000/1000]: Batch loss=82.95882415771484\n",
      "Encoder for source domain training finished.\n",
      "Calculating spatial weights using the neighbours of spots...\n",
      "Start at res =  0.5 step =  0.1\n",
      "Res =  0.5 number of clusters =  7\n",
      "Res =  0.6 number of clusters =  8\n",
      "Res changed to 0.6\n",
      "Res =  0.7 number of clusters =  11\n",
      "Res changed to 0.7\n",
      "Res =  0.7999999999999999 number of clusters =  12\n",
      "Res changed to 0.7999999999999999\n",
      "Res =  0.8999999999999999 number of clusters =  11\n",
      "Res changed to 0.8999999999999999\n",
      "Res =  0.9999999999999999 number of clusters =  13\n",
      "Res changed to 0.9999999999999999\n",
      "Res =  1.0999999999999999 number of clusters =  14\n",
      "Recommended res =  1.0999999999999999\n",
      "Loading data...\n",
      "Data have been loaded.\n",
      "Data have been pre-processed.\n",
      "Beginning training encoder for source domain...\n"
     ]
    },
    {
     "name": "stderr",
     "output_type": "stream",
     "text": [
      "100%|██████████| 1000/1000 [00:05<00:00, 198.91it/s]\n"
     ]
    },
    {
     "name": "stdout",
     "output_type": "stream",
     "text": [
      "Epoch [1000/1000]: Batch loss=120.86209106445312\n",
      "Encoder for source domain training finished.\n",
      "Calculating spatial weights using the neighbours of spots...\n",
      "Start at res =  0.5 step =  0.1\n",
      "Res =  0.5 number of clusters =  5\n",
      "Res =  0.6 number of clusters =  6\n",
      "Res changed to 0.6\n",
      "Res =  0.7 number of clusters =  10\n",
      "Res changed to 0.7\n",
      "Res =  0.7999999999999999 number of clusters =  8\n",
      "Res changed to 0.7999999999999999\n",
      "Res =  0.8999999999999999 number of clusters =  9\n",
      "Res changed to 0.8999999999999999\n",
      "Res =  0.9999999999999999 number of clusters =  12\n",
      "Step changed to 0.05\n",
      "Res =  0.95 number of clusters =  10\n",
      "Res changed to 0.95\n",
      "Res =  1.0 number of clusters =  12\n",
      "Step changed to 0.025\n",
      "Res =  0.975 number of clusters =  12\n",
      "Step changed to 0.0125\n",
      "Res =  0.9624999999999999 number of clusters =  12\n",
      "Step changed to 0.00625\n",
      "Res =  0.9562499999999999 number of clusters =  11\n",
      "Recommended res =  0.9562499999999999\n",
      "Loading data...\n",
      "Data have been loaded.\n",
      "Data have been pre-processed.\n",
      "Beginning training encoder for source domain...\n"
     ]
    },
    {
     "name": "stderr",
     "output_type": "stream",
     "text": [
      "100%|██████████| 1000/1000 [00:05<00:00, 198.79it/s]\n"
     ]
    },
    {
     "name": "stdout",
     "output_type": "stream",
     "text": [
      "Epoch [1000/1000]: Batch loss=119.51496887207031\n",
      "Encoder for source domain training finished.\n",
      "Calculating spatial weights using the neighbours of spots...\n",
      "Start at res =  0.5 step =  0.1\n",
      "Res =  0.5 number of clusters =  5\n",
      "Res =  0.6 number of clusters =  5\n",
      "Res changed to 0.6\n",
      "Res =  0.7 number of clusters =  7\n",
      "Res changed to 0.7\n",
      "Res =  0.7999999999999999 number of clusters =  7\n",
      "Res changed to 0.7999999999999999\n",
      "Res =  0.8999999999999999 number of clusters =  8\n",
      "Res changed to 0.8999999999999999\n",
      "Res =  0.9999999999999999 number of clusters =  11\n",
      "Res changed to 0.9999999999999999\n",
      "Res =  1.0999999999999999 number of clusters =  11\n",
      "Res changed to 1.0999999999999999\n",
      "Res =  1.2 number of clusters =  12\n",
      "Recommended res =  1.2\n",
      "Loading data...\n",
      "Data have been loaded.\n",
      "Data have been pre-processed.\n",
      "Beginning training encoder for source domain...\n"
     ]
    },
    {
     "name": "stderr",
     "output_type": "stream",
     "text": [
      "100%|██████████| 1000/1000 [00:05<00:00, 198.88it/s]\n"
     ]
    },
    {
     "name": "stdout",
     "output_type": "stream",
     "text": [
      "Epoch [1000/1000]: Batch loss=166.77114868164062\n",
      "Encoder for source domain training finished.\n",
      "Calculating spatial weights using the neighbours of spots...\n",
      "Start at res =  0.5 step =  0.1\n",
      "Res =  0.5 number of clusters =  7\n",
      "Res =  0.6 number of clusters =  7\n",
      "Res changed to 0.6\n",
      "Res =  0.7 number of clusters =  9\n",
      "Res changed to 0.7\n",
      "Res =  0.7999999999999999 number of clusters =  9\n",
      "Res changed to 0.7999999999999999\n",
      "Res =  0.8999999999999999 number of clusters =  10\n",
      "Res changed to 0.8999999999999999\n",
      "Res =  0.9999999999999999 number of clusters =  12\n",
      "Res changed to 0.9999999999999999\n",
      "Res =  1.0999999999999999 number of clusters =  11\n",
      "Res changed to 1.0999999999999999\n",
      "Res =  1.2 number of clusters =  12\n",
      "Res changed to 1.2\n",
      "Res =  1.3 number of clusters =  14\n",
      "Recommended res =  1.3\n",
      "Loading data...\n",
      "Data have been loaded.\n",
      "Data have been pre-processed.\n",
      "Beginning training encoder for source domain...\n"
     ]
    },
    {
     "name": "stderr",
     "output_type": "stream",
     "text": [
      "100%|██████████| 1000/1000 [00:09<00:00, 100.31it/s]\n"
     ]
    },
    {
     "name": "stdout",
     "output_type": "stream",
     "text": [
      "Epoch [1000/1000]: Batch loss=138.3069305419922\n",
      "Encoder for source domain training finished.\n",
      "Calculating spatial weights using the neighbours of spots...\n",
      "Start at res =  0.5 step =  0.1\n",
      "Res =  0.5 number of clusters =  7\n",
      "Res =  0.6 number of clusters =  9\n",
      "Res changed to 0.6\n",
      "Res =  0.7 number of clusters =  11\n",
      "Recommended res =  0.7\n",
      "Loading data...\n",
      "Data have been loaded.\n",
      "Data have been pre-processed.\n",
      "Beginning training encoder for source domain...\n"
     ]
    },
    {
     "name": "stderr",
     "output_type": "stream",
     "text": [
      "100%|██████████| 1000/1000 [00:10<00:00, 98.61it/s]\n"
     ]
    },
    {
     "name": "stdout",
     "output_type": "stream",
     "text": [
      "Epoch [1000/1000]: Batch loss=155.33047485351562\n",
      "Encoder for source domain training finished.\n",
      "Calculating spatial weights using the neighbours of spots...\n",
      "Start at res =  0.5 step =  0.1\n",
      "Res =  0.5 number of clusters =  5\n",
      "Res =  0.6 number of clusters =  8\n",
      "Res changed to 0.6\n",
      "Res =  0.7 number of clusters =  10\n",
      "Res changed to 0.7\n",
      "Res =  0.7999999999999999 number of clusters =  9\n",
      "Res changed to 0.7999999999999999\n",
      "Res =  0.8999999999999999 number of clusters =  11\n",
      "Res changed to 0.8999999999999999\n",
      "Res =  0.9999999999999999 number of clusters =  12\n",
      "Recommended res =  0.9999999999999999\n",
      "Loading data...\n",
      "Data have been loaded.\n",
      "Data have been pre-processed.\n",
      "Beginning training encoder for source domain...\n"
     ]
    },
    {
     "name": "stderr",
     "output_type": "stream",
     "text": [
      "100%|██████████| 1000/1000 [00:10<00:00, 99.06it/s]\n"
     ]
    },
    {
     "name": "stdout",
     "output_type": "stream",
     "text": [
      "Epoch [1000/1000]: Batch loss=102.48236083984375\n",
      "Encoder for source domain training finished.\n",
      "Calculating spatial weights using the neighbours of spots...\n",
      "Start at res =  0.5 step =  0.1\n",
      "Res =  0.5 number of clusters =  9\n",
      "Res =  0.6 number of clusters =  10\n",
      "Res changed to 0.6\n",
      "Res =  0.7 number of clusters =  11\n",
      "Res changed to 0.7\n",
      "Res =  0.7999999999999999 number of clusters =  12\n",
      "Res changed to 0.7999999999999999\n",
      "Res =  0.8999999999999999 number of clusters =  13\n",
      "Res changed to 0.8999999999999999\n",
      "Res =  0.9999999999999999 number of clusters =  14\n",
      "Recommended res =  0.9999999999999999\n"
     ]
    }
   ],
   "source": [
    "# 5,6,7,8,9,10 subclusters (sim53 error)\n",
    "ct_num = [6, 7, (9+17), 6, 7, 9, 6, 7, (9+1), 6, 7, 9, 6, 7, (9+1),\n",
    "          7, 8, 10, 7, 8, 10, 7, 8, 10, 7, 8, 10, 7, 8, 10,\n",
    "          8, 9, 11, 8, 9, 11, 8, 9, (11+19), 8, 9, (11+2), 8, 9, 11,\n",
    "          9, 10, 12, 9, 10, 12, 9, 10, 12, 9, 10, 12, 9, 10, 12,\n",
    "          10, 11, 13, 10, 11, 13, 10, 11, (13+17), 10, 11, 13, 10, 11, 13,\n",
    "          11, 12, 14, 11, 12, 14, 11, 12, 14, 11, 12, 14, 11, 12, 14]\n",
    "sim_id = ['sim51', 'sim52', 'sim53', 'sim54', 'sim55', 'sim56', 'sim57', 'sim58', 'sim59', 'sim60', 'sim61', 'sim62', 'sim63', 'sim64', 'sim65',\n",
    "          'sim66', 'sim67', 'sim68', 'sim69', 'sim70', 'sim71', 'sim72', 'sim73', 'sim74', 'sim75', 'sim76', 'sim77', 'sim78', 'sim79', 'sim80',\n",
    "          'sim81', 'sim82', 'sim83', 'sim84', 'sim85', 'sim86', 'sim87', 'sim88', 'sim89', 'sim90', 'sim91', 'sim92', 'sim93', 'sim94', 'sim95',\n",
    "          'sim96', 'sim97', 'sim98', 'sim99', 'sim100', 'sim101', 'sim102', 'sim103', 'sim104', 'sim105', 'sim106', 'sim107', 'sim108', 'sim109', 'sim110',\n",
    "          'sim111', 'sim112', 'sim113', 'sim114', 'sim115', 'sim116', 'sim117', 'sim118', 'sim119', 'sim120', 'sim121', 'sim122', 'sim123', 'sim124', 'sim125',\n",
    "          'sim126', 'sim127', 'sim128', 'sim129', 'sim130', 'sim131', 'sim132', 'sim133', 'sim134', 'sim135', 'sim136', 'sim137', 'sim138', 'sim139', 'sim140']\n",
    "\n",
    "\n",
    "for i in range(90):\n",
    "    sc_data_dir = '~/workspace/scSpace/data/add_subcluster/original_data/' + sim_id[i] + '_sc_data.csv'\n",
    "    sc_meta_dir = '~/workspace/scSpace/data/add_subcluster/original_data/' + sim_id[i] + '_sc_meta.csv'\n",
    "    st_data_dir = '~/workspace/scSpace/data/add_subcluster/original_data/' + sim_id[i] + '_st_data.csv'\n",
    "    st_meta_dir = '~/workspace/scSpace/data/add_subcluster/original_data/' + sim_id[i] + '_st_meta.csv'\n",
    "    sc_cogaps_dir = '~/workspace/scSpace/data/scCoGAPS/data/' + sim_id[i] + '_sc_cogaps.csv'\n",
    "    st_cogaps_dir = '~/workspace/scSpace/data/scCoGAPS/data/' + sim_id[i] + '_st_cogaps.csv'\n",
    "    \n",
    "    sc_obj, st_obj = scSpace.load_data(sc_data_path=sc_data_dir, sc_meta_path=sc_meta_dir, \n",
    "                                       st_data_path=st_data_dir, st_meta_path=st_meta_dir,\n",
    "                                       spatial_key=['pseudo_x','pseudo_y'])\n",
    "    \n",
    "    # pre-porcess\n",
    "    sc_obj, st_obj = scSpace.preporcess(sc_adata=sc_obj, st_adata=st_obj, \n",
    "                                        st_type='spot', n_features=2000, normalize=True)\n",
    "    \n",
    "    sc_cogaps = pd.read_csv(sc_cogaps_dir, index_col=0)\n",
    "    st_cogaps = pd.read_csv(st_cogaps_dir, index_col=0)\n",
    "    sc_obj.obsm['TCA'] = np.array(sc_cogaps)\n",
    "    st_obj.obsm['TCA'] = np.array(st_cogaps)\n",
    "    \n",
    "    \n",
    "    setup_seed(123)\n",
    "    \n",
    "    starttime = time.time()\n",
    "\n",
    "    st_dataloader = scSpace.utils.get_data_loader(st_adata=st_obj, batch_size=128)\n",
    "    mlp = scSpace.utils.init_model(net=scSpace.models.sample_MLPEncoder(input_size=st_obj.obsm['TCA'].shape[1], common_size=2, hidden_size=128, activation='sigmoid'))\n",
    "    print('Beginning training encoder for source domain...')\n",
    "    losses = []\n",
    "    encoder = scSpace.utils.train(encoder=mlp, losses=losses, data_loader=st_dataloader, lr=0.001, epoch_num=1000, log_epoch=1000)\n",
    "    print('Encoder for source domain training finished.')  \n",
    "    encoder.eval()\n",
    "    sc_tca = np.array(sc_obj.obsm['TCA'])\n",
    "    predict = encoder(scSpace.utils.make_cuda(torch.tensor(sc_tca).to(torch.float32)))\n",
    "    pseudo_space = predict.cpu().detach().numpy()\n",
    "    sc_obj.obsm['pseudo_space'] = pseudo_space\n",
    "    \n",
    "    sc_obj = scSpace.spatial_cluster(sc_obj, Ks=10, Kg=20, target_num=ct_num[i])\n",
    "    \n",
    "    endtime = time.time()\n",
    "    running_time = endtime - starttime\n",
    "    running_time_all.append(running_time)\n",
    "    \n",
    "    pseudo_space_dir = '~/workspace/scSpace/data/scCoGAPS/result/' + sim_id[i] + '_pseudo_space.csv'\n",
    "    scspace_clu_dir = '~/workspace/scSpace/data/scCoGAPS/result/' + sim_id[i] + '_cluster_res.csv'\n",
    "    \n",
    "    pd.DataFrame(sc_obj.obsm['pseudo_space']).to_csv(pseudo_space_dir)\n",
    "    sc_obj.obs.to_csv(scspace_clu_dir)"
   ]
  },
  {
   "cell_type": "code",
   "execution_count": 11,
   "id": "ac6de459-4779-4566-b2c3-db99d5299720",
   "metadata": {},
   "outputs": [],
   "source": [
    "pd.DataFrame(running_time_all).to_csv('~/workspace/scSpace/data/scCoGAPS/result/cluster_runtime_sim51_140.csv')"
   ]
  },
  {
   "cell_type": "code",
   "execution_count": null,
   "id": "dfd4a0ac-0240-4600-b6cc-5d65a1a1e82f",
   "metadata": {},
   "outputs": [],
   "source": []
  },
  {
   "cell_type": "code",
   "execution_count": null,
   "id": "1e9758af-7715-4acf-bd7d-0b88d5147f1d",
   "metadata": {},
   "outputs": [],
   "source": []
  }
 ],
 "metadata": {
  "kernelspec": {
   "display_name": "scspace",
   "language": "python",
   "name": "scspace"
  },
  "language_info": {
   "codemirror_mode": {
    "name": "ipython",
    "version": 3
   },
   "file_extension": ".py",
   "mimetype": "text/x-python",
   "name": "python",
   "nbconvert_exporter": "python",
   "pygments_lexer": "ipython3",
   "version": "3.9.12"
  }
 },
 "nbformat": 4,
 "nbformat_minor": 5
}
