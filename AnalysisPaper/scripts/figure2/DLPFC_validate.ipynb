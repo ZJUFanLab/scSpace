{
 "cells": [
  {
   "cell_type": "code",
   "execution_count": 1,
   "id": "4a63d847",
   "metadata": {},
   "outputs": [],
   "source": [
    "import scSpace\n",
    "import scanpy as sc\n",
    "import anndata as ad\n",
    "import matplotlib.pyplot as plt\n",
    "import matplotlib.colors as clr\n",
    "import numpy as np\n",
    "import scipy.io\n",
    "import scipy.linalg\n",
    "import sklearn.metrics\n",
    "import pandas as pd\n",
    "import random\n",
    "import torch\n",
    "from tqdm import tqdm\n",
    "from scipy.stats import pearsonr\n",
    "from scipy.spatial.distance import squareform, pdist\n",
    "import seaborn as sns\n",
    "import time\n",
    "import warnings\n",
    "warnings.filterwarnings(\"ignore\")"
   ]
  },
  {
   "cell_type": "code",
   "execution_count": 2,
   "id": "182c2932",
   "metadata": {},
   "outputs": [],
   "source": [
    "def setup_seed(seed):\n",
    "    torch.manual_seed(seed)\n",
    "    torch.cuda.manual_seed_all(seed)\n",
    "    torch.cuda.manual_seed(seed)\n",
    "    np.random.seed(seed)\n",
    "    random.seed(seed)\n",
    "    torch.backends.cudnn.deterministic = True\n",
    "    torch.backends.cudnn.enabled = False\n",
    "    torch.backends.cudnn.benchmark = False"
   ]
  },
  {
   "cell_type": "code",
   "execution_count": 3,
   "id": "b5d7ceed-9841-4458-9fea-85b8ab1ab29a",
   "metadata": {},
   "outputs": [],
   "source": [
    "load_dir = '~/workspace/scSpace/data/DLPFC_new/data/'\n",
    "save_dir = '~/workspace/scSpace/data/DLPFC_new/result/'"
   ]
  },
  {
   "cell_type": "code",
   "execution_count": 4,
   "id": "a9411e95-060b-449b-8865-7ec964f86bdd",
   "metadata": {},
   "outputs": [],
   "source": [
    "pearson_list = []"
   ]
  },
  {
   "cell_type": "code",
   "execution_count": 5,
   "id": "2ae522ae-e2dc-4cd2-bbd8-bd4f0fc6307d",
   "metadata": {},
   "outputs": [
    {
     "name": "stdout",
     "output_type": "stream",
     "text": [
      "train slice: 151507 ; test slice: 151508\n",
      "Loading data...\n",
      "Data have been loaded.\n",
      "Data have been pre-processed.\n",
      "Beginning Transfer Component Analysis...\n",
      "Transfer Component Analysis done.\n",
      "Beginning training encoder for source domain...\n"
     ]
    },
    {
     "name": "stderr",
     "output_type": "stream",
     "text": [
      "100%|██████████| 1000/1000 [03:46<00:00,  4.41it/s]\n"
     ]
    },
    {
     "name": "stdout",
     "output_type": "stream",
     "text": [
      "Epoch [1000/1000]: Batch loss=3126.72705078125\n",
      "Encoder for source domain training finished.\n",
      "596.115380525589\n"
     ]
    },
    {
     "name": "stderr",
     "output_type": "stream",
     "text": [
      "100%|██████████| 4381/4381 [00:56<00:00, 77.73it/s] \n",
      "100%|██████████| 4381/4381 [00:22<00:00, 196.12it/s] \n"
     ]
    },
    {
     "name": "stdout",
     "output_type": "stream",
     "text": [
      "PCC =  0.592\n",
      "train slice: 151507 ; test slice: 151509\n",
      "Loading data...\n",
      "Data have been loaded.\n",
      "Data have been pre-processed.\n",
      "Beginning Transfer Component Analysis...\n",
      "Transfer Component Analysis done.\n",
      "Beginning training encoder for source domain...\n"
     ]
    },
    {
     "name": "stderr",
     "output_type": "stream",
     "text": [
      "100%|██████████| 1000/1000 [03:52<00:00,  4.31it/s]\n"
     ]
    },
    {
     "name": "stdout",
     "output_type": "stream",
     "text": [
      "Epoch [1000/1000]: Batch loss=3580.302734375\n",
      "Encoder for source domain training finished.\n",
      "424.964715719223\n"
     ]
    },
    {
     "name": "stderr",
     "output_type": "stream",
     "text": [
      "100%|██████████| 4788/4788 [01:08<00:00, 70.12it/s] \n",
      "100%|██████████| 4788/4788 [00:26<00:00, 181.34it/s]\n"
     ]
    },
    {
     "name": "stdout",
     "output_type": "stream",
     "text": [
      "PCC =  0.405\n",
      "train slice: 151507 ; test slice: 151510\n",
      "Loading data...\n",
      "Data have been loaded.\n",
      "Data have been pre-processed.\n",
      "Beginning Transfer Component Analysis...\n",
      "Transfer Component Analysis done.\n",
      "Beginning training encoder for source domain...\n"
     ]
    },
    {
     "name": "stderr",
     "output_type": "stream",
     "text": [
      "100%|██████████| 1000/1000 [03:51<00:00,  4.32it/s]\n"
     ]
    },
    {
     "name": "stdout",
     "output_type": "stream",
     "text": [
      "Epoch [1000/1000]: Batch loss=3433.43896484375\n",
      "Encoder for source domain training finished.\n",
      "919.4690673351288\n"
     ]
    },
    {
     "name": "stderr",
     "output_type": "stream",
     "text": [
      "100%|██████████| 4595/4595 [01:03<00:00, 72.50it/s] \n",
      "100%|██████████| 4595/4595 [00:24<00:00, 187.47it/s]\n"
     ]
    },
    {
     "name": "stdout",
     "output_type": "stream",
     "text": [
      "PCC =  0.382\n",
      "train slice: 151508 ; test slice: 151507\n",
      "Loading data...\n",
      "Data have been loaded.\n",
      "Data have been pre-processed.\n",
      "Beginning Transfer Component Analysis...\n",
      "Transfer Component Analysis done.\n",
      "Beginning training encoder for source domain...\n"
     ]
    },
    {
     "name": "stderr",
     "output_type": "stream",
     "text": [
      "100%|██████████| 1000/1000 [04:00<00:00,  4.16it/s]\n"
     ]
    },
    {
     "name": "stdout",
     "output_type": "stream",
     "text": [
      "Epoch [1000/1000]: Batch loss=3185.713134765625\n",
      "Encoder for source domain training finished.\n",
      "610.5376949310303\n"
     ]
    },
    {
     "name": "stderr",
     "output_type": "stream",
     "text": [
      "100%|██████████| 4221/4221 [00:53<00:00, 78.88it/s] \n",
      "100%|██████████| 4221/4221 [00:20<00:00, 204.40it/s] \n"
     ]
    },
    {
     "name": "stdout",
     "output_type": "stream",
     "text": [
      "PCC =  0.608\n",
      "train slice: 151508 ; test slice: 151509\n",
      "Loading data...\n",
      "Data have been loaded.\n",
      "Data have been pre-processed.\n",
      "Beginning Transfer Component Analysis...\n",
      "Transfer Component Analysis done.\n",
      "Beginning training encoder for source domain...\n"
     ]
    },
    {
     "name": "stderr",
     "output_type": "stream",
     "text": [
      "100%|██████████| 1000/1000 [03:59<00:00,  4.17it/s]\n"
     ]
    },
    {
     "name": "stdout",
     "output_type": "stream",
     "text": [
      "Epoch [1000/1000]: Batch loss=3589.727294921875\n",
      "Encoder for source domain training finished.\n",
      "426.4919741153717\n"
     ]
    },
    {
     "name": "stderr",
     "output_type": "stream",
     "text": [
      "100%|██████████| 4788/4788 [01:08<00:00, 69.53it/s] \n",
      "100%|██████████| 4788/4788 [00:26<00:00, 179.56it/s]\n"
     ]
    },
    {
     "name": "stdout",
     "output_type": "stream",
     "text": [
      "PCC =  0.43\n",
      "train slice: 151508 ; test slice: 151510\n",
      "Loading data...\n",
      "Data have been loaded.\n",
      "Data have been pre-processed.\n",
      "Beginning Transfer Component Analysis...\n",
      "Transfer Component Analysis done.\n",
      "Beginning training encoder for source domain...\n"
     ]
    },
    {
     "name": "stderr",
     "output_type": "stream",
     "text": [
      "100%|██████████| 1000/1000 [04:01<00:00,  4.14it/s]\n"
     ]
    },
    {
     "name": "stdout",
     "output_type": "stream",
     "text": [
      "Epoch [1000/1000]: Batch loss=3513.474609375\n",
      "Encoder for source domain training finished.\n",
      "450.977365732193\n"
     ]
    },
    {
     "name": "stderr",
     "output_type": "stream",
     "text": [
      "100%|██████████| 4595/4595 [01:03<00:00, 72.04it/s] \n",
      "100%|██████████| 4595/4595 [00:24<00:00, 184.57it/s] \n"
     ]
    },
    {
     "name": "stdout",
     "output_type": "stream",
     "text": [
      "PCC =  0.382\n",
      "train slice: 151509 ; test slice: 151507\n",
      "Loading data...\n",
      "Data have been loaded.\n",
      "Data have been pre-processed.\n",
      "Beginning Transfer Component Analysis...\n",
      "Transfer Component Analysis done.\n",
      "Beginning training encoder for source domain...\n"
     ]
    },
    {
     "name": "stderr",
     "output_type": "stream",
     "text": [
      "100%|██████████| 1000/1000 [04:20<00:00,  3.84it/s]\n"
     ]
    },
    {
     "name": "stdout",
     "output_type": "stream",
     "text": [
      "Epoch [1000/1000]: Batch loss=5162.5185546875\n",
      "Encoder for source domain training finished.\n",
      "452.6792027950287\n"
     ]
    },
    {
     "name": "stderr",
     "output_type": "stream",
     "text": [
      "100%|██████████| 4221/4221 [00:53<00:00, 78.74it/s] \n",
      "100%|██████████| 4221/4221 [00:20<00:00, 204.31it/s] \n"
     ]
    },
    {
     "name": "stdout",
     "output_type": "stream",
     "text": [
      "PCC =  0.436\n",
      "train slice: 151509 ; test slice: 151508\n",
      "Loading data...\n",
      "Data have been loaded.\n",
      "Data have been pre-processed.\n",
      "Beginning Transfer Component Analysis...\n",
      "Transfer Component Analysis done.\n",
      "Beginning training encoder for source domain...\n"
     ]
    },
    {
     "name": "stderr",
     "output_type": "stream",
     "text": [
      "100%|██████████| 1000/1000 [04:20<00:00,  3.84it/s]\n"
     ]
    },
    {
     "name": "stdout",
     "output_type": "stream",
     "text": [
      "Epoch [1000/1000]: Batch loss=5189.857421875\n",
      "Encoder for source domain training finished.\n",
      "446.8513231277466\n"
     ]
    },
    {
     "name": "stderr",
     "output_type": "stream",
     "text": [
      "100%|██████████| 4381/4381 [00:57<00:00, 75.86it/s] \n",
      "100%|██████████| 4381/4381 [00:22<00:00, 195.83it/s]\n"
     ]
    },
    {
     "name": "stdout",
     "output_type": "stream",
     "text": [
      "PCC =  0.475\n",
      "train slice: 151509 ; test slice: 151510\n",
      "Loading data...\n",
      "Data have been loaded.\n",
      "Data have been pre-processed.\n",
      "Beginning Transfer Component Analysis...\n",
      "Transfer Component Analysis done.\n",
      "Beginning training encoder for source domain...\n"
     ]
    },
    {
     "name": "stderr",
     "output_type": "stream",
     "text": [
      "100%|██████████| 1000/1000 [04:22<00:00,  3.80it/s]\n"
     ]
    },
    {
     "name": "stdout",
     "output_type": "stream",
     "text": [
      "Epoch [1000/1000]: Batch loss=5146.9951171875\n",
      "Encoder for source domain training finished.\n",
      "453.6802818775177\n"
     ]
    },
    {
     "name": "stderr",
     "output_type": "stream",
     "text": [
      "100%|██████████| 4595/4595 [01:03<00:00, 72.68it/s] \n",
      "100%|██████████| 4595/4595 [00:24<00:00, 186.05it/s]\n"
     ]
    },
    {
     "name": "stdout",
     "output_type": "stream",
     "text": [
      "PCC =  0.461\n",
      "train slice: 151510 ; test slice: 151507\n",
      "Loading data...\n",
      "Data have been loaded.\n",
      "Data have been pre-processed.\n",
      "Beginning Transfer Component Analysis...\n",
      "Transfer Component Analysis done.\n",
      "Beginning training encoder for source domain...\n"
     ]
    },
    {
     "name": "stderr",
     "output_type": "stream",
     "text": [
      "100%|██████████| 1000/1000 [04:11<00:00,  3.98it/s]\n"
     ]
    },
    {
     "name": "stdout",
     "output_type": "stream",
     "text": [
      "Epoch [1000/1000]: Batch loss=5241.3505859375\n",
      "Encoder for source domain training finished.\n",
      "459.4092929363251\n"
     ]
    },
    {
     "name": "stderr",
     "output_type": "stream",
     "text": [
      "100%|██████████| 4221/4221 [00:53<00:00, 78.78it/s] \n",
      "100%|██████████| 4221/4221 [00:20<00:00, 201.87it/s]\n"
     ]
    },
    {
     "name": "stdout",
     "output_type": "stream",
     "text": [
      "PCC =  0.426\n",
      "train slice: 151510 ; test slice: 151508\n",
      "Loading data...\n",
      "Data have been loaded.\n",
      "Data have been pre-processed.\n",
      "Beginning Transfer Component Analysis...\n",
      "Transfer Component Analysis done.\n",
      "Beginning training encoder for source domain...\n"
     ]
    },
    {
     "name": "stderr",
     "output_type": "stream",
     "text": [
      "100%|██████████| 1000/1000 [04:12<00:00,  3.95it/s]\n"
     ]
    },
    {
     "name": "stdout",
     "output_type": "stream",
     "text": [
      "Epoch [1000/1000]: Batch loss=5119.138671875\n",
      "Encoder for source domain training finished.\n",
      "455.8023843765259\n"
     ]
    },
    {
     "name": "stderr",
     "output_type": "stream",
     "text": [
      "100%|██████████| 4381/4381 [00:57<00:00, 75.82it/s] \n",
      "100%|██████████| 4381/4381 [00:22<00:00, 194.36it/s]\n"
     ]
    },
    {
     "name": "stdout",
     "output_type": "stream",
     "text": [
      "PCC =  0.434\n",
      "train slice: 151510 ; test slice: 151509\n",
      "Loading data...\n",
      "Data have been loaded.\n",
      "Data have been pre-processed.\n",
      "Beginning Transfer Component Analysis...\n",
      "Transfer Component Analysis done.\n",
      "Beginning training encoder for source domain...\n"
     ]
    },
    {
     "name": "stderr",
     "output_type": "stream",
     "text": [
      "100%|██████████| 1000/1000 [04:10<00:00,  3.99it/s]\n"
     ]
    },
    {
     "name": "stdout",
     "output_type": "stream",
     "text": [
      "Epoch [1000/1000]: Batch loss=5266.83154296875\n",
      "Encoder for source domain training finished.\n",
      "442.69712495803833\n"
     ]
    },
    {
     "name": "stderr",
     "output_type": "stream",
     "text": [
      "100%|██████████| 4788/4788 [01:08<00:00, 69.73it/s] \n",
      "100%|██████████| 4788/4788 [00:26<00:00, 179.79it/s] \n"
     ]
    },
    {
     "name": "stdout",
     "output_type": "stream",
     "text": [
      "PCC =  0.492\n"
     ]
    }
   ],
   "source": [
    "# slice 151507, 151508, 151509, 151510\n",
    "train_list = ['151507', '151508', '151509', '151510']\n",
    "test_list = [['151508', '151509', '151510'], ['151507', '151509', '151510'], ['151507', '151508', '151510'], ['151507', '151508', '151509']]\n",
    "for i in range(4):\n",
    "    train_data = load_dir + train_list[i] + '_data.csv'\n",
    "    train_meta = load_dir + train_list[i] + '_meta.csv'\n",
    "    test_all = test_list[i]\n",
    "    \n",
    "    for j in range(3):\n",
    "        test_data = load_dir + test_all[j] + '_data.csv'\n",
    "        test_meta = load_dir + test_all[j] + '_meta.csv'\n",
    "        \n",
    "        print('train slice:', train_list[i], '; test slice:', test_all[j])\n",
    "        \n",
    "        sc_obj, st_obj = scSpace.load_data(sc_data_path=test_data, sc_meta_path=test_meta, st_data_path=train_data, st_meta_path=train_meta, spatial_key=['imagerow','imagecol'])\n",
    "        sc_obj_hvg, st_obj_hvg = scSpace.preporcess(sc_adata=sc_obj, st_adata=st_obj, st_type='spot', n_features=2000, normalize=True, select_hvg='union')\n",
    "        \n",
    "        setup_seed(123)\n",
    "        starttime = time.time()\n",
    "        sc_obj_hvg, st_obj_hvg = scSpace.construct_pseudo_space(\n",
    "            sc_adata=sc_obj_hvg,\n",
    "            st_adata=st_obj_hvg,\n",
    "            batch_size=16,\n",
    "            activation='sigmoid',\n",
    "            lr=0.001,\n",
    "            epoch_num=1000,\n",
    "            log_epoch=1000)\n",
    "        \n",
    "        endtime = time.time()\n",
    "        print(endtime - starttime)\n",
    "        \n",
    "        pseudo_dist = scSpace.cal_dist(sc_obj_hvg.obsm['pseudo_space'])\n",
    "        real_dist = scSpace.cal_dist(np.array(sc_obj_hvg.obs[['imagerow', 'imagecol']]))\n",
    "        pearson = round(pearsonr(pseudo_dist, real_dist)[0], 3)\n",
    "        print('PCC = ', pearson)\n",
    "\n",
    "        pseudo_space_dir = save_dir + test_all[j] + '_pseudo_space(' + 'trained_on_' + train_list[i] + ').csv'\n",
    "        pd.DataFrame(sc_obj_hvg.obsm['pseudo_space']).to_csv(pseudo_space_dir)\n",
    "        \n",
    "        pcc_res = [train_list[i], test_all[j], pearson]\n",
    "        pearson_list.append(pcc_res)\n",
    "    "
   ]
  },
  {
   "cell_type": "code",
   "execution_count": null,
   "id": "a2c0995e-7c9f-45e2-ba41-887b1c063bf7",
   "metadata": {},
   "outputs": [],
   "source": []
  },
  {
   "cell_type": "code",
   "execution_count": 6,
   "id": "ea2e9376-4862-4761-99f4-60304a9e5aea",
   "metadata": {},
   "outputs": [
    {
     "name": "stdout",
     "output_type": "stream",
     "text": [
      "train slice: 151669 ; test slice: 151670\n",
      "Loading data...\n",
      "Data have been loaded.\n",
      "Data have been pre-processed.\n",
      "Beginning Transfer Component Analysis...\n",
      "Transfer Component Analysis done.\n",
      "Beginning training encoder for source domain...\n"
     ]
    },
    {
     "name": "stderr",
     "output_type": "stream",
     "text": [
      "100%|██████████| 1000/1000 [03:18<00:00,  5.03it/s]\n"
     ]
    },
    {
     "name": "stdout",
     "output_type": "stream",
     "text": [
      "Epoch [1000/1000]: Batch loss=3007.218994140625\n",
      "Encoder for source domain training finished.\n",
      "392.80388593673706\n"
     ]
    },
    {
     "name": "stderr",
     "output_type": "stream",
     "text": [
      "100%|██████████| 3484/3484 [00:36<00:00, 96.11it/s] \n",
      "100%|██████████| 3484/3484 [00:14<00:00, 246.49it/s] \n"
     ]
    },
    {
     "name": "stdout",
     "output_type": "stream",
     "text": [
      "PCC =  0.523\n",
      "train slice: 151669 ; test slice: 151671\n",
      "Loading data...\n",
      "Data have been loaded.\n",
      "Data have been pre-processed.\n",
      "Beginning Transfer Component Analysis...\n",
      "Transfer Component Analysis done.\n",
      "Beginning training encoder for source domain...\n"
     ]
    },
    {
     "name": "stderr",
     "output_type": "stream",
     "text": [
      "100%|██████████| 1000/1000 [03:18<00:00,  5.04it/s]\n"
     ]
    },
    {
     "name": "stdout",
     "output_type": "stream",
     "text": [
      "Epoch [1000/1000]: Batch loss=3115.679931640625\n",
      "Encoder for source domain training finished.\n",
      "442.49358916282654\n"
     ]
    },
    {
     "name": "stderr",
     "output_type": "stream",
     "text": [
      "100%|██████████| 4093/4093 [00:49<00:00, 81.94it/s] \n",
      "100%|██████████| 4093/4093 [00:19<00:00, 212.73it/s]\n"
     ]
    },
    {
     "name": "stdout",
     "output_type": "stream",
     "text": [
      "PCC =  0.48\n",
      "train slice: 151669 ; test slice: 151672\n",
      "Loading data...\n",
      "Data have been loaded.\n",
      "Data have been pre-processed.\n",
      "Beginning Transfer Component Analysis...\n",
      "Transfer Component Analysis done.\n",
      "Beginning training encoder for source domain...\n"
     ]
    },
    {
     "name": "stderr",
     "output_type": "stream",
     "text": [
      "100%|██████████| 1000/1000 [03:20<00:00,  4.99it/s]\n"
     ]
    },
    {
     "name": "stdout",
     "output_type": "stream",
     "text": [
      "Epoch [1000/1000]: Batch loss=3506.58984375\n",
      "Encoder for source domain training finished.\n",
      "431.64752435684204\n"
     ]
    },
    {
     "name": "stderr",
     "output_type": "stream",
     "text": [
      "100%|██████████| 3888/3888 [00:45<00:00, 86.23it/s] \n",
      "100%|██████████| 3888/3888 [00:17<00:00, 220.38it/s] \n"
     ]
    },
    {
     "name": "stdout",
     "output_type": "stream",
     "text": [
      "PCC =  0.467\n",
      "train slice: 151670 ; test slice: 151669\n",
      "Loading data...\n",
      "Data have been loaded.\n",
      "Data have been pre-processed.\n",
      "Beginning Transfer Component Analysis...\n",
      "Transfer Component Analysis done.\n",
      "Beginning training encoder for source domain...\n"
     ]
    },
    {
     "name": "stderr",
     "output_type": "stream",
     "text": [
      "100%|██████████| 1000/1000 [03:10<00:00,  5.25it/s]\n"
     ]
    },
    {
     "name": "stdout",
     "output_type": "stream",
     "text": [
      "Epoch [1000/1000]: Batch loss=3272.12841796875\n",
      "Encoder for source domain training finished.\n",
      "384.3805637359619\n"
     ]
    },
    {
     "name": "stderr",
     "output_type": "stream",
     "text": [
      "100%|██████████| 3636/3636 [00:39<00:00, 91.65it/s] \n",
      "100%|██████████| 3636/3636 [00:15<00:00, 237.71it/s] \n"
     ]
    },
    {
     "name": "stdout",
     "output_type": "stream",
     "text": [
      "PCC =  0.572\n",
      "train slice: 151670 ; test slice: 151671\n",
      "Loading data...\n",
      "Data have been loaded.\n",
      "Data have been pre-processed.\n",
      "Beginning Transfer Component Analysis...\n",
      "Transfer Component Analysis done.\n",
      "Beginning training encoder for source domain...\n"
     ]
    },
    {
     "name": "stderr",
     "output_type": "stream",
     "text": [
      "100%|██████████| 1000/1000 [03:11<00:00,  5.22it/s]\n"
     ]
    },
    {
     "name": "stdout",
     "output_type": "stream",
     "text": [
      "Epoch [1000/1000]: Batch loss=3312.258544921875\n",
      "Encoder for source domain training finished.\n",
      "416.219934463501\n"
     ]
    },
    {
     "name": "stderr",
     "output_type": "stream",
     "text": [
      "100%|██████████| 4093/4093 [00:50<00:00, 81.40it/s] \n",
      "100%|██████████| 4093/4093 [00:19<00:00, 209.18it/s] \n"
     ]
    },
    {
     "name": "stdout",
     "output_type": "stream",
     "text": [
      "PCC =  0.414\n",
      "train slice: 151670 ; test slice: 151672\n",
      "Loading data...\n",
      "Data have been loaded.\n",
      "Data have been pre-processed.\n",
      "Beginning Transfer Component Analysis...\n",
      "Transfer Component Analysis done.\n",
      "Beginning training encoder for source domain...\n"
     ]
    },
    {
     "name": "stderr",
     "output_type": "stream",
     "text": [
      "100%|██████████| 1000/1000 [03:10<00:00,  5.24it/s]\n"
     ]
    },
    {
     "name": "stdout",
     "output_type": "stream",
     "text": [
      "Epoch [1000/1000]: Batch loss=3664.86083984375\n",
      "Encoder for source domain training finished.\n",
      "402.1391181945801\n"
     ]
    },
    {
     "name": "stderr",
     "output_type": "stream",
     "text": [
      "100%|██████████| 3888/3888 [00:45<00:00, 86.40it/s] \n",
      "100%|██████████| 3888/3888 [00:17<00:00, 222.92it/s] \n"
     ]
    },
    {
     "name": "stdout",
     "output_type": "stream",
     "text": [
      "PCC =  0.405\n",
      "train slice: 151671 ; test slice: 151669\n",
      "Loading data...\n",
      "Data have been loaded.\n",
      "Data have been pre-processed.\n",
      "Beginning Transfer Component Analysis...\n",
      "Transfer Component Analysis done.\n",
      "Beginning training encoder for source domain...\n"
     ]
    },
    {
     "name": "stderr",
     "output_type": "stream",
     "text": [
      "100%|██████████| 1000/1000 [03:43<00:00,  4.47it/s]\n"
     ]
    },
    {
     "name": "stdout",
     "output_type": "stream",
     "text": [
      "Epoch [1000/1000]: Batch loss=3906.82080078125\n",
      "Encoder for source domain training finished.\n",
      "470.21535444259644\n"
     ]
    },
    {
     "name": "stderr",
     "output_type": "stream",
     "text": [
      "100%|██████████| 3636/3636 [00:39<00:00, 92.24it/s] \n",
      "100%|██████████| 3636/3636 [00:15<00:00, 239.12it/s] \n"
     ]
    },
    {
     "name": "stdout",
     "output_type": "stream",
     "text": [
      "PCC =  0.521\n",
      "train slice: 151671 ; test slice: 151670\n",
      "Loading data...\n",
      "Data have been loaded.\n",
      "Data have been pre-processed.\n",
      "Beginning Transfer Component Analysis...\n",
      "Transfer Component Analysis done.\n",
      "Beginning training encoder for source domain...\n"
     ]
    },
    {
     "name": "stderr",
     "output_type": "stream",
     "text": [
      "100%|██████████| 1000/1000 [03:44<00:00,  4.46it/s]\n"
     ]
    },
    {
     "name": "stdout",
     "output_type": "stream",
     "text": [
      "Epoch [1000/1000]: Batch loss=3707.0634765625\n",
      "Encoder for source domain training finished.\n",
      "447.05296897888184\n"
     ]
    },
    {
     "name": "stderr",
     "output_type": "stream",
     "text": [
      "100%|██████████| 3484/3484 [00:36<00:00, 96.42it/s] \n",
      "100%|██████████| 3484/3484 [00:14<00:00, 248.32it/s] \n"
     ]
    },
    {
     "name": "stdout",
     "output_type": "stream",
     "text": [
      "PCC =  0.44\n",
      "train slice: 151671 ; test slice: 151672\n",
      "Loading data...\n",
      "Data have been loaded.\n",
      "Data have been pre-processed.\n",
      "Beginning Transfer Component Analysis...\n",
      "Transfer Component Analysis done.\n",
      "Beginning training encoder for source domain...\n"
     ]
    },
    {
     "name": "stderr",
     "output_type": "stream",
     "text": [
      "100%|██████████| 1000/1000 [03:43<00:00,  4.47it/s]\n"
     ]
    },
    {
     "name": "stdout",
     "output_type": "stream",
     "text": [
      "Epoch [1000/1000]: Batch loss=3607.30908203125\n",
      "Encoder for source domain training finished.\n",
      "447.4288992881775\n"
     ]
    },
    {
     "name": "stderr",
     "output_type": "stream",
     "text": [
      "100%|██████████| 3888/3888 [00:45<00:00, 85.81it/s] \n",
      "100%|██████████| 3888/3888 [00:17<00:00, 222.86it/s]\n"
     ]
    },
    {
     "name": "stdout",
     "output_type": "stream",
     "text": [
      "PCC =  0.562\n",
      "train slice: 151672 ; test slice: 151669\n",
      "Loading data...\n",
      "Data have been loaded.\n",
      "Data have been pre-processed.\n",
      "Beginning Transfer Component Analysis...\n",
      "Transfer Component Analysis done.\n",
      "Beginning training encoder for source domain...\n"
     ]
    },
    {
     "name": "stderr",
     "output_type": "stream",
     "text": [
      "100%|██████████| 1000/1000 [03:33<00:00,  4.67it/s]\n"
     ]
    },
    {
     "name": "stdout",
     "output_type": "stream",
     "text": [
      "Epoch [1000/1000]: Batch loss=3808.965087890625\n",
      "Encoder for source domain training finished.\n",
      "449.3712737560272\n"
     ]
    },
    {
     "name": "stderr",
     "output_type": "stream",
     "text": [
      "100%|██████████| 3636/3636 [00:39<00:00, 92.34it/s] \n",
      "100%|██████████| 3636/3636 [00:15<00:00, 238.34it/s]\n"
     ]
    },
    {
     "name": "stdout",
     "output_type": "stream",
     "text": [
      "PCC =  0.492\n",
      "train slice: 151672 ; test slice: 151670\n",
      "Loading data...\n",
      "Data have been loaded.\n",
      "Data have been pre-processed.\n",
      "Beginning Transfer Component Analysis...\n",
      "Transfer Component Analysis done.\n",
      "Beginning training encoder for source domain...\n"
     ]
    },
    {
     "name": "stderr",
     "output_type": "stream",
     "text": [
      "100%|██████████| 1000/1000 [03:33<00:00,  4.69it/s]\n"
     ]
    },
    {
     "name": "stdout",
     "output_type": "stream",
     "text": [
      "Epoch [1000/1000]: Batch loss=3812.393798828125\n",
      "Encoder for source domain training finished.\n",
      "425.02335238456726\n"
     ]
    },
    {
     "name": "stderr",
     "output_type": "stream",
     "text": [
      "100%|██████████| 3484/3484 [00:36<00:00, 95.78it/s] \n",
      "100%|██████████| 3484/3484 [00:14<00:00, 248.40it/s] \n"
     ]
    },
    {
     "name": "stdout",
     "output_type": "stream",
     "text": [
      "PCC =  0.413\n",
      "train slice: 151672 ; test slice: 151671\n",
      "Loading data...\n",
      "Data have been loaded.\n",
      "Data have been pre-processed.\n",
      "Beginning Transfer Component Analysis...\n",
      "Transfer Component Analysis done.\n",
      "Beginning training encoder for source domain...\n"
     ]
    },
    {
     "name": "stderr",
     "output_type": "stream",
     "text": [
      "100%|██████████| 1000/1000 [03:30<00:00,  4.74it/s]\n"
     ]
    },
    {
     "name": "stdout",
     "output_type": "stream",
     "text": [
      "Epoch [1000/1000]: Batch loss=3480.390380859375\n",
      "Encoder for source domain training finished.\n",
      "433.71551394462585\n"
     ]
    },
    {
     "name": "stderr",
     "output_type": "stream",
     "text": [
      "100%|██████████| 4093/4093 [00:49<00:00, 81.97it/s] \n",
      "100%|██████████| 4093/4093 [00:19<00:00, 211.21it/s]\n"
     ]
    },
    {
     "name": "stdout",
     "output_type": "stream",
     "text": [
      "PCC =  0.576\n"
     ]
    }
   ],
   "source": [
    "# slice 151669, 151670, 151671, 151672\n",
    "train_list = ['151669', '151670', '151671', '151672']\n",
    "test_list = [['151670', '151671', '151672'], ['151669', '151671', '151672'], ['151669', '151670', '151672'], ['151669', '151670', '151671']]\n",
    "for i in range(4):\n",
    "    train_data = load_dir + train_list[i] + '_data.csv'\n",
    "    train_meta = load_dir + train_list[i] + '_meta.csv'\n",
    "    test_all = test_list[i]\n",
    "    \n",
    "    for j in range(3):\n",
    "        test_data = load_dir + test_all[j] + '_data.csv'\n",
    "        test_meta = load_dir + test_all[j] + '_meta.csv'\n",
    "        \n",
    "        print('train slice:', train_list[i], '; test slice:', test_all[j])\n",
    "        \n",
    "        sc_obj, st_obj = scSpace.load_data(sc_data_path=test_data, sc_meta_path=test_meta, st_data_path=train_data, st_meta_path=train_meta, spatial_key=['imagerow','imagecol'])\n",
    "        sc_obj_hvg, st_obj_hvg = scSpace.preporcess(sc_adata=sc_obj, st_adata=st_obj, st_type='spot', n_features=2000, normalize=True, select_hvg='union')\n",
    "        \n",
    "        setup_seed(123)\n",
    "        starttime = time.time()\n",
    "        sc_obj_hvg, st_obj_hvg = scSpace.construct_pseudo_space(\n",
    "            sc_adata=sc_obj_hvg,\n",
    "            st_adata=st_obj_hvg,\n",
    "            batch_size=16,\n",
    "            activation='sigmoid',\n",
    "            lr=0.001,\n",
    "            epoch_num=1000,\n",
    "            log_epoch=1000)\n",
    "        \n",
    "        endtime = time.time()\n",
    "        print(endtime - starttime)\n",
    "        \n",
    "        pseudo_dist = scSpace.cal_dist(sc_obj_hvg.obsm['pseudo_space'])\n",
    "        real_dist = scSpace.cal_dist(np.array(sc_obj_hvg.obs[['imagerow', 'imagecol']]))\n",
    "        pearson = round(pearsonr(pseudo_dist, real_dist)[0], 3)\n",
    "        print('PCC = ', pearson)\n",
    "\n",
    "        pseudo_space_dir = save_dir + test_all[j] + '_pseudo_space(' + 'trained_on_' + train_list[i] + ').csv'\n",
    "        pd.DataFrame(sc_obj_hvg.obsm['pseudo_space']).to_csv(pseudo_space_dir)\n",
    "        \n",
    "        pcc_res = [train_list[i], test_all[j], pearson]\n",
    "        pearson_list.append(pcc_res)"
   ]
  },
  {
   "cell_type": "code",
   "execution_count": null,
   "id": "6260a2d4-2b6a-4a9c-a874-5d76e9d900a5",
   "metadata": {},
   "outputs": [],
   "source": []
  },
  {
   "cell_type": "code",
   "execution_count": 7,
   "id": "ce47e607-40ef-422d-972f-67ea84ca07f5",
   "metadata": {},
   "outputs": [
    {
     "name": "stdout",
     "output_type": "stream",
     "text": [
      "train slice: 151673 ; test slice: 151674\n",
      "Loading data...\n",
      "Data have been loaded.\n",
      "Data have been pre-processed.\n",
      "Beginning Transfer Component Analysis...\n",
      "Transfer Component Analysis done.\n",
      "Beginning training encoder for source domain...\n"
     ]
    },
    {
     "name": "stderr",
     "output_type": "stream",
     "text": [
      "100%|██████████| 1000/1000 [03:16<00:00,  5.10it/s]\n"
     ]
    },
    {
     "name": "stdout",
     "output_type": "stream",
     "text": [
      "Epoch [1000/1000]: Batch loss=2793.10009765625\n",
      "Encoder for source domain training finished.\n",
      "383.5360553264618\n"
     ]
    },
    {
     "name": "stderr",
     "output_type": "stream",
     "text": [
      "100%|██████████| 3635/3635 [00:39<00:00, 92.10it/s] \n",
      "100%|██████████| 3635/3635 [00:15<00:00, 237.08it/s] \n"
     ]
    },
    {
     "name": "stdout",
     "output_type": "stream",
     "text": [
      "PCC =  0.664\n",
      "train slice: 151673 ; test slice: 151675\n",
      "Loading data...\n",
      "Data have been loaded.\n",
      "Data have been pre-processed.\n",
      "Beginning Transfer Component Analysis...\n",
      "Transfer Component Analysis done.\n",
      "Beginning training encoder for source domain...\n"
     ]
    },
    {
     "name": "stderr",
     "output_type": "stream",
     "text": [
      "100%|██████████| 1000/1000 [03:17<00:00,  5.05it/s]\n"
     ]
    },
    {
     "name": "stdout",
     "output_type": "stream",
     "text": [
      "Epoch [1000/1000]: Batch loss=2718.256103515625\n",
      "Encoder for source domain training finished.\n",
      "362.51396131515503\n"
     ]
    },
    {
     "name": "stderr",
     "output_type": "stream",
     "text": [
      "100%|██████████| 3566/3566 [00:37<00:00, 93.88it/s] \n",
      "100%|██████████| 3566/3566 [00:14<00:00, 241.90it/s]\n"
     ]
    },
    {
     "name": "stdout",
     "output_type": "stream",
     "text": [
      "PCC =  0.586\n",
      "train slice: 151673 ; test slice: 151676\n",
      "Loading data...\n",
      "Data have been loaded.\n",
      "Data have been pre-processed.\n",
      "Beginning Transfer Component Analysis...\n",
      "Transfer Component Analysis done.\n",
      "Beginning training encoder for source domain...\n"
     ]
    },
    {
     "name": "stderr",
     "output_type": "stream",
     "text": [
      "100%|██████████| 1000/1000 [03:16<00:00,  5.09it/s]\n"
     ]
    },
    {
     "name": "stdout",
     "output_type": "stream",
     "text": [
      "Epoch [1000/1000]: Batch loss=2967.793212890625\n",
      "Encoder for source domain training finished.\n",
      "397.2481427192688\n"
     ]
    },
    {
     "name": "stderr",
     "output_type": "stream",
     "text": [
      "100%|██████████| 3431/3431 [00:35<00:00, 97.47it/s] \n",
      "100%|██████████| 3431/3431 [00:13<00:00, 250.74it/s]\n"
     ]
    },
    {
     "name": "stdout",
     "output_type": "stream",
     "text": [
      "PCC =  0.618\n",
      "train slice: 151674 ; test slice: 151673\n",
      "Loading data...\n",
      "Data have been loaded.\n",
      "Data have been pre-processed.\n",
      "Beginning Transfer Component Analysis...\n",
      "Transfer Component Analysis done.\n",
      "Beginning training encoder for source domain...\n"
     ]
    },
    {
     "name": "stderr",
     "output_type": "stream",
     "text": [
      "100%|██████████| 1000/1000 [03:19<00:00,  5.02it/s]\n"
     ]
    },
    {
     "name": "stdout",
     "output_type": "stream",
     "text": [
      "Epoch [1000/1000]: Batch loss=2348.548828125\n",
      "Encoder for source domain training finished.\n",
      "385.22094440460205\n"
     ]
    },
    {
     "name": "stderr",
     "output_type": "stream",
     "text": [
      "100%|██████████| 3611/3611 [00:38<00:00, 92.85it/s] \n",
      "100%|██████████| 3611/3611 [00:15<00:00, 238.63it/s]\n"
     ]
    },
    {
     "name": "stdout",
     "output_type": "stream",
     "text": [
      "PCC =  0.637\n",
      "train slice: 151674 ; test slice: 151675\n",
      "Loading data...\n",
      "Data have been loaded.\n",
      "Data have been pre-processed.\n",
      "Beginning Transfer Component Analysis...\n",
      "Transfer Component Analysis done.\n",
      "Beginning training encoder for source domain...\n"
     ]
    },
    {
     "name": "stderr",
     "output_type": "stream",
     "text": [
      "100%|██████████| 1000/1000 [03:23<00:00,  4.91it/s]\n"
     ]
    },
    {
     "name": "stdout",
     "output_type": "stream",
     "text": [
      "Epoch [1000/1000]: Batch loss=2134.266357421875\n",
      "Encoder for source domain training finished.\n",
      "364.80645775794983\n"
     ]
    },
    {
     "name": "stderr",
     "output_type": "stream",
     "text": [
      "100%|██████████| 3566/3566 [00:38<00:00, 92.03it/s] \n",
      "100%|██████████| 3566/3566 [00:14<00:00, 241.11it/s] \n"
     ]
    },
    {
     "name": "stdout",
     "output_type": "stream",
     "text": [
      "PCC =  0.607\n",
      "train slice: 151674 ; test slice: 151676\n",
      "Loading data...\n",
      "Data have been loaded.\n",
      "Data have been pre-processed.\n",
      "Beginning Transfer Component Analysis...\n",
      "Transfer Component Analysis done.\n",
      "Beginning training encoder for source domain...\n"
     ]
    },
    {
     "name": "stderr",
     "output_type": "stream",
     "text": [
      "100%|██████████| 1000/1000 [03:19<00:00,  5.02it/s]\n"
     ]
    },
    {
     "name": "stdout",
     "output_type": "stream",
     "text": [
      "Epoch [1000/1000]: Batch loss=2313.873291015625\n",
      "Encoder for source domain training finished.\n",
      "370.4643042087555\n"
     ]
    },
    {
     "name": "stderr",
     "output_type": "stream",
     "text": [
      "100%|██████████| 3431/3431 [00:35<00:00, 97.47it/s] \n",
      "100%|██████████| 3431/3431 [00:13<00:00, 251.20it/s] \n"
     ]
    },
    {
     "name": "stdout",
     "output_type": "stream",
     "text": [
      "PCC =  0.648\n",
      "train slice: 151675 ; test slice: 151673\n",
      "Loading data...\n",
      "Data have been loaded.\n",
      "Data have been pre-processed.\n",
      "Beginning Transfer Component Analysis...\n",
      "Transfer Component Analysis done.\n",
      "Beginning training encoder for source domain...\n"
     ]
    },
    {
     "name": "stderr",
     "output_type": "stream",
     "text": [
      "100%|██████████| 1000/1000 [03:16<00:00,  5.10it/s]\n"
     ]
    },
    {
     "name": "stdout",
     "output_type": "stream",
     "text": [
      "Epoch [1000/1000]: Batch loss=2855.2001953125\n",
      "Encoder for source domain training finished.\n",
      "360.18843364715576\n"
     ]
    },
    {
     "name": "stderr",
     "output_type": "stream",
     "text": [
      "100%|██████████| 3611/3611 [00:39<00:00, 92.33it/s] \n",
      "100%|██████████| 3611/3611 [00:15<00:00, 239.40it/s] \n"
     ]
    },
    {
     "name": "stdout",
     "output_type": "stream",
     "text": [
      "PCC =  0.626\n",
      "train slice: 151675 ; test slice: 151674\n",
      "Loading data...\n",
      "Data have been loaded.\n",
      "Data have been pre-processed.\n",
      "Beginning Transfer Component Analysis...\n",
      "Transfer Component Analysis done.\n",
      "Beginning training encoder for source domain...\n"
     ]
    },
    {
     "name": "stderr",
     "output_type": "stream",
     "text": [
      "100%|██████████| 1000/1000 [03:13<00:00,  5.16it/s]\n"
     ]
    },
    {
     "name": "stdout",
     "output_type": "stream",
     "text": [
      "Epoch [1000/1000]: Batch loss=2619.53466796875\n",
      "Encoder for source domain training finished.\n",
      "353.4306330680847\n"
     ]
    },
    {
     "name": "stderr",
     "output_type": "stream",
     "text": [
      "100%|██████████| 3635/3635 [00:39<00:00, 91.97it/s] \n",
      "100%|██████████| 3635/3635 [00:15<00:00, 238.31it/s] \n"
     ]
    },
    {
     "name": "stdout",
     "output_type": "stream",
     "text": [
      "PCC =  0.675\n",
      "train slice: 151675 ; test slice: 151676\n",
      "Loading data...\n",
      "Data have been loaded.\n",
      "Data have been pre-processed.\n",
      "Beginning Transfer Component Analysis...\n",
      "Transfer Component Analysis done.\n",
      "Beginning training encoder for source domain...\n"
     ]
    },
    {
     "name": "stderr",
     "output_type": "stream",
     "text": [
      "100%|██████████| 1000/1000 [03:15<00:00,  5.11it/s]\n"
     ]
    },
    {
     "name": "stdout",
     "output_type": "stream",
     "text": [
      "Epoch [1000/1000]: Batch loss=2843.829833984375\n",
      "Encoder for source domain training finished.\n",
      "399.1921708583832\n"
     ]
    },
    {
     "name": "stderr",
     "output_type": "stream",
     "text": [
      "100%|██████████| 3431/3431 [00:35<00:00, 97.28it/s] \n",
      "100%|██████████| 3431/3431 [00:13<00:00, 252.67it/s] \n"
     ]
    },
    {
     "name": "stdout",
     "output_type": "stream",
     "text": [
      "PCC =  0.625\n",
      "train slice: 151676 ; test slice: 151673\n",
      "Loading data...\n",
      "Data have been loaded.\n",
      "Data have been pre-processed.\n",
      "Beginning Transfer Component Analysis...\n",
      "Transfer Component Analysis done.\n",
      "Beginning training encoder for source domain...\n"
     ]
    },
    {
     "name": "stderr",
     "output_type": "stream",
     "text": [
      "100%|██████████| 1000/1000 [03:08<00:00,  5.31it/s]\n"
     ]
    },
    {
     "name": "stdout",
     "output_type": "stream",
     "text": [
      "Epoch [1000/1000]: Batch loss=2712.07666015625\n",
      "Encoder for source domain training finished.\n",
      "388.2280366420746\n"
     ]
    },
    {
     "name": "stderr",
     "output_type": "stream",
     "text": [
      "100%|██████████| 3611/3611 [00:39<00:00, 92.48it/s] \n",
      "100%|██████████| 3611/3611 [00:15<00:00, 239.15it/s] \n"
     ]
    },
    {
     "name": "stdout",
     "output_type": "stream",
     "text": [
      "PCC =  0.607\n",
      "train slice: 151676 ; test slice: 151674\n",
      "Loading data...\n",
      "Data have been loaded.\n",
      "Data have been pre-processed.\n",
      "Beginning Transfer Component Analysis...\n",
      "Transfer Component Analysis done.\n",
      "Beginning training encoder for source domain...\n"
     ]
    },
    {
     "name": "stderr",
     "output_type": "stream",
     "text": [
      "100%|██████████| 1000/1000 [03:07<00:00,  5.34it/s]\n"
     ]
    },
    {
     "name": "stdout",
     "output_type": "stream",
     "text": [
      "Epoch [1000/1000]: Batch loss=2374.4794921875\n",
      "Encoder for source domain training finished.\n",
      "358.61723160743713\n"
     ]
    },
    {
     "name": "stderr",
     "output_type": "stream",
     "text": [
      "100%|██████████| 3635/3635 [00:39<00:00, 91.81it/s] \n",
      "100%|██████████| 3635/3635 [00:15<00:00, 236.81it/s] \n"
     ]
    },
    {
     "name": "stdout",
     "output_type": "stream",
     "text": [
      "PCC =  0.672\n",
      "train slice: 151676 ; test slice: 151675\n",
      "Loading data...\n",
      "Data have been loaded.\n",
      "Data have been pre-processed.\n",
      "Beginning Transfer Component Analysis...\n",
      "Transfer Component Analysis done.\n",
      "Beginning training encoder for source domain...\n"
     ]
    },
    {
     "name": "stderr",
     "output_type": "stream",
     "text": [
      "100%|██████████| 1000/1000 [03:09<00:00,  5.27it/s]\n"
     ]
    },
    {
     "name": "stdout",
     "output_type": "stream",
     "text": [
      "Epoch [1000/1000]: Batch loss=2548.54736328125\n",
      "Encoder for source domain training finished.\n",
      "394.9577753543854\n"
     ]
    },
    {
     "name": "stderr",
     "output_type": "stream",
     "text": [
      "100%|██████████| 3566/3566 [00:38<00:00, 93.47it/s] \n",
      "100%|██████████| 3566/3566 [00:14<00:00, 242.25it/s]\n"
     ]
    },
    {
     "name": "stdout",
     "output_type": "stream",
     "text": [
      "PCC =  0.573\n"
     ]
    }
   ],
   "source": [
    "# slice 151673, 151674, 151675, 151676\n",
    "train_list = ['151673', '151674', '151675', '151676']\n",
    "test_list = [['151674', '151675', '151676'], ['151673', '151675', '151676'], ['151673', '151674', '151676'], ['151673', '151674', '151675']]\n",
    "for i in range(4):\n",
    "    train_data = load_dir + train_list[i] + '_data.csv'\n",
    "    train_meta = load_dir + train_list[i] + '_meta.csv'\n",
    "    test_all = test_list[i]\n",
    "    \n",
    "    for j in range(3):\n",
    "        test_data = load_dir + test_all[j] + '_data.csv'\n",
    "        test_meta = load_dir + test_all[j] + '_meta.csv'\n",
    "        \n",
    "        print('train slice:', train_list[i], '; test slice:', test_all[j])\n",
    "        \n",
    "        sc_obj, st_obj = scSpace.load_data(sc_data_path=test_data, sc_meta_path=test_meta, st_data_path=train_data, st_meta_path=train_meta, spatial_key=['imagerow','imagecol'])\n",
    "        sc_obj_hvg, st_obj_hvg = scSpace.preporcess(sc_adata=sc_obj, st_adata=st_obj, st_type='spot', n_features=2000, normalize=True, select_hvg='union')\n",
    "        \n",
    "        setup_seed(123)\n",
    "        starttime = time.time()\n",
    "        sc_obj_hvg, st_obj_hvg = scSpace.construct_pseudo_space(\n",
    "            sc_adata=sc_obj_hvg,\n",
    "            st_adata=st_obj_hvg,\n",
    "            batch_size=16,\n",
    "            activation='sigmoid',\n",
    "            lr=0.001,\n",
    "            epoch_num=1000,\n",
    "            log_epoch=1000)\n",
    "        \n",
    "        endtime = time.time()\n",
    "        print(endtime - starttime)\n",
    "        \n",
    "        pseudo_dist = scSpace.cal_dist(sc_obj_hvg.obsm['pseudo_space'])\n",
    "        real_dist = scSpace.cal_dist(np.array(sc_obj_hvg.obs[['imagerow', 'imagecol']]))\n",
    "        pearson = round(pearsonr(pseudo_dist, real_dist)[0], 3)\n",
    "        print('PCC = ', pearson)\n",
    "\n",
    "        pseudo_space_dir = save_dir + test_all[j] + '_pseudo_space(' + 'trained_on_' + train_list[i] + ').csv'\n",
    "        pd.DataFrame(sc_obj_hvg.obsm['pseudo_space']).to_csv(pseudo_space_dir)\n",
    "        \n",
    "        pcc_res = [train_list[i], test_all[j], pearson]\n",
    "        pearson_list.append(pcc_res)"
   ]
  },
  {
   "cell_type": "code",
   "execution_count": null,
   "id": "2320f3dd-19ce-4c4c-b91c-d8f058c93021",
   "metadata": {},
   "outputs": [],
   "source": []
  },
  {
   "cell_type": "code",
   "execution_count": 8,
   "id": "aa62b522-e4f4-4426-99bb-ff77e0576fb9",
   "metadata": {},
   "outputs": [],
   "source": [
    "pd.DataFrame(pearson_list).to_csv('~/workspace/scSpace/data/DLPFC_new/result/pcc_res.csv')"
   ]
  },
  {
   "cell_type": "code",
   "execution_count": null,
   "id": "5f785db0-ed18-4b7c-aef8-47b8bc67c1b9",
   "metadata": {},
   "outputs": [],
   "source": []
  },
  {
   "cell_type": "code",
   "execution_count": null,
   "id": "265a4f5e-b7e8-4ed6-90dd-832734c93984",
   "metadata": {},
   "outputs": [],
   "source": []
  },
  {
   "cell_type": "code",
   "execution_count": null,
   "id": "e1de9693-5b5d-46d6-ad15-f48f39446d5a",
   "metadata": {},
   "outputs": [],
   "source": []
  },
  {
   "cell_type": "code",
   "execution_count": null,
   "id": "18658f09",
   "metadata": {},
   "outputs": [],
   "source": []
  }
 ],
 "metadata": {
  "kernelspec": {
   "display_name": "scspace",
   "language": "python",
   "name": "scspace"
  },
  "language_info": {
   "codemirror_mode": {
    "name": "ipython",
    "version": 3
   },
   "file_extension": ".py",
   "mimetype": "text/x-python",
   "name": "python",
   "nbconvert_exporter": "python",
   "pygments_lexer": "ipython3",
   "version": "3.9.12"
  }
 },
 "nbformat": 4,
 "nbformat_minor": 5
}
